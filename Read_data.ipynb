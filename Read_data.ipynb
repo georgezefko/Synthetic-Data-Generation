{
  "nbformat": 4,
  "nbformat_minor": 0,
  "metadata": {
    "colab": {
      "name": "Read_data.ipynb",
      "provenance": [],
      "include_colab_link": true
    },
    "kernelspec": {
      "name": "python3",
      "display_name": "Python 3"
    },
    "accelerator": "GPU"
  },
  "cells": [
    {
      "cell_type": "markdown",
      "metadata": {
        "id": "view-in-github",
        "colab_type": "text"
      },
      "source": [
        "<a href=\"https://colab.research.google.com/github/georgezefko/car-part-segmentation/blob/main/Read_data.ipynb\" target=\"_parent\"><img src=\"https://colab.research.google.com/assets/colab-badge.svg\" alt=\"Open In Colab\"/></a>"
      ]
    },
    {
      "cell_type": "code",
      "metadata": {
        "id": "YAOthDL2vDVu",
        "outputId": "532033ac-49ca-478f-915e-a147e30ee397",
        "colab": {
          "base_uri": "https://localhost:8080/"
        }
      },
      "source": [
        "from google.colab import drive\n",
        "drive.mount('/content/drive', force_remount=True)"
      ],
      "execution_count": 188,
      "outputs": [
        {
          "output_type": "stream",
          "text": [
            "Mounted at /content/drive\n"
          ],
          "name": "stdout"
        }
      ]
    },
    {
      "cell_type": "code",
      "metadata": {
        "id": "0NvOMgvXPeWV"
      },
      "source": [
        "#import libraries\n",
        "\n",
        "from PIL import Image\n",
        "import os\n",
        "import matplotlib.pyplot as plt\n",
        "import matplotlib.image as mpimg\n",
        "import numpy as np\n",
        "import torch\n",
        "import torchvision\n",
        "import torchvision.transforms as transforms\n",
        "import glob\n",
        "import cv2"
      ],
      "execution_count": 189,
      "outputs": []
    },
    {
      "cell_type": "code",
      "metadata": {
        "id": "nXbWOQMOPN2E"
      },
      "source": [
        "#define the paths\n",
        "five_doors = \"/content/drive/My Drive/Deloitte data/carseg_data/5doors\"\n",
        "landscape = \"/content/drive/My Drive/Deloitte data/carseg_data/landscape\"\n",
        "opel = \"/content/drive/My Drive/Deloitte data/carseg_data/opel\"\n",
        "orientation_1 = \"/content/drive/My Drive/Deloitte data/carseg_data/Orientation_1_train\"\n",
        "orientation_2 = \"/content/drive/My Drive/Deloitte data/carseg_data/Orientation 2_train\"\n",
        "orientation_3 = \"/content/drive/My Drive/Deloitte data/carseg_data/Orientation 3_train\"\n",
        "orientation_4 = \"/content/drive/My Drive/Deloitte data/carseg_data/Orientation 4_train\"\n",
        "\n",
        "mask_1 = \"/content/drive/My Drive/Deloitte data/carseg_data/Crop_Orientation_1_Mask\"\n",
        "no_mask_1 = \"/content/drive/My Drive/Deloitte data/carseg_data/Crop_Orientation_1_Original\"\n",
        "mask_2 = \"/content/drive/My Drive/Deloitte data/carseg_data/Crop_Orientation_2_Mask\"\n",
        "no_mask_2 = \"/content/drive/My Drive/Deloitte data/carseg_data/Crop_Orientation_2_Original\"\n",
        "mask_3 = \"/content/drive/My Drive/Deloitte data/carseg_data/Crop_Orientation_3_Mask\"\n",
        "no_mask_3 = \"/content/drive/My Drive/Deloitte data/carseg_data/Crop_Orientation_3_Original\"\n",
        "mask_4 = \"/content/drive/My Drive/Deloitte data/carseg_data/Crop_Orientation_4_Mask\"\n",
        "no_mask_4 = \"/content/drive/My Drive/Deloitte data/carseg_data/Crop_Orientation_4_Original\"\n",
        "\n",
        "#define the images roots\n",
        "img_five_doors=glob.glob(five_doors+'/*.png')\n",
        "img_or_1 = glob.glob(orientation_1+\"/*.jpg\")\n",
        "img_or_2 = glob.glob(orientation_2+\"/*.jpg\")\n",
        "img_or_3 = glob.glob(orientation_3+\"/*.jpg\")\n",
        "img_or_4 = glob.glob(orientation_4+\"/*.jpg\")\n",
        "img_opel = glob.glob(opel+\"/*.png\")\n",
        "img_landscape = glob.glob(landscape+\"/*.jpg\")\n",
        "\n"
      ],
      "execution_count": 222,
      "outputs": []
    },
    {
      "cell_type": "code",
      "metadata": {
        "id": "bOZ-Zu-YpWXh",
        "outputId": "5784f4d8-40ad-4e17-cf4c-49356b1a6fe3",
        "colab": {
          "base_uri": "https://localhost:8080/"
        }
      },
      "source": [
        "print('The images in orinentation 1 are:', len(img_or_1))\n",
        "print('The images in orinentation 2 are:', len(img_or_2))\n",
        "print('The images in orinentation 3 are:', len(img_or_3))\n",
        "print('The images in orinentation 4 are:', len(img_or_4))\n",
        "print('The total is', len(img_or_1)+len(img_or_2)+len(img_or_3)+len(img_or_4))"
      ],
      "execution_count": 223,
      "outputs": [
        {
          "output_type": "stream",
          "text": [
            "The images in orinentation 1 are: 338\n",
            "The images in orinentation 2 are: 94\n",
            "The images in orinentation 3 are: 394\n",
            "The images in orinentation 4 are: 757\n",
            "The total is 1583\n"
          ],
          "name": "stdout"
        }
      ]
    },
    {
      "cell_type": "code",
      "metadata": {
        "id": "NPLg6p8aQR4p"
      },
      "source": [
        "\n",
        "def image(img):\n",
        "  #function that prints the images\n",
        "    plt.figure(figsize=(25,20))\n",
        "    for i in range(50):\n",
        "      image = mpimg.imread(img[i])\n",
        "      plt.subplot(10,5,i+1)\n",
        "      plt.imshow(image)\n",
        "      plt.axis('off')\n",
        "\n",
        "def crop_original(img):\n",
        "  plt.figure(figsize=(25,20))\n",
        "  for i in range(50):\n",
        "    image = cv2.imread(img[i])\n",
        "    cropped = image[30:250,250:500]\n",
        "    plt.subplot(10,5,i+1)\n",
        "    plt.imshow(cropped)\n",
        "    plt.axis('off')\n",
        "\n",
        "\n",
        "def crop_mask(img):\n",
        "  plt.figure(figsize=(25,20))\n",
        "  for i in range(50):\n",
        "    image = cv2.imread(img[i])\n",
        "    #cropped = image[30:250,0:260]\n",
        "    cropped = image[0:256,0:256]\n",
        "    plt.subplot(10,5,i+1)\n",
        "    plt.imshow(cropped)\n",
        "    plt.axis('off')   \n",
        "\n",
        "\n"
      ],
      "execution_count": 224,
      "outputs": []
    },
    {
      "cell_type": "code",
      "metadata": {
        "id": "mFtEwD1g_AeM"
      },
      "source": [
        "def save(file):\n",
        "  for img in file:\n",
        "    image = cv2.imread(img)\n",
        "    original = image[0:256,257:512]#image[30:250,250:500]\n",
        "    mask = image[0:256,0:256]#image[30:250,0:260]\n",
        "    if file == img_or_1:\n",
        "      cv2.imwrite(os.path.join(mask_1 , os.path.basename(img)), mask)\n",
        "      cv2.imwrite(os.path.join(no_mask_1,os.path.basename(img)),original)\n",
        "    elif file == img_or_2:\n",
        "      cv2.imwrite(os.path.join(mask_2,os.path.basename(img)),mask)\n",
        "      cv2.imwrite(os.path.join(no_mask_2,os.path.basename(img)),original)\n",
        "    elif file == img_or_3:\n",
        "      cv2.imwrite(os.path.join(mask_3,os.path.basename(img)),mask)\n",
        "      cv2.imwrite(os.path.join(no_mask_3,os.path.basename(img)),original)\n",
        "    else:\n",
        "      cv2.imwrite(os.path.join(mask_4,os.path.basename(img)),mask)\n",
        "      cv2.imwrite(os.path.join(no_mask_4,os.path.basename(img)),original)"
      ],
      "execution_count": 225,
      "outputs": []
    },
    {
      "cell_type": "code",
      "metadata": {
        "id": "-qJ91cx7742s"
      },
      "source": [
        "save(img_or_1)\n",
        "\n"
      ],
      "execution_count": 226,
      "outputs": []
    }
  ]
}