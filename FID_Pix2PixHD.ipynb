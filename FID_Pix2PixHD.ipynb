{
  "nbformat": 4,
  "nbformat_minor": 0,
  "metadata": {
    "colab": {
      "name": "Untitled2.ipynb",
      "provenance": [],
      "authorship_tag": "ABX9TyPqXU+hLb8BVJJnfWGDQetX",
      "include_colab_link": true
    },
    "kernelspec": {
      "name": "python3",
      "display_name": "Python 3"
    }
  },
  "cells": [
    {
      "cell_type": "markdown",
      "metadata": {
        "id": "view-in-github",
        "colab_type": "text"
      },
      "source": [
        "<a href=\"https://colab.research.google.com/github/georgezefko/car-part-segmentation/blob/main/FID_Pix2PixHD.ipynb\" target=\"_parent\"><img src=\"https://colab.research.google.com/assets/colab-badge.svg\" alt=\"Open In Colab\"/></a>"
      ]
    },
    {
      "cell_type": "code",
      "metadata": {
        "colab": {
          "base_uri": "https://localhost:8080/"
        },
        "id": "_Pt47KHUqe9t",
        "outputId": "260fafbc-dc66-45c3-9d39-be7066926c21"
      },
      "source": [
        "from google.colab import drive\n",
        "drive.mount('/content/drive', force_remount=True)"
      ],
      "execution_count": 2,
      "outputs": [
        {
          "output_type": "stream",
          "text": [
            "Mounted at /content/drive\n"
          ],
          "name": "stdout"
        }
      ]
    },
    {
      "cell_type": "code",
      "metadata": {
        "colab": {
          "base_uri": "https://localhost:8080/"
        },
        "id": "V7wiIDb1qYDM",
        "outputId": "24acc358-db64-4ff2-93e3-d9a009a2df73"
      },
      "source": [
        "pip install pytorch-fid"
      ],
      "execution_count": 1,
      "outputs": [
        {
          "output_type": "stream",
          "text": [
            "Collecting pytorch-fid\n",
            "  Downloading https://files.pythonhosted.org/packages/93/54/49dc21a5ee774af0390813c3cf66af57af0a31ab22ba0c2ac02cdddeb755/pytorch-fid-0.2.0.tar.gz\n",
            "Requirement already satisfied: numpy in /usr/local/lib/python3.6/dist-packages (from pytorch-fid) (1.19.4)\n",
            "Requirement already satisfied: pillow in /usr/local/lib/python3.6/dist-packages (from pytorch-fid) (7.0.0)\n",
            "Requirement already satisfied: scipy in /usr/local/lib/python3.6/dist-packages (from pytorch-fid) (1.4.1)\n",
            "Requirement already satisfied: torch>=1.0.1 in /usr/local/lib/python3.6/dist-packages (from pytorch-fid) (1.7.0+cu101)\n",
            "Requirement already satisfied: torchvision>=0.2.2 in /usr/local/lib/python3.6/dist-packages (from pytorch-fid) (0.8.1+cu101)\n",
            "Requirement already satisfied: typing-extensions in /usr/local/lib/python3.6/dist-packages (from torch>=1.0.1->pytorch-fid) (3.7.4.3)\n",
            "Requirement already satisfied: future in /usr/local/lib/python3.6/dist-packages (from torch>=1.0.1->pytorch-fid) (0.16.0)\n",
            "Requirement already satisfied: dataclasses in /usr/local/lib/python3.6/dist-packages (from torch>=1.0.1->pytorch-fid) (0.8)\n",
            "Building wheels for collected packages: pytorch-fid\n",
            "  Building wheel for pytorch-fid (setup.py) ... \u001b[?25l\u001b[?25hdone\n",
            "  Created wheel for pytorch-fid: filename=pytorch_fid-0.2.0-cp36-none-any.whl size=10548 sha256=9e32a6e970949be3e7fb7f02334fae0bc41cbcaec461018fec66e6b6e4402013\n",
            "  Stored in directory: /root/.cache/pip/wheels/72/36/3c/4f3fb256f62d24bef52636f66f21667bc21caa637ce92f0e53\n",
            "Successfully built pytorch-fid\n",
            "Installing collected packages: pytorch-fid\n",
            "Successfully installed pytorch-fid-0.2.0\n"
          ],
          "name": "stdout"
        }
      ]
    },
    {
      "cell_type": "code",
      "metadata": {
        "colab": {
          "base_uri": "https://localhost:8080/"
        },
        "id": "N_deF9MaqrLU",
        "outputId": "4b025333-4d7d-4316-8609-a15a82d602ec"
      },
      "source": [
        "#FID score on without pretrain model\n",
        "!python -m pytorch_fid /content/drive/MyDrive/pix2pixHD-colab/pix2pixHD/datasets/w/1 /content/drive/MyDrive/pix2pixHD-colab/pix2pixHD/results/p2p_no_pretrain --batch-size 20 --dims {2048}"
      ],
      "execution_count": 4,
      "outputs": [
        {
          "output_type": "stream",
          "text": [
            "100% 6/6 [00:27<00:00,  4.54s/it]\n",
            "100% 1/1 [00:10<00:00, 10.95s/it]\n",
            "FID:  227.6945753685513\n"
          ],
          "name": "stdout"
        }
      ]
    },
    {
      "cell_type": "code",
      "metadata": {
        "colab": {
          "base_uri": "https://localhost:8080/"
        },
        "id": "g_l70ZZfyP8Z",
        "outputId": "8e040a01-18d5-4941-e786-b0861789b811"
      },
      "source": [
        "#FID score of pretrain model\n",
        "!python -m pytorch_fid /content/drive/MyDrive/pix2pixHD-colab/pix2pixHD/datasets/w/1 /content/drive/MyDrive/pix2pixHD-colab/pix2pixHD/results/p2p_pretrain --batch-size 20 --dims {2048}"
      ],
      "execution_count": 3,
      "outputs": [
        {
          "output_type": "stream",
          "text": [
            "Downloading: \"https://github.com/mseitzer/pytorch-fid/releases/download/fid_weights/pt_inception-2015-12-05-6726825d.pth\" to /root/.cache/torch/hub/checkpoints/pt_inception-2015-12-05-6726825d.pth\n",
            "100% 91.2M/91.2M [00:01<00:00, 76.2MB/s]\n",
            "100% 6/6 [00:35<00:00,  5.99s/it]\n",
            "100% 1/1 [00:11<00:00, 11.15s/it]\n",
            "FID:  240.03733668892534\n"
          ],
          "name": "stdout"
        }
      ]
    },
    {
      "cell_type": "code",
      "metadata": {
        "colab": {
          "base_uri": "https://localhost:8080/"
        },
        "id": "Grf44I0dy_OW",
        "outputId": "c0f1283b-a2d9-44c8-c04f-f97fda9a8078"
      },
      "source": [
        "#FID score on the Train dataset\n",
        "!python -m pytorch_fid  /content/drive/MyDrive/pix2pixHD-colab/pix2pixHD/datasets/w/1 /content/drive/MyDrive/pix2pixHD-colab/pix2pixHD/datasets/w/2 --batch-size 20 --dims {2048}"
      ],
      "execution_count": 11,
      "outputs": [
        {
          "output_type": "stream",
          "text": [
            "100% 6/6 [00:26<00:00,  4.41s/it]\n",
            "100% 6/6 [00:32<00:00,  5.43s/it]\n",
            "FID:  76.39067824042976\n"
          ],
          "name": "stdout"
        }
      ]
    }
  ]
}