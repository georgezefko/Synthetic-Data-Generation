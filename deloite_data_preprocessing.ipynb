{
  "nbformat": 4,
  "nbformat_minor": 0,
  "metadata": {
    "accelerator": "GPU",
    "colab": {
      "name": "deloite data preprocessing",
      "provenance": [],
      "collapsed_sections": [],
      "toc_visible": true,
      "machine_shape": "hm",
      "include_colab_link": true
    },
    "kernelspec": {
      "display_name": "Python 3",
      "language": "python",
      "name": "python3"
    },
    "language_info": {
      "codemirror_mode": {
        "name": "ipython",
        "version": 3
      },
      "file_extension": ".py",
      "mimetype": "text/x-python",
      "name": "python",
      "nbconvert_exporter": "python",
      "pygments_lexer": "ipython3",
      "version": "3.7.3"
    }
  },
  "cells": [
    {
      "cell_type": "markdown",
      "metadata": {
        "id": "view-in-github",
        "colab_type": "text"
      },
      "source": [
        "<a href=\"https://colab.research.google.com/github/georgezefko/Synthetic-Data-Generation/blob/main/deloite_data_preprocessing.ipynb\" target=\"_parent\"><img src=\"https://colab.research.google.com/assets/colab-badge.svg\" alt=\"Open In Colab\"/></a>"
      ]
    },
    {
      "cell_type": "markdown",
      "metadata": {
        "id": "SFMS2qzBBROL"
      },
      "source": [
        "# Detectron2: Inference with pre-trained model\n",
        "<img src=\"https://dl.fbaipublicfiles.com/detectron2/Detectron2-Logo-Horz.png\" width=\"500\">"
      ]
    },
    {
      "cell_type": "markdown",
      "metadata": {
        "id": "cXBcmsAi8YRj"
      },
      "source": [
        "<table align=\"left\"><td>\n",
        "  <a target=\"_blank\"  href=\"https://colab.research.google.com/github/TannerGilbert/Object-Detection-and-Image-Segmentation-with-Detectron2/blob/master/Detectron2_inference_with_pre_trained_model.ipynb\">\n",
        "    <img src=\"https://www.tensorflow.org/images/colab_logo_32px.png\" />Run in Google Colab\n",
        "  </a>\n",
        "</td><td>\n",
        "  <a target=\"_blank\"  href=\"https://github.com/TannerGilbert/Object-Detection-and-Image-Segmentation-with-Detectron2/blob/master/Detectron2_inference_with_pre_trained_model.ipynb\">\n",
        "    <img width=32px src=\"https://www.tensorflow.org/images/GitHub-Mark-32px.png\" />View source on GitHub</a>\n",
        "</td></table>"
      ]
    },
    {
      "cell_type": "markdown",
      "metadata": {
        "id": "NTsmnt9JCcKW"
      },
      "source": [
        "## Install detectron2 (only Google Colab)\n",
        "\n",
        "> **Important**: If you're running on a local machine, be sure to follow the [installation instructions](https://github.com/facebookresearch/detectron2/blob/master/INSTALL.md). This notebook includes only what's necessary to run in Colab."
      ]
    },
    {
      "cell_type": "code",
      "metadata": {
        "id": "zYWOiQZ1JfeS",
        "colab": {
          "base_uri": "https://localhost:8080/"
        },
        "outputId": "8aea1fda-84af-4cd6-b479-75d88c28f3f5"
      },
      "source": [
        "from google.colab import drive\n",
        "drive.mount('/content/drive', force_remount=True)"
      ],
      "execution_count": null,
      "outputs": [
        {
          "output_type": "stream",
          "text": [
            "Mounted at /content/drive\n"
          ],
          "name": "stdout"
        }
      ]
    },
    {
      "cell_type": "code",
      "metadata": {
        "id": "Z7njRzPjCcpX",
        "colab": {
          "base_uri": "https://localhost:8080/"
        },
        "outputId": "d52bbd0e-5c7c-48be-9ae9-f6acf4382c10"
      },
      "source": [
        "# install dependencies: \n",
        "!pip install pyyaml==5.1 pycocotools>=2.0.1\n",
        "import torch, torchvision\n",
        "print(torch.__version__, torch.cuda.is_available())\n",
        "!gcc --version\n",
        "# opencv is pre-installed on colab"
      ],
      "execution_count": null,
      "outputs": [
        {
          "output_type": "stream",
          "text": [
            "1.7.0+cu101 True\n",
            "gcc (Ubuntu 7.5.0-3ubuntu1~18.04) 7.5.0\n",
            "Copyright (C) 2017 Free Software Foundation, Inc.\n",
            "This is free software; see the source for copying conditions.  There is NO\n",
            "warranty; not even for MERCHANTABILITY or FITNESS FOR A PARTICULAR PURPOSE.\n",
            "\n"
          ],
          "name": "stdout"
        }
      ]
    },
    {
      "cell_type": "code",
      "metadata": {
        "id": "IX5ofCo3Ce0O"
      },
      "source": [
        "# install detectron2: (Colab has CUDA 10.1 + torch 1.6)\n",
        "# See https://detectron2.readthedocs.io/tutorials/install.html for instructions\n",
        "#assert torch.__version__.startswith(\"1.6\")\n",
        "!pip install detectron2 -f https://dl.fbaipublicfiles.com/detectron2/wheels/cu101/torch1.6/index.html"
      ],
      "execution_count": null,
      "outputs": []
    },
    {
      "cell_type": "markdown",
      "metadata": {
        "id": "plyYKN3MDgRw"
      },
      "source": [
        "## Inference with pre-trained model"
      ]
    },
    {
      "cell_type": "code",
      "metadata": {
        "id": "5aXuGLfhC2Ms"
      },
      "source": [
        "# import some common detectron2 utilities\n",
        "from detectron2 import model_zoo\n",
        "from detectron2.engine import DefaultPredictor\n",
        "from detectron2.config import get_cfg\n",
        "from detectron2.utils.visualizer import Visualizer\n",
        "from detectron2.data import MetadataCatalog\n",
        "import matplotlib.pyplot as plt\n",
        "import cv2\n",
        "import glob\n",
        "import os\n",
        "import numpy as np"
      ],
      "execution_count": null,
      "outputs": []
    },
    {
      "cell_type": "markdown",
      "metadata": {
        "id": "-e87712yFo9N"
      },
      "source": [
        "We first need to download a image to make predictions on."
      ]
    },
    {
      "cell_type": "markdown",
      "metadata": {
        "id": "qirumj7eHGRI"
      },
      "source": [
        "## Instance Segmentation"
      ]
    },
    {
      "cell_type": "code",
      "metadata": {
        "id": "k_spHkDAHaR6"
      },
      "source": [
        "cfg = get_cfg()\n",
        "cfg.merge_from_file(model_zoo.get_config_file(\"COCO-InstanceSegmentation/mask_rcnn_R_50_FPN_3x.yaml\"))\n",
        "cfg.MODEL.ROI_HEADS.SCORE_THRESH_TEST = 0.2  # set threshold for this model\n",
        "cfg.MODEL.WEIGHTS = model_zoo.get_checkpoint_url(\"COCO-InstanceSegmentation/mask_rcnn_R_50_FPN_3x.yaml\")"
      ],
      "execution_count": null,
      "outputs": []
    },
    {
      "cell_type": "code",
      "metadata": {
        "id": "eCWIsD1fHfwz",
        "colab": {
          "base_uri": "https://localhost:8080/"
        },
        "outputId": "587ae280-b3b2-4d5c-9259-a95e237a533b"
      },
      "source": [
        "# Create predictor\n",
        "predictor = DefaultPredictor(cfg)"
      ],
      "execution_count": null,
      "outputs": [
        {
          "output_type": "stream",
          "text": [
            "model_final_f10217.pkl: 178MB [00:17, 10.2MB/s]                           \n"
          ],
          "name": "stderr"
        }
      ]
    },
    {
      "cell_type": "code",
      "metadata": {
        "id": "T8Hk82DidAi5"
      },
      "source": [
        "masks_path = '/content/drive/My Drive/Deloite_Orientation1/masks'\n",
        "whole_cars = '/content/drive/My Drive/Deloite_Orientation1/whole_car_mask'\n",
        "only_masks = '/content/drive/My Drive/Deloite_Orientation1/only_masks2'\n",
        "clean_mask = '/content/drive/My Drive/Deloite_Orientation1/clean_mask'\n",
        "final_set = '/content/drive/MyDrive/Deloite_Orientation1/path_to_final_set/final_set/final'\n",
        "signle_colors = '/content/drive/MyDrive/Deloite_Orientation1/path_to_final_set/final_set/signle_colors'\n",
        "\n",
        "#New Data\n",
        "new_pred_masks = '/content/drive/My Drive/Deloite_Orientation1/nomasks'\n",
        "whole_cars_new = '/content/drive/My Drive/Deloite_Orientation1/whole_car_mask_new'\n",
        "whole_cars_new_256 = '/content/drive/MyDrive/Deloite_Orientation1/whole_car_mask_new_256'\n",
        "clean_mask_new = '/content/drive/My Drive/Deloite_Orientation1/clean_mask_new'\n",
        "clean_mask_new_256 = '/content/drive/My Drive/Deloite_Orientation1/clean_mask_new_256'\n",
        "final_set_new = '/content/drive/MyDrive/Deloite_Orientation1/path_to_final_set/final_new'\n",
        "only_masks_new = '/content/drive/MyDrive/Deloite_Orientation1/thresholded_masks'\n",
        "only_masks_new_256 = '/content/drive/MyDrive/Deloite_Orientation1/thresholded_masks_256'\n",
        "existing_masks = '/content/drive/MyDrive/Deloite_Orientation1/existing_mask_no_mask'\n",
        "existing_masks_256 = '/content/drive/MyDrive/Deloite_Orientation1/existing_masks_no_mask256'\n",
        "thresholded_existing = '/content/drive/MyDrive/Deloite_Orientation1/existing_thresholded'\n"
      ],
      "execution_count": null,
      "outputs": []
    },
    {
      "cell_type": "markdown",
      "metadata": {
        "id": "0zJVdF25uAzC"
      },
      "source": [
        "Below cell is creating the masks for the whole car and saves them in a folder in google drive"
      ]
    },
    {
      "cell_type": "code",
      "metadata": {
        "id": "OAlp1S3TqNVO"
      },
      "source": [
        "import os\n",
        "import glob\n",
        "for file in glob.glob(new_pred_masks + \"/*.jpg\"):\n",
        "    im = cv2.imread(file)\n",
        "    outputs = predictor(im)\n",
        "    #v = Visualizer(im[:, :, ::-1], MetadataCatalog.get(cfg.DATASETS.TRAIN[0]), scale=1.2)\n",
        "    #v = v.draw_instance_predictions(outputs[\"instances\"].to(\"cpu\"))\n",
        "    #plt.imshow(v.get_image()[:, :, ::-1])\n",
        "    position = outputs['instances'].pred_classes==2\n",
        "    if len((position==True).nonzero()) !=0:\n",
        "        car_position = (position == True).nonzero()[0].item()\n",
        "        car_masks = outputs['instances'].pred_masks[car_position]\n",
        "        car_masks = car_masks.cpu().numpy()\n",
        "        #print(str(file))\n",
        "        ##a is the mask for the car in the image image\n",
        "        #print(str(file))\n",
        "        a = car_masks.astype(int)\n",
        "        a[a > 0 ] = 255\n",
        "        #Transfor the numpy array to uint8 to match the dtype of the res\n",
        "        a = a.astype(np.uint8)\n",
        "        a = cv2.cvtColor(a, cv2.COLOR_GRAY2BGR)\n",
        "        cv2.imwrite(os.path.join(whole_cars_new , os.path.basename(file)), a)\n",
        "    else:\n",
        "      pass    \n",
        "    \n"
      ],
      "execution_count": null,
      "outputs": []
    },
    {
      "cell_type": "markdown",
      "metadata": {
        "id": "-QhYykYYvIb3"
      },
      "source": [
        "The function below takes an image with the masks and isolates the masks on it."
      ]
    },
    {
      "cell_type": "code",
      "metadata": {
        "id": "-YuCPO96iS3-"
      },
      "source": [
        "def isolate_masks(im2):\n",
        "  hsv = cv2.cvtColor(im2, cv2.COLOR_BGR2HSV)\n",
        "\n",
        "  lower_red = np.array([0, 120, 0])\n",
        "  upper_red = np.array([255, 255, 255])\n",
        "\n",
        "  mask = cv2.inRange(hsv, lower_red, upper_red)\n",
        "  res = cv2.bitwise_and(im2,im2, mask= mask)\n",
        "  return mask, res"
      ],
      "execution_count": null,
      "outputs": []
    },
    {
      "cell_type": "markdown",
      "metadata": {
        "id": "y7i3e6htirzp"
      },
      "source": [
        "Now we have picture 'a' which is the mask, 'im' which is the original image, 'im2' which is the segmented car parts and 'res' which is the semi finished product of isolating only the segmented car parts with nothing else. In order to remove potential background noise, I will try to overlay the mask(a) with the result(res) and obtain the area just around the car."
      ]
    },
    {
      "cell_type": "markdown",
      "metadata": {
        "id": "2ys6HLb1OPVj"
      },
      "source": [
        "### Geting a list of all the filenames and creating the clean data set"
      ]
    },
    {
      "cell_type": "code",
      "metadata": {
        "id": "BR_26mQJBiLj"
      },
      "source": [
        "#After That we have as many generatd whole masks as cars we generated from"
      ],
      "execution_count": null,
      "outputs": []
    },
    {
      "cell_type": "code",
      "metadata": {
        "id": "Q8PgxVXx_1ld"
      },
      "source": [
        "new_whole_names = []\n",
        "for file in glob.glob(whole_cars_new + \"/*.jpg\"):\n",
        "  new_whole_names.append(os.path.basename(file))\n",
        "  new_whole_names.sort() \n",
        "  \n",
        "for file in glob.glob(new_pred_masks + \"/*.jpg\"):\n",
        "  if os.path.basename(file) in new_whole_names:\n",
        "    im = cv2.imread(file)\n",
        "    cv2.imwrite(os.path.join(existing_masks , os.path.basename(file)), im)"
      ],
      "execution_count": null,
      "outputs": []
    },
    {
      "cell_type": "code",
      "metadata": {
        "id": "ujyMamZjLQmP"
      },
      "source": [
        "new_whole_names = []\n",
        "for file in glob.glob(whole_cars_new + \"/*.jpg\"):\n",
        "  new_whole_names.append(os.path.basename(file))\n",
        "  new_whole_names.sort()"
      ],
      "execution_count": null,
      "outputs": []
    },
    {
      "cell_type": "code",
      "metadata": {
        "id": "T0Xn5agBLZnN"
      },
      "source": [
        "for file in glob.glob(only_masks_new + \"/*.jpg\"):\n",
        "  if os.path.basename(file) in new_whole_names:\n",
        "    im = cv2.imread(file)\n",
        "    cv2.imwrite(os.path.join(thresholded_existing, os.path.basename(file)), im)"
      ],
      "execution_count": null,
      "outputs": []
    },
    {
      "cell_type": "code",
      "metadata": {
        "colab": {
          "base_uri": "https://localhost:8080/"
        },
        "id": "3xr0uf9VLZq2",
        "outputId": "7eeed36d-281a-40a3-e729-d1ef2807fa58"
      },
      "source": [
        "len(new_whole_names)"
      ],
      "execution_count": null,
      "outputs": [
        {
          "output_type": "execute_result",
          "data": {
            "text/plain": [
              "1985"
            ]
          },
          "metadata": {
            "tags": []
          },
          "execution_count": 103
        }
      ]
    },
    {
      "cell_type": "code",
      "metadata": {
        "id": "jzcHa-rFsMaK"
      },
      "source": [
        "from PIL import Image"
      ],
      "execution_count": null,
      "outputs": []
    },
    {
      "cell_type": "code",
      "metadata": {
        "colab": {
          "base_uri": "https://localhost:8080/"
        },
        "id": "sKvxd_XVvZ0n",
        "outputId": "05325313-76ff-444c-d60c-80bd66febf62"
      },
      "source": [
        "cd drive/MyDrive/Deloite_Orientation1/existing_mask_no_mask/"
      ],
      "execution_count": null,
      "outputs": [
        {
          "output_type": "stream",
          "text": [
            "/content/drive/MyDrive/Deloite_Orientation1/existing_mask_no_mask\n"
          ],
          "name": "stdout"
        }
      ]
    },
    {
      "cell_type": "code",
      "metadata": {
        "colab": {
          "base_uri": "https://localhost:8080/"
        },
        "id": "jOCbjjM-xCJQ",
        "outputId": "23eab13c-28ae-4271-d593-d1af6cf8d9e5"
      },
      "source": [
        "!pip install Pillow"
      ],
      "execution_count": null,
      "outputs": [
        {
          "output_type": "stream",
          "text": [
            "Requirement already satisfied: Pillow in /usr/local/lib/python3.6/dist-packages (8.0.1)\n"
          ],
          "name": "stdout"
        }
      ]
    },
    {
      "cell_type": "code",
      "metadata": {
        "id": "LWfzBbuCvkg-"
      },
      "source": [
        "from PIL import Image\n",
        "im = cv2.imread('sti_1.jpg')\n",
        "im = cv2.cvtColor(im, cv2.COLOR_BGR2RGB)\n",
        "img = Image.fromarray(im, 'RGB')\n",
        "img = img.resize((256,256))\n",
        "img = np.asarray(img)\n",
        "  "
      ],
      "execution_count": null,
      "outputs": []
    },
    {
      "cell_type": "markdown",
      "metadata": {
        "id": "2LwsAk-IzmAA"
      },
      "source": [
        "# Resize to 256x256"
      ]
    },
    {
      "cell_type": "code",
      "metadata": {
        "id": "CBJHJc7DtKw9"
      },
      "source": [
        "for file in glob.glob(existing_masks + \"/*.jpg\"):\n",
        "    im = cv2.imread(file)\n",
        "    im = cv2.cvtColor(im, cv2.COLOR_BGR2RGB)\n",
        "    img = Image.fromarray(im, 'RGB')\n",
        "    img = img.resize((256,256))\n",
        "    img = np.asarray(img)\n",
        "    cv2.imwrite(os.path.join(existing_masks_256 , os.path.basename(file)), cv2.cvtColor(img, cv2.COLOR_BGR2RGB))  "
      ],
      "execution_count": null,
      "outputs": []
    },
    {
      "cell_type": "code",
      "metadata": {
        "id": "v5xPunPs0Aso"
      },
      "source": [
        "for file in glob.glob(whole_cars_new + \"/*.jpg\"):\n",
        "    im = cv2.imread(file)\n",
        "    im = cv2.cvtColor(im, cv2.COLOR_BGR2RGB)\n",
        "    img = Image.fromarray(im, 'RGB')\n",
        "    img = img.resize((256,256))\n",
        "    img = np.asarray(img)\n",
        "    cv2.imwrite(os.path.join(whole_cars_new_256 , os.path.basename(file)), cv2.cvtColor(img, cv2.COLOR_BGR2RGB))  "
      ],
      "execution_count": null,
      "outputs": []
    },
    {
      "cell_type": "code",
      "metadata": {
        "id": "L-mDWcce0Aje"
      },
      "source": [
        "for file in glob.glob(thresholded_existing + \"/*.jpg\"):\n",
        "    im = cv2.imread(file)\n",
        "    im = cv2.cvtColor(im, cv2.COLOR_BGR2RGB)\n",
        "    img = Image.fromarray(im, 'RGB')\n",
        "    img = img.resize((256,256))\n",
        "    img = np.asarray(img)\n",
        "    cv2.imwrite(os.path.join(only_masks_new_256 , os.path.basename(file)), cv2.cvtColor(img, cv2.COLOR_BGR2RGB))  "
      ],
      "execution_count": null,
      "outputs": []
    },
    {
      "cell_type": "code",
      "metadata": {
        "colab": {
          "base_uri": "https://localhost:8080/"
        },
        "id": "xEuPYFnpGFkx",
        "outputId": "6b924046-80ed-4daa-e409-4520ba51ff32"
      },
      "source": [
        "i=0\n",
        "for file in glob.glob(thresholded_existing + \"/*.jpg\"):\n",
        "  i+=1\n",
        "print(i)  "
      ],
      "execution_count": null,
      "outputs": [
        {
          "output_type": "stream",
          "text": [
            "1985\n"
          ],
          "name": "stdout"
        }
      ]
    },
    {
      "cell_type": "code",
      "metadata": {
        "colab": {
          "base_uri": "https://localhost:8080/"
        },
        "id": "EVOYFLiAFqrO",
        "outputId": "ceba38a4-293e-40b1-efbc-a06a0e613344"
      },
      "source": [
        "all_mask_names"
      ],
      "execution_count": null,
      "outputs": [
        {
          "output_type": "execute_result",
          "data": {
            "text/plain": [
              "['/content/drive/MyDrive/Deloite_Orientation1/thresholded_masks_256/0.jpg',\n",
              " '/content/drive/MyDrive/Deloite_Orientation1/thresholded_masks_256/0_a-aug_4.jpg',\n",
              " '/content/drive/MyDrive/Deloite_Orientation1/thresholded_masks_256/0_a-aug_6.jpg',\n",
              " '/content/drive/MyDrive/Deloite_Orientation1/thresholded_masks_256/0_a-aug_7.jpg',\n",
              " '/content/drive/MyDrive/Deloite_Orientation1/thresholded_masks_256/0_a.jpg',\n",
              " '/content/drive/MyDrive/Deloite_Orientation1/thresholded_masks_256/1.jpg',\n",
              " '/content/drive/MyDrive/Deloite_Orientation1/thresholded_masks_256/10.jpg',\n",
              " '/content/drive/MyDrive/Deloite_Orientation1/thresholded_masks_256/100.jpg',\n",
              " '/content/drive/MyDrive/Deloite_Orientation1/thresholded_masks_256/1001.jpg',\n",
              " '/content/drive/MyDrive/Deloite_Orientation1/thresholded_masks_256/1005.jpg',\n",
              " '/content/drive/MyDrive/Deloite_Orientation1/thresholded_masks_256/1014.jpg',\n",
              " '/content/drive/MyDrive/Deloite_Orientation1/thresholded_masks_256/1015.jpg',\n",
              " '/content/drive/MyDrive/Deloite_Orientation1/thresholded_masks_256/1016.jpg',\n",
              " '/content/drive/MyDrive/Deloite_Orientation1/thresholded_masks_256/1017.jpg',\n",
              " '/content/drive/MyDrive/Deloite_Orientation1/thresholded_masks_256/1018.jpg',\n",
              " '/content/drive/MyDrive/Deloite_Orientation1/thresholded_masks_256/1019.jpg',\n",
              " '/content/drive/MyDrive/Deloite_Orientation1/thresholded_masks_256/102.jpg',\n",
              " '/content/drive/MyDrive/Deloite_Orientation1/thresholded_masks_256/1020.jpg',\n",
              " '/content/drive/MyDrive/Deloite_Orientation1/thresholded_masks_256/1021.jpg',\n",
              " '/content/drive/MyDrive/Deloite_Orientation1/thresholded_masks_256/1022.jpg',\n",
              " '/content/drive/MyDrive/Deloite_Orientation1/thresholded_masks_256/1023.jpg',\n",
              " '/content/drive/MyDrive/Deloite_Orientation1/thresholded_masks_256/1024.jpg',\n",
              " '/content/drive/MyDrive/Deloite_Orientation1/thresholded_masks_256/1027.jpg',\n",
              " '/content/drive/MyDrive/Deloite_Orientation1/thresholded_masks_256/1028.jpg',\n",
              " '/content/drive/MyDrive/Deloite_Orientation1/thresholded_masks_256/1029.jpg',\n",
              " '/content/drive/MyDrive/Deloite_Orientation1/thresholded_masks_256/102_a-aug_2.jpg',\n",
              " '/content/drive/MyDrive/Deloite_Orientation1/thresholded_masks_256/102_a-aug_4.jpg',\n",
              " '/content/drive/MyDrive/Deloite_Orientation1/thresholded_masks_256/102_a-aug_6.jpg',\n",
              " '/content/drive/MyDrive/Deloite_Orientation1/thresholded_masks_256/102_a.jpg',\n",
              " '/content/drive/MyDrive/Deloite_Orientation1/thresholded_masks_256/103-aug_0.jpg',\n",
              " '/content/drive/MyDrive/Deloite_Orientation1/thresholded_masks_256/103-aug_2.jpg',\n",
              " '/content/drive/MyDrive/Deloite_Orientation1/thresholded_masks_256/103-aug_3.jpg',\n",
              " '/content/drive/MyDrive/Deloite_Orientation1/thresholded_masks_256/103-aug_4.jpg',\n",
              " '/content/drive/MyDrive/Deloite_Orientation1/thresholded_masks_256/103-aug_5.jpg',\n",
              " '/content/drive/MyDrive/Deloite_Orientation1/thresholded_masks_256/103-aug_6.jpg',\n",
              " '/content/drive/MyDrive/Deloite_Orientation1/thresholded_masks_256/103-aug_7.jpg',\n",
              " '/content/drive/MyDrive/Deloite_Orientation1/thresholded_masks_256/103-aug_8.jpg',\n",
              " '/content/drive/MyDrive/Deloite_Orientation1/thresholded_masks_256/103-aug_9.jpg',\n",
              " '/content/drive/MyDrive/Deloite_Orientation1/thresholded_masks_256/103.jpg',\n",
              " '/content/drive/MyDrive/Deloite_Orientation1/thresholded_masks_256/1030.jpg',\n",
              " '/content/drive/MyDrive/Deloite_Orientation1/thresholded_masks_256/1032.jpg',\n",
              " '/content/drive/MyDrive/Deloite_Orientation1/thresholded_masks_256/1035.jpg',\n",
              " '/content/drive/MyDrive/Deloite_Orientation1/thresholded_masks_256/1036.jpg',\n",
              " '/content/drive/MyDrive/Deloite_Orientation1/thresholded_masks_256/1037.jpg',\n",
              " '/content/drive/MyDrive/Deloite_Orientation1/thresholded_masks_256/1038.jpg',\n",
              " '/content/drive/MyDrive/Deloite_Orientation1/thresholded_masks_256/1039.jpg',\n",
              " '/content/drive/MyDrive/Deloite_Orientation1/thresholded_masks_256/1040.jpg',\n",
              " '/content/drive/MyDrive/Deloite_Orientation1/thresholded_masks_256/1041.jpg',\n",
              " '/content/drive/MyDrive/Deloite_Orientation1/thresholded_masks_256/1042.jpg',\n",
              " '/content/drive/MyDrive/Deloite_Orientation1/thresholded_masks_256/1049.jpg',\n",
              " '/content/drive/MyDrive/Deloite_Orientation1/thresholded_masks_256/104_a-aug_0.jpg',\n",
              " '/content/drive/MyDrive/Deloite_Orientation1/thresholded_masks_256/104_a-aug_2.jpg',\n",
              " '/content/drive/MyDrive/Deloite_Orientation1/thresholded_masks_256/104_a-aug_3.jpg',\n",
              " '/content/drive/MyDrive/Deloite_Orientation1/thresholded_masks_256/104_a-aug_4.jpg',\n",
              " '/content/drive/MyDrive/Deloite_Orientation1/thresholded_masks_256/104_a-aug_5.jpg',\n",
              " '/content/drive/MyDrive/Deloite_Orientation1/thresholded_masks_256/104_a-aug_6.jpg',\n",
              " '/content/drive/MyDrive/Deloite_Orientation1/thresholded_masks_256/104_a-aug_7.jpg',\n",
              " '/content/drive/MyDrive/Deloite_Orientation1/thresholded_masks_256/104_a-aug_8.jpg',\n",
              " '/content/drive/MyDrive/Deloite_Orientation1/thresholded_masks_256/104_a-aug_9.jpg',\n",
              " '/content/drive/MyDrive/Deloite_Orientation1/thresholded_masks_256/104_a.jpg',\n",
              " '/content/drive/MyDrive/Deloite_Orientation1/thresholded_masks_256/105.jpg',\n",
              " '/content/drive/MyDrive/Deloite_Orientation1/thresholded_masks_256/1051.jpg',\n",
              " '/content/drive/MyDrive/Deloite_Orientation1/thresholded_masks_256/1052.jpg',\n",
              " '/content/drive/MyDrive/Deloite_Orientation1/thresholded_masks_256/1053.jpg',\n",
              " '/content/drive/MyDrive/Deloite_Orientation1/thresholded_masks_256/1054.jpg',\n",
              " '/content/drive/MyDrive/Deloite_Orientation1/thresholded_masks_256/1057.jpg',\n",
              " '/content/drive/MyDrive/Deloite_Orientation1/thresholded_masks_256/1058.jpg',\n",
              " '/content/drive/MyDrive/Deloite_Orientation1/thresholded_masks_256/1059.jpg',\n",
              " '/content/drive/MyDrive/Deloite_Orientation1/thresholded_masks_256/106.jpg',\n",
              " '/content/drive/MyDrive/Deloite_Orientation1/thresholded_masks_256/1060.jpg',\n",
              " '/content/drive/MyDrive/Deloite_Orientation1/thresholded_masks_256/1061.jpg',\n",
              " '/content/drive/MyDrive/Deloite_Orientation1/thresholded_masks_256/1062.jpg',\n",
              " '/content/drive/MyDrive/Deloite_Orientation1/thresholded_masks_256/1063.jpg',\n",
              " '/content/drive/MyDrive/Deloite_Orientation1/thresholded_masks_256/1064.jpg',\n",
              " '/content/drive/MyDrive/Deloite_Orientation1/thresholded_masks_256/1068.jpg',\n",
              " '/content/drive/MyDrive/Deloite_Orientation1/thresholded_masks_256/1069.jpg',\n",
              " '/content/drive/MyDrive/Deloite_Orientation1/thresholded_masks_256/107.jpg',\n",
              " '/content/drive/MyDrive/Deloite_Orientation1/thresholded_masks_256/1072.jpg',\n",
              " '/content/drive/MyDrive/Deloite_Orientation1/thresholded_masks_256/1074.jpg',\n",
              " '/content/drive/MyDrive/Deloite_Orientation1/thresholded_masks_256/1075.jpg',\n",
              " '/content/drive/MyDrive/Deloite_Orientation1/thresholded_masks_256/1077.jpg',\n",
              " '/content/drive/MyDrive/Deloite_Orientation1/thresholded_masks_256/1079.jpg',\n",
              " '/content/drive/MyDrive/Deloite_Orientation1/thresholded_masks_256/108-aug_0.jpg',\n",
              " '/content/drive/MyDrive/Deloite_Orientation1/thresholded_masks_256/108-aug_2.jpg',\n",
              " '/content/drive/MyDrive/Deloite_Orientation1/thresholded_masks_256/108-aug_3.jpg',\n",
              " '/content/drive/MyDrive/Deloite_Orientation1/thresholded_masks_256/108-aug_4.jpg',\n",
              " '/content/drive/MyDrive/Deloite_Orientation1/thresholded_masks_256/108-aug_5.jpg',\n",
              " '/content/drive/MyDrive/Deloite_Orientation1/thresholded_masks_256/108-aug_6.jpg',\n",
              " '/content/drive/MyDrive/Deloite_Orientation1/thresholded_masks_256/108-aug_7.jpg',\n",
              " '/content/drive/MyDrive/Deloite_Orientation1/thresholded_masks_256/108-aug_8.jpg',\n",
              " '/content/drive/MyDrive/Deloite_Orientation1/thresholded_masks_256/108-aug_9.jpg',\n",
              " '/content/drive/MyDrive/Deloite_Orientation1/thresholded_masks_256/108.jpg',\n",
              " '/content/drive/MyDrive/Deloite_Orientation1/thresholded_masks_256/1080.jpg',\n",
              " '/content/drive/MyDrive/Deloite_Orientation1/thresholded_masks_256/1082.jpg',\n",
              " '/content/drive/MyDrive/Deloite_Orientation1/thresholded_masks_256/1083.jpg',\n",
              " '/content/drive/MyDrive/Deloite_Orientation1/thresholded_masks_256/1084.jpg',\n",
              " '/content/drive/MyDrive/Deloite_Orientation1/thresholded_masks_256/1085.jpg',\n",
              " '/content/drive/MyDrive/Deloite_Orientation1/thresholded_masks_256/1086.jpg',\n",
              " '/content/drive/MyDrive/Deloite_Orientation1/thresholded_masks_256/1087.jpg',\n",
              " '/content/drive/MyDrive/Deloite_Orientation1/thresholded_masks_256/1088.jpg',\n",
              " '/content/drive/MyDrive/Deloite_Orientation1/thresholded_masks_256/1089.jpg',\n",
              " '/content/drive/MyDrive/Deloite_Orientation1/thresholded_masks_256/109.jpg',\n",
              " '/content/drive/MyDrive/Deloite_Orientation1/thresholded_masks_256/1090.jpg',\n",
              " '/content/drive/MyDrive/Deloite_Orientation1/thresholded_masks_256/1091.jpg',\n",
              " '/content/drive/MyDrive/Deloite_Orientation1/thresholded_masks_256/1092.jpg',\n",
              " '/content/drive/MyDrive/Deloite_Orientation1/thresholded_masks_256/1093.jpg',\n",
              " '/content/drive/MyDrive/Deloite_Orientation1/thresholded_masks_256/1094.jpg',\n",
              " '/content/drive/MyDrive/Deloite_Orientation1/thresholded_masks_256/1095.jpg',\n",
              " '/content/drive/MyDrive/Deloite_Orientation1/thresholded_masks_256/1096.jpg',\n",
              " '/content/drive/MyDrive/Deloite_Orientation1/thresholded_masks_256/1097.jpg',\n",
              " '/content/drive/MyDrive/Deloite_Orientation1/thresholded_masks_256/1098.jpg',\n",
              " '/content/drive/MyDrive/Deloite_Orientation1/thresholded_masks_256/1099.jpg',\n",
              " '/content/drive/MyDrive/Deloite_Orientation1/thresholded_masks_256/10_a-aug_6.jpg',\n",
              " '/content/drive/MyDrive/Deloite_Orientation1/thresholded_masks_256/10_a-aug_7.jpg',\n",
              " '/content/drive/MyDrive/Deloite_Orientation1/thresholded_masks_256/10_a-aug_8.jpg',\n",
              " '/content/drive/MyDrive/Deloite_Orientation1/thresholded_masks_256/10_a-aug_9.jpg',\n",
              " '/content/drive/MyDrive/Deloite_Orientation1/thresholded_masks_256/10_a.jpg',\n",
              " '/content/drive/MyDrive/Deloite_Orientation1/thresholded_masks_256/110.jpg',\n",
              " '/content/drive/MyDrive/Deloite_Orientation1/thresholded_masks_256/1100.jpg',\n",
              " '/content/drive/MyDrive/Deloite_Orientation1/thresholded_masks_256/1101.jpg',\n",
              " '/content/drive/MyDrive/Deloite_Orientation1/thresholded_masks_256/1102.jpg',\n",
              " '/content/drive/MyDrive/Deloite_Orientation1/thresholded_masks_256/1103.jpg',\n",
              " '/content/drive/MyDrive/Deloite_Orientation1/thresholded_masks_256/1107.jpg',\n",
              " '/content/drive/MyDrive/Deloite_Orientation1/thresholded_masks_256/1108.jpg',\n",
              " '/content/drive/MyDrive/Deloite_Orientation1/thresholded_masks_256/111.jpg',\n",
              " '/content/drive/MyDrive/Deloite_Orientation1/thresholded_masks_256/1113.jpg',\n",
              " '/content/drive/MyDrive/Deloite_Orientation1/thresholded_masks_256/1115.jpg',\n",
              " '/content/drive/MyDrive/Deloite_Orientation1/thresholded_masks_256/1116.jpg',\n",
              " '/content/drive/MyDrive/Deloite_Orientation1/thresholded_masks_256/1117.jpg',\n",
              " '/content/drive/MyDrive/Deloite_Orientation1/thresholded_masks_256/1118.jpg',\n",
              " '/content/drive/MyDrive/Deloite_Orientation1/thresholded_masks_256/1119.jpg',\n",
              " '/content/drive/MyDrive/Deloite_Orientation1/thresholded_masks_256/112.jpg',\n",
              " '/content/drive/MyDrive/Deloite_Orientation1/thresholded_masks_256/1120.jpg',\n",
              " '/content/drive/MyDrive/Deloite_Orientation1/thresholded_masks_256/1121.jpg',\n",
              " '/content/drive/MyDrive/Deloite_Orientation1/thresholded_masks_256/1122.jpg',\n",
              " '/content/drive/MyDrive/Deloite_Orientation1/thresholded_masks_256/1123.jpg',\n",
              " '/content/drive/MyDrive/Deloite_Orientation1/thresholded_masks_256/1127.jpg',\n",
              " '/content/drive/MyDrive/Deloite_Orientation1/thresholded_masks_256/1128.jpg',\n",
              " '/content/drive/MyDrive/Deloite_Orientation1/thresholded_masks_256/1129.jpg',\n",
              " '/content/drive/MyDrive/Deloite_Orientation1/thresholded_masks_256/112_a-aug_0.jpg',\n",
              " '/content/drive/MyDrive/Deloite_Orientation1/thresholded_masks_256/112_a-aug_2.jpg',\n",
              " '/content/drive/MyDrive/Deloite_Orientation1/thresholded_masks_256/112_a-aug_3.jpg',\n",
              " '/content/drive/MyDrive/Deloite_Orientation1/thresholded_masks_256/112_a-aug_4.jpg',\n",
              " '/content/drive/MyDrive/Deloite_Orientation1/thresholded_masks_256/112_a-aug_5.jpg',\n",
              " '/content/drive/MyDrive/Deloite_Orientation1/thresholded_masks_256/112_a-aug_6.jpg',\n",
              " '/content/drive/MyDrive/Deloite_Orientation1/thresholded_masks_256/112_a-aug_7.jpg',\n",
              " '/content/drive/MyDrive/Deloite_Orientation1/thresholded_masks_256/112_a-aug_8.jpg',\n",
              " '/content/drive/MyDrive/Deloite_Orientation1/thresholded_masks_256/112_a-aug_9.jpg',\n",
              " '/content/drive/MyDrive/Deloite_Orientation1/thresholded_masks_256/112_a.jpg',\n",
              " '/content/drive/MyDrive/Deloite_Orientation1/thresholded_masks_256/113.jpg',\n",
              " '/content/drive/MyDrive/Deloite_Orientation1/thresholded_masks_256/1130.jpg',\n",
              " '/content/drive/MyDrive/Deloite_Orientation1/thresholded_masks_256/1131.jpg',\n",
              " '/content/drive/MyDrive/Deloite_Orientation1/thresholded_masks_256/1132.jpg',\n",
              " '/content/drive/MyDrive/Deloite_Orientation1/thresholded_masks_256/1133.jpg',\n",
              " '/content/drive/MyDrive/Deloite_Orientation1/thresholded_masks_256/1134.jpg',\n",
              " '/content/drive/MyDrive/Deloite_Orientation1/thresholded_masks_256/1137.jpg',\n",
              " '/content/drive/MyDrive/Deloite_Orientation1/thresholded_masks_256/1138.jpg',\n",
              " '/content/drive/MyDrive/Deloite_Orientation1/thresholded_masks_256/1139.jpg',\n",
              " '/content/drive/MyDrive/Deloite_Orientation1/thresholded_masks_256/113_a-aug_0.jpg',\n",
              " '/content/drive/MyDrive/Deloite_Orientation1/thresholded_masks_256/113_a-aug_2.jpg',\n",
              " '/content/drive/MyDrive/Deloite_Orientation1/thresholded_masks_256/113_a-aug_3.jpg',\n",
              " '/content/drive/MyDrive/Deloite_Orientation1/thresholded_masks_256/113_a-aug_4.jpg',\n",
              " '/content/drive/MyDrive/Deloite_Orientation1/thresholded_masks_256/113_a-aug_5.jpg',\n",
              " '/content/drive/MyDrive/Deloite_Orientation1/thresholded_masks_256/113_a-aug_6.jpg',\n",
              " '/content/drive/MyDrive/Deloite_Orientation1/thresholded_masks_256/113_a-aug_7.jpg',\n",
              " '/content/drive/MyDrive/Deloite_Orientation1/thresholded_masks_256/113_a-aug_8.jpg',\n",
              " '/content/drive/MyDrive/Deloite_Orientation1/thresholded_masks_256/113_a-aug_9.jpg',\n",
              " '/content/drive/MyDrive/Deloite_Orientation1/thresholded_masks_256/113_a.jpg',\n",
              " '/content/drive/MyDrive/Deloite_Orientation1/thresholded_masks_256/114-aug_0.jpg',\n",
              " '/content/drive/MyDrive/Deloite_Orientation1/thresholded_masks_256/114-aug_2.jpg',\n",
              " '/content/drive/MyDrive/Deloite_Orientation1/thresholded_masks_256/114-aug_3.jpg',\n",
              " '/content/drive/MyDrive/Deloite_Orientation1/thresholded_masks_256/114-aug_4.jpg',\n",
              " '/content/drive/MyDrive/Deloite_Orientation1/thresholded_masks_256/114-aug_5.jpg',\n",
              " '/content/drive/MyDrive/Deloite_Orientation1/thresholded_masks_256/114-aug_6.jpg',\n",
              " '/content/drive/MyDrive/Deloite_Orientation1/thresholded_masks_256/114-aug_7.jpg',\n",
              " '/content/drive/MyDrive/Deloite_Orientation1/thresholded_masks_256/114-aug_8.jpg',\n",
              " '/content/drive/MyDrive/Deloite_Orientation1/thresholded_masks_256/114-aug_9.jpg',\n",
              " '/content/drive/MyDrive/Deloite_Orientation1/thresholded_masks_256/114.jpg',\n",
              " '/content/drive/MyDrive/Deloite_Orientation1/thresholded_masks_256/1140.jpg',\n",
              " '/content/drive/MyDrive/Deloite_Orientation1/thresholded_masks_256/1141.jpg',\n",
              " '/content/drive/MyDrive/Deloite_Orientation1/thresholded_masks_256/1142.jpg',\n",
              " '/content/drive/MyDrive/Deloite_Orientation1/thresholded_masks_256/1143.jpg',\n",
              " '/content/drive/MyDrive/Deloite_Orientation1/thresholded_masks_256/1144.jpg',\n",
              " '/content/drive/MyDrive/Deloite_Orientation1/thresholded_masks_256/1145.jpg',\n",
              " '/content/drive/MyDrive/Deloite_Orientation1/thresholded_masks_256/1147.jpg',\n",
              " '/content/drive/MyDrive/Deloite_Orientation1/thresholded_masks_256/1148.jpg',\n",
              " '/content/drive/MyDrive/Deloite_Orientation1/thresholded_masks_256/1149.jpg',\n",
              " '/content/drive/MyDrive/Deloite_Orientation1/thresholded_masks_256/114_a-aug_0.jpg',\n",
              " '/content/drive/MyDrive/Deloite_Orientation1/thresholded_masks_256/114_a-aug_2.jpg',\n",
              " '/content/drive/MyDrive/Deloite_Orientation1/thresholded_masks_256/114_a-aug_3.jpg',\n",
              " '/content/drive/MyDrive/Deloite_Orientation1/thresholded_masks_256/114_a-aug_4.jpg',\n",
              " '/content/drive/MyDrive/Deloite_Orientation1/thresholded_masks_256/114_a-aug_5.jpg',\n",
              " '/content/drive/MyDrive/Deloite_Orientation1/thresholded_masks_256/114_a-aug_6.jpg',\n",
              " '/content/drive/MyDrive/Deloite_Orientation1/thresholded_masks_256/114_a-aug_7.jpg',\n",
              " '/content/drive/MyDrive/Deloite_Orientation1/thresholded_masks_256/114_a-aug_8.jpg',\n",
              " '/content/drive/MyDrive/Deloite_Orientation1/thresholded_masks_256/114_a-aug_9.jpg',\n",
              " '/content/drive/MyDrive/Deloite_Orientation1/thresholded_masks_256/114_a.jpg',\n",
              " '/content/drive/MyDrive/Deloite_Orientation1/thresholded_masks_256/115.jpg',\n",
              " '/content/drive/MyDrive/Deloite_Orientation1/thresholded_masks_256/1151.jpg',\n",
              " '/content/drive/MyDrive/Deloite_Orientation1/thresholded_masks_256/1152.jpg',\n",
              " '/content/drive/MyDrive/Deloite_Orientation1/thresholded_masks_256/1153.jpg',\n",
              " '/content/drive/MyDrive/Deloite_Orientation1/thresholded_masks_256/1154.jpg',\n",
              " '/content/drive/MyDrive/Deloite_Orientation1/thresholded_masks_256/1155.jpg',\n",
              " '/content/drive/MyDrive/Deloite_Orientation1/thresholded_masks_256/1159.jpg',\n",
              " '/content/drive/MyDrive/Deloite_Orientation1/thresholded_masks_256/116-aug_0.jpg',\n",
              " '/content/drive/MyDrive/Deloite_Orientation1/thresholded_masks_256/116-aug_2.jpg',\n",
              " '/content/drive/MyDrive/Deloite_Orientation1/thresholded_masks_256/116-aug_3.jpg',\n",
              " '/content/drive/MyDrive/Deloite_Orientation1/thresholded_masks_256/116-aug_4.jpg',\n",
              " '/content/drive/MyDrive/Deloite_Orientation1/thresholded_masks_256/116-aug_5.jpg',\n",
              " '/content/drive/MyDrive/Deloite_Orientation1/thresholded_masks_256/116-aug_6.jpg',\n",
              " '/content/drive/MyDrive/Deloite_Orientation1/thresholded_masks_256/116-aug_7.jpg',\n",
              " '/content/drive/MyDrive/Deloite_Orientation1/thresholded_masks_256/116-aug_8.jpg',\n",
              " '/content/drive/MyDrive/Deloite_Orientation1/thresholded_masks_256/116-aug_9.jpg',\n",
              " '/content/drive/MyDrive/Deloite_Orientation1/thresholded_masks_256/116.jpg',\n",
              " '/content/drive/MyDrive/Deloite_Orientation1/thresholded_masks_256/1164.jpg',\n",
              " '/content/drive/MyDrive/Deloite_Orientation1/thresholded_masks_256/1165.jpg',\n",
              " '/content/drive/MyDrive/Deloite_Orientation1/thresholded_masks_256/1166.jpg',\n",
              " '/content/drive/MyDrive/Deloite_Orientation1/thresholded_masks_256/1167.jpg',\n",
              " '/content/drive/MyDrive/Deloite_Orientation1/thresholded_masks_256/1168.jpg',\n",
              " '/content/drive/MyDrive/Deloite_Orientation1/thresholded_masks_256/1169.jpg',\n",
              " '/content/drive/MyDrive/Deloite_Orientation1/thresholded_masks_256/117.jpg',\n",
              " '/content/drive/MyDrive/Deloite_Orientation1/thresholded_masks_256/1170.jpg',\n",
              " '/content/drive/MyDrive/Deloite_Orientation1/thresholded_masks_256/1171.jpg',\n",
              " '/content/drive/MyDrive/Deloite_Orientation1/thresholded_masks_256/1173.jpg',\n",
              " '/content/drive/MyDrive/Deloite_Orientation1/thresholded_masks_256/1175.jpg',\n",
              " '/content/drive/MyDrive/Deloite_Orientation1/thresholded_masks_256/1176.jpg',\n",
              " '/content/drive/MyDrive/Deloite_Orientation1/thresholded_masks_256/1177.jpg',\n",
              " '/content/drive/MyDrive/Deloite_Orientation1/thresholded_masks_256/1178.jpg',\n",
              " '/content/drive/MyDrive/Deloite_Orientation1/thresholded_masks_256/1179.jpg',\n",
              " '/content/drive/MyDrive/Deloite_Orientation1/thresholded_masks_256/118.jpg',\n",
              " '/content/drive/MyDrive/Deloite_Orientation1/thresholded_masks_256/1184.jpg',\n",
              " '/content/drive/MyDrive/Deloite_Orientation1/thresholded_masks_256/1186.jpg',\n",
              " '/content/drive/MyDrive/Deloite_Orientation1/thresholded_masks_256/1188.jpg',\n",
              " '/content/drive/MyDrive/Deloite_Orientation1/thresholded_masks_256/1189.jpg',\n",
              " '/content/drive/MyDrive/Deloite_Orientation1/thresholded_masks_256/119.jpg',\n",
              " '/content/drive/MyDrive/Deloite_Orientation1/thresholded_masks_256/1193.jpg',\n",
              " '/content/drive/MyDrive/Deloite_Orientation1/thresholded_masks_256/1194.jpg',\n",
              " '/content/drive/MyDrive/Deloite_Orientation1/thresholded_masks_256/1195.jpg',\n",
              " '/content/drive/MyDrive/Deloite_Orientation1/thresholded_masks_256/1196.jpg',\n",
              " '/content/drive/MyDrive/Deloite_Orientation1/thresholded_masks_256/1197.jpg',\n",
              " '/content/drive/MyDrive/Deloite_Orientation1/thresholded_masks_256/1198.jpg',\n",
              " '/content/drive/MyDrive/Deloite_Orientation1/thresholded_masks_256/1199.jpg',\n",
              " '/content/drive/MyDrive/Deloite_Orientation1/thresholded_masks_256/11_a-aug_7.jpg',\n",
              " '/content/drive/MyDrive/Deloite_Orientation1/thresholded_masks_256/11_a-aug_8.jpg',\n",
              " '/content/drive/MyDrive/Deloite_Orientation1/thresholded_masks_256/11_a-aug_9.jpg',\n",
              " '/content/drive/MyDrive/Deloite_Orientation1/thresholded_masks_256/11_a.jpg',\n",
              " '/content/drive/MyDrive/Deloite_Orientation1/thresholded_masks_256/12-aug_4.jpg',\n",
              " '/content/drive/MyDrive/Deloite_Orientation1/thresholded_masks_256/12-aug_5.jpg',\n",
              " '/content/drive/MyDrive/Deloite_Orientation1/thresholded_masks_256/12-aug_6.jpg',\n",
              " '/content/drive/MyDrive/Deloite_Orientation1/thresholded_masks_256/12-aug_7.jpg',\n",
              " '/content/drive/MyDrive/Deloite_Orientation1/thresholded_masks_256/12.jpg',\n",
              " '/content/drive/MyDrive/Deloite_Orientation1/thresholded_masks_256/120-aug_0.jpg',\n",
              " '/content/drive/MyDrive/Deloite_Orientation1/thresholded_masks_256/120-aug_2.jpg',\n",
              " '/content/drive/MyDrive/Deloite_Orientation1/thresholded_masks_256/120-aug_3.jpg',\n",
              " '/content/drive/MyDrive/Deloite_Orientation1/thresholded_masks_256/120-aug_4.jpg',\n",
              " '/content/drive/MyDrive/Deloite_Orientation1/thresholded_masks_256/120-aug_5.jpg',\n",
              " '/content/drive/MyDrive/Deloite_Orientation1/thresholded_masks_256/120-aug_6.jpg',\n",
              " '/content/drive/MyDrive/Deloite_Orientation1/thresholded_masks_256/120-aug_7.jpg',\n",
              " '/content/drive/MyDrive/Deloite_Orientation1/thresholded_masks_256/120-aug_8.jpg',\n",
              " '/content/drive/MyDrive/Deloite_Orientation1/thresholded_masks_256/120-aug_9.jpg',\n",
              " '/content/drive/MyDrive/Deloite_Orientation1/thresholded_masks_256/120.jpg',\n",
              " '/content/drive/MyDrive/Deloite_Orientation1/thresholded_masks_256/1200.jpg',\n",
              " '/content/drive/MyDrive/Deloite_Orientation1/thresholded_masks_256/1201.jpg',\n",
              " '/content/drive/MyDrive/Deloite_Orientation1/thresholded_masks_256/1202.jpg',\n",
              " '/content/drive/MyDrive/Deloite_Orientation1/thresholded_masks_256/1204.jpg',\n",
              " '/content/drive/MyDrive/Deloite_Orientation1/thresholded_masks_256/1206.jpg',\n",
              " '/content/drive/MyDrive/Deloite_Orientation1/thresholded_masks_256/120_a-aug_0.jpg',\n",
              " '/content/drive/MyDrive/Deloite_Orientation1/thresholded_masks_256/120_a-aug_4.jpg',\n",
              " '/content/drive/MyDrive/Deloite_Orientation1/thresholded_masks_256/120_a-aug_5.jpg',\n",
              " '/content/drive/MyDrive/Deloite_Orientation1/thresholded_masks_256/120_a-aug_6.jpg',\n",
              " '/content/drive/MyDrive/Deloite_Orientation1/thresholded_masks_256/120_a-aug_7.jpg',\n",
              " '/content/drive/MyDrive/Deloite_Orientation1/thresholded_masks_256/120_a-aug_8.jpg',\n",
              " '/content/drive/MyDrive/Deloite_Orientation1/thresholded_masks_256/120_a-aug_9.jpg',\n",
              " '/content/drive/MyDrive/Deloite_Orientation1/thresholded_masks_256/121-aug_0.jpg',\n",
              " '/content/drive/MyDrive/Deloite_Orientation1/thresholded_masks_256/121-aug_2.jpg',\n",
              " '/content/drive/MyDrive/Deloite_Orientation1/thresholded_masks_256/121-aug_3.jpg',\n",
              " '/content/drive/MyDrive/Deloite_Orientation1/thresholded_masks_256/121-aug_4.jpg',\n",
              " '/content/drive/MyDrive/Deloite_Orientation1/thresholded_masks_256/121-aug_5.jpg',\n",
              " '/content/drive/MyDrive/Deloite_Orientation1/thresholded_masks_256/121-aug_6.jpg',\n",
              " '/content/drive/MyDrive/Deloite_Orientation1/thresholded_masks_256/121-aug_7.jpg',\n",
              " '/content/drive/MyDrive/Deloite_Orientation1/thresholded_masks_256/121-aug_8.jpg',\n",
              " '/content/drive/MyDrive/Deloite_Orientation1/thresholded_masks_256/121-aug_9.jpg',\n",
              " '/content/drive/MyDrive/Deloite_Orientation1/thresholded_masks_256/121.jpg',\n",
              " '/content/drive/MyDrive/Deloite_Orientation1/thresholded_masks_256/1210.jpg',\n",
              " '/content/drive/MyDrive/Deloite_Orientation1/thresholded_masks_256/1211.jpg',\n",
              " '/content/drive/MyDrive/Deloite_Orientation1/thresholded_masks_256/1212.jpg',\n",
              " '/content/drive/MyDrive/Deloite_Orientation1/thresholded_masks_256/1213.jpg',\n",
              " '/content/drive/MyDrive/Deloite_Orientation1/thresholded_masks_256/1214.jpg',\n",
              " '/content/drive/MyDrive/Deloite_Orientation1/thresholded_masks_256/1215.jpg',\n",
              " '/content/drive/MyDrive/Deloite_Orientation1/thresholded_masks_256/1216.jpg',\n",
              " '/content/drive/MyDrive/Deloite_Orientation1/thresholded_masks_256/1217.jpg',\n",
              " '/content/drive/MyDrive/Deloite_Orientation1/thresholded_masks_256/1218.jpg',\n",
              " '/content/drive/MyDrive/Deloite_Orientation1/thresholded_masks_256/1219.jpg',\n",
              " '/content/drive/MyDrive/Deloite_Orientation1/thresholded_masks_256/121_a-aug_0.jpg',\n",
              " '/content/drive/MyDrive/Deloite_Orientation1/thresholded_masks_256/121_a-aug_2.jpg',\n",
              " '/content/drive/MyDrive/Deloite_Orientation1/thresholded_masks_256/121_a-aug_3.jpg',\n",
              " '/content/drive/MyDrive/Deloite_Orientation1/thresholded_masks_256/121_a-aug_4.jpg',\n",
              " '/content/drive/MyDrive/Deloite_Orientation1/thresholded_masks_256/121_a-aug_5.jpg',\n",
              " '/content/drive/MyDrive/Deloite_Orientation1/thresholded_masks_256/121_a-aug_6.jpg',\n",
              " '/content/drive/MyDrive/Deloite_Orientation1/thresholded_masks_256/121_a-aug_7.jpg',\n",
              " '/content/drive/MyDrive/Deloite_Orientation1/thresholded_masks_256/121_a-aug_8.jpg',\n",
              " '/content/drive/MyDrive/Deloite_Orientation1/thresholded_masks_256/121_a-aug_9.jpg',\n",
              " '/content/drive/MyDrive/Deloite_Orientation1/thresholded_masks_256/121_a.jpg',\n",
              " '/content/drive/MyDrive/Deloite_Orientation1/thresholded_masks_256/122.jpg',\n",
              " '/content/drive/MyDrive/Deloite_Orientation1/thresholded_masks_256/1220.jpg',\n",
              " '/content/drive/MyDrive/Deloite_Orientation1/thresholded_masks_256/1221.jpg',\n",
              " '/content/drive/MyDrive/Deloite_Orientation1/thresholded_masks_256/1222.jpg',\n",
              " '/content/drive/MyDrive/Deloite_Orientation1/thresholded_masks_256/1223.jpg',\n",
              " '/content/drive/MyDrive/Deloite_Orientation1/thresholded_masks_256/1226.jpg',\n",
              " '/content/drive/MyDrive/Deloite_Orientation1/thresholded_masks_256/123.jpg',\n",
              " '/content/drive/MyDrive/Deloite_Orientation1/thresholded_masks_256/1231.jpg',\n",
              " '/content/drive/MyDrive/Deloite_Orientation1/thresholded_masks_256/1233.jpg',\n",
              " '/content/drive/MyDrive/Deloite_Orientation1/thresholded_masks_256/1234.jpg',\n",
              " '/content/drive/MyDrive/Deloite_Orientation1/thresholded_masks_256/1235.jpg',\n",
              " '/content/drive/MyDrive/Deloite_Orientation1/thresholded_masks_256/1236.jpg',\n",
              " '/content/drive/MyDrive/Deloite_Orientation1/thresholded_masks_256/1237.jpg',\n",
              " '/content/drive/MyDrive/Deloite_Orientation1/thresholded_masks_256/1238.jpg',\n",
              " '/content/drive/MyDrive/Deloite_Orientation1/thresholded_masks_256/1239.jpg',\n",
              " '/content/drive/MyDrive/Deloite_Orientation1/thresholded_masks_256/124.jpg',\n",
              " '/content/drive/MyDrive/Deloite_Orientation1/thresholded_masks_256/1240.jpg',\n",
              " '/content/drive/MyDrive/Deloite_Orientation1/thresholded_masks_256/1244.jpg',\n",
              " '/content/drive/MyDrive/Deloite_Orientation1/thresholded_masks_256/1245.jpg',\n",
              " '/content/drive/MyDrive/Deloite_Orientation1/thresholded_masks_256/1246.jpg',\n",
              " '/content/drive/MyDrive/Deloite_Orientation1/thresholded_masks_256/1249.jpg',\n",
              " '/content/drive/MyDrive/Deloite_Orientation1/thresholded_masks_256/124_a-aug_0.jpg',\n",
              " '/content/drive/MyDrive/Deloite_Orientation1/thresholded_masks_256/124_a-aug_2.jpg',\n",
              " '/content/drive/MyDrive/Deloite_Orientation1/thresholded_masks_256/124_a-aug_3.jpg',\n",
              " '/content/drive/MyDrive/Deloite_Orientation1/thresholded_masks_256/124_a-aug_4.jpg',\n",
              " '/content/drive/MyDrive/Deloite_Orientation1/thresholded_masks_256/124_a-aug_5.jpg',\n",
              " '/content/drive/MyDrive/Deloite_Orientation1/thresholded_masks_256/124_a-aug_6.jpg',\n",
              " '/content/drive/MyDrive/Deloite_Orientation1/thresholded_masks_256/124_a-aug_7.jpg',\n",
              " '/content/drive/MyDrive/Deloite_Orientation1/thresholded_masks_256/124_a-aug_8.jpg',\n",
              " '/content/drive/MyDrive/Deloite_Orientation1/thresholded_masks_256/124_a-aug_9.jpg',\n",
              " '/content/drive/MyDrive/Deloite_Orientation1/thresholded_masks_256/124_a.jpg',\n",
              " '/content/drive/MyDrive/Deloite_Orientation1/thresholded_masks_256/1251.jpg',\n",
              " '/content/drive/MyDrive/Deloite_Orientation1/thresholded_masks_256/1252.jpg',\n",
              " '/content/drive/MyDrive/Deloite_Orientation1/thresholded_masks_256/1253.jpg',\n",
              " '/content/drive/MyDrive/Deloite_Orientation1/thresholded_masks_256/1254.jpg',\n",
              " '/content/drive/MyDrive/Deloite_Orientation1/thresholded_masks_256/1255.jpg',\n",
              " '/content/drive/MyDrive/Deloite_Orientation1/thresholded_masks_256/1257.jpg',\n",
              " '/content/drive/MyDrive/Deloite_Orientation1/thresholded_masks_256/1259.jpg',\n",
              " '/content/drive/MyDrive/Deloite_Orientation1/thresholded_masks_256/125_a-aug_0.jpg',\n",
              " '/content/drive/MyDrive/Deloite_Orientation1/thresholded_masks_256/125_a-aug_2.jpg',\n",
              " '/content/drive/MyDrive/Deloite_Orientation1/thresholded_masks_256/125_a-aug_3.jpg',\n",
              " '/content/drive/MyDrive/Deloite_Orientation1/thresholded_masks_256/125_a-aug_4.jpg',\n",
              " '/content/drive/MyDrive/Deloite_Orientation1/thresholded_masks_256/125_a-aug_5.jpg',\n",
              " '/content/drive/MyDrive/Deloite_Orientation1/thresholded_masks_256/125_a-aug_6.jpg',\n",
              " '/content/drive/MyDrive/Deloite_Orientation1/thresholded_masks_256/125_a-aug_7.jpg',\n",
              " '/content/drive/MyDrive/Deloite_Orientation1/thresholded_masks_256/125_a-aug_8.jpg',\n",
              " '/content/drive/MyDrive/Deloite_Orientation1/thresholded_masks_256/125_a-aug_9.jpg',\n",
              " '/content/drive/MyDrive/Deloite_Orientation1/thresholded_masks_256/125_a.jpg',\n",
              " '/content/drive/MyDrive/Deloite_Orientation1/thresholded_masks_256/1260.jpg',\n",
              " '/content/drive/MyDrive/Deloite_Orientation1/thresholded_masks_256/1264.jpg',\n",
              " '/content/drive/MyDrive/Deloite_Orientation1/thresholded_masks_256/1265.jpg',\n",
              " '/content/drive/MyDrive/Deloite_Orientation1/thresholded_masks_256/1266.jpg',\n",
              " '/content/drive/MyDrive/Deloite_Orientation1/thresholded_masks_256/1267.jpg',\n",
              " '/content/drive/MyDrive/Deloite_Orientation1/thresholded_masks_256/127.jpg',\n",
              " '/content/drive/MyDrive/Deloite_Orientation1/thresholded_masks_256/1274.jpg',\n",
              " '/content/drive/MyDrive/Deloite_Orientation1/thresholded_masks_256/1275.jpg',\n",
              " '/content/drive/MyDrive/Deloite_Orientation1/thresholded_masks_256/1277.jpg',\n",
              " '/content/drive/MyDrive/Deloite_Orientation1/thresholded_masks_256/128.jpg',\n",
              " '/content/drive/MyDrive/Deloite_Orientation1/thresholded_masks_256/1280.jpg',\n",
              " '/content/drive/MyDrive/Deloite_Orientation1/thresholded_masks_256/1281.jpg',\n",
              " '/content/drive/MyDrive/Deloite_Orientation1/thresholded_masks_256/1282.jpg',\n",
              " '/content/drive/MyDrive/Deloite_Orientation1/thresholded_masks_256/1283.jpg',\n",
              " '/content/drive/MyDrive/Deloite_Orientation1/thresholded_masks_256/1284.jpg',\n",
              " '/content/drive/MyDrive/Deloite_Orientation1/thresholded_masks_256/1285.jpg',\n",
              " '/content/drive/MyDrive/Deloite_Orientation1/thresholded_masks_256/1286.jpg',\n",
              " '/content/drive/MyDrive/Deloite_Orientation1/thresholded_masks_256/1287.jpg',\n",
              " '/content/drive/MyDrive/Deloite_Orientation1/thresholded_masks_256/1288.jpg',\n",
              " '/content/drive/MyDrive/Deloite_Orientation1/thresholded_masks_256/1289.jpg',\n",
              " '/content/drive/MyDrive/Deloite_Orientation1/thresholded_masks_256/129.jpg',\n",
              " '/content/drive/MyDrive/Deloite_Orientation1/thresholded_masks_256/1290.jpg',\n",
              " '/content/drive/MyDrive/Deloite_Orientation1/thresholded_masks_256/1291.jpg',\n",
              " '/content/drive/MyDrive/Deloite_Orientation1/thresholded_masks_256/1292.jpg',\n",
              " '/content/drive/MyDrive/Deloite_Orientation1/thresholded_masks_256/12_a-aug_6.jpg',\n",
              " '/content/drive/MyDrive/Deloite_Orientation1/thresholded_masks_256/12_a-aug_7.jpg',\n",
              " '/content/drive/MyDrive/Deloite_Orientation1/thresholded_masks_256/12_a-aug_8.jpg',\n",
              " '/content/drive/MyDrive/Deloite_Orientation1/thresholded_masks_256/12_a-aug_9.jpg',\n",
              " '/content/drive/MyDrive/Deloite_Orientation1/thresholded_masks_256/12_a.jpg',\n",
              " '/content/drive/MyDrive/Deloite_Orientation1/thresholded_masks_256/13-aug_6.jpg',\n",
              " '/content/drive/MyDrive/Deloite_Orientation1/thresholded_masks_256/13-aug_7.jpg',\n",
              " '/content/drive/MyDrive/Deloite_Orientation1/thresholded_masks_256/13-aug_8.jpg',\n",
              " '/content/drive/MyDrive/Deloite_Orientation1/thresholded_masks_256/13-aug_9.jpg',\n",
              " '/content/drive/MyDrive/Deloite_Orientation1/thresholded_masks_256/13.jpg',\n",
              " '/content/drive/MyDrive/Deloite_Orientation1/thresholded_masks_256/130-aug_0.jpg',\n",
              " '/content/drive/MyDrive/Deloite_Orientation1/thresholded_masks_256/130-aug_2.jpg',\n",
              " '/content/drive/MyDrive/Deloite_Orientation1/thresholded_masks_256/130-aug_3.jpg',\n",
              " '/content/drive/MyDrive/Deloite_Orientation1/thresholded_masks_256/130-aug_4.jpg',\n",
              " '/content/drive/MyDrive/Deloite_Orientation1/thresholded_masks_256/130-aug_5.jpg',\n",
              " '/content/drive/MyDrive/Deloite_Orientation1/thresholded_masks_256/130-aug_6.jpg',\n",
              " '/content/drive/MyDrive/Deloite_Orientation1/thresholded_masks_256/130-aug_7.jpg',\n",
              " '/content/drive/MyDrive/Deloite_Orientation1/thresholded_masks_256/130-aug_8.jpg',\n",
              " '/content/drive/MyDrive/Deloite_Orientation1/thresholded_masks_256/130-aug_9.jpg',\n",
              " '/content/drive/MyDrive/Deloite_Orientation1/thresholded_masks_256/130.jpg',\n",
              " '/content/drive/MyDrive/Deloite_Orientation1/thresholded_masks_256/1300.jpg',\n",
              " '/content/drive/MyDrive/Deloite_Orientation1/thresholded_masks_256/1302.jpg',\n",
              " '/content/drive/MyDrive/Deloite_Orientation1/thresholded_masks_256/1303.jpg',\n",
              " '/content/drive/MyDrive/Deloite_Orientation1/thresholded_masks_256/1304.jpg',\n",
              " '/content/drive/MyDrive/Deloite_Orientation1/thresholded_masks_256/1308.jpg',\n",
              " '/content/drive/MyDrive/Deloite_Orientation1/thresholded_masks_256/1309.jpg',\n",
              " '/content/drive/MyDrive/Deloite_Orientation1/thresholded_masks_256/131.jpg',\n",
              " '/content/drive/MyDrive/Deloite_Orientation1/thresholded_masks_256/1310.jpg',\n",
              " '/content/drive/MyDrive/Deloite_Orientation1/thresholded_masks_256/1313.jpg',\n",
              " '/content/drive/MyDrive/Deloite_Orientation1/thresholded_masks_256/1318.jpg',\n",
              " '/content/drive/MyDrive/Deloite_Orientation1/thresholded_masks_256/1319.jpg',\n",
              " '/content/drive/MyDrive/Deloite_Orientation1/thresholded_masks_256/132.jpg',\n",
              " '/content/drive/MyDrive/Deloite_Orientation1/thresholded_masks_256/1320.jpg',\n",
              " '/content/drive/MyDrive/Deloite_Orientation1/thresholded_masks_256/1321.jpg',\n",
              " '/content/drive/MyDrive/Deloite_Orientation1/thresholded_masks_256/1322.jpg',\n",
              " '/content/drive/MyDrive/Deloite_Orientation1/thresholded_masks_256/1323.jpg',\n",
              " '/content/drive/MyDrive/Deloite_Orientation1/thresholded_masks_256/1324.jpg',\n",
              " '/content/drive/MyDrive/Deloite_Orientation1/thresholded_masks_256/1325.jpg',\n",
              " '/content/drive/MyDrive/Deloite_Orientation1/thresholded_masks_256/1326.jpg',\n",
              " '/content/drive/MyDrive/Deloite_Orientation1/thresholded_masks_256/1327.jpg',\n",
              " '/content/drive/MyDrive/Deloite_Orientation1/thresholded_masks_256/1328.jpg',\n",
              " '/content/drive/MyDrive/Deloite_Orientation1/thresholded_masks_256/1329.jpg',\n",
              " '/content/drive/MyDrive/Deloite_Orientation1/thresholded_masks_256/133.jpg',\n",
              " '/content/drive/MyDrive/Deloite_Orientation1/thresholded_masks_256/1330.jpg',\n",
              " '/content/drive/MyDrive/Deloite_Orientation1/thresholded_masks_256/1334.jpg',\n",
              " '/content/drive/MyDrive/Deloite_Orientation1/thresholded_masks_256/1335.jpg',\n",
              " '/content/drive/MyDrive/Deloite_Orientation1/thresholded_masks_256/1336.jpg',\n",
              " '/content/drive/MyDrive/Deloite_Orientation1/thresholded_masks_256/1338.jpg',\n",
              " '/content/drive/MyDrive/Deloite_Orientation1/thresholded_masks_256/134.jpg',\n",
              " '/content/drive/MyDrive/Deloite_Orientation1/thresholded_masks_256/1340.jpg',\n",
              " '/content/drive/MyDrive/Deloite_Orientation1/thresholded_masks_256/1341.jpg',\n",
              " '/content/drive/MyDrive/Deloite_Orientation1/thresholded_masks_256/1342.jpg',\n",
              " '/content/drive/MyDrive/Deloite_Orientation1/thresholded_masks_256/1343.jpg',\n",
              " '/content/drive/MyDrive/Deloite_Orientation1/thresholded_masks_256/1344.jpg',\n",
              " '/content/drive/MyDrive/Deloite_Orientation1/thresholded_masks_256/1345.jpg',\n",
              " '/content/drive/MyDrive/Deloite_Orientation1/thresholded_masks_256/1347.jpg',\n",
              " '/content/drive/MyDrive/Deloite_Orientation1/thresholded_masks_256/1348.jpg',\n",
              " '/content/drive/MyDrive/Deloite_Orientation1/thresholded_masks_256/1349.jpg',\n",
              " '/content/drive/MyDrive/Deloite_Orientation1/thresholded_masks_256/135.jpg',\n",
              " '/content/drive/MyDrive/Deloite_Orientation1/thresholded_masks_256/1350.jpg',\n",
              " '/content/drive/MyDrive/Deloite_Orientation1/thresholded_masks_256/1351.jpg',\n",
              " '/content/drive/MyDrive/Deloite_Orientation1/thresholded_masks_256/1352.jpg',\n",
              " '/content/drive/MyDrive/Deloite_Orientation1/thresholded_masks_256/1353.jpg',\n",
              " '/content/drive/MyDrive/Deloite_Orientation1/thresholded_masks_256/1354.jpg',\n",
              " '/content/drive/MyDrive/Deloite_Orientation1/thresholded_masks_256/1355.jpg',\n",
              " '/content/drive/MyDrive/Deloite_Orientation1/thresholded_masks_256/1357.jpg',\n",
              " '/content/drive/MyDrive/Deloite_Orientation1/thresholded_masks_256/1358.jpg',\n",
              " '/content/drive/MyDrive/Deloite_Orientation1/thresholded_masks_256/1359.jpg',\n",
              " '/content/drive/MyDrive/Deloite_Orientation1/thresholded_masks_256/136.jpg',\n",
              " '/content/drive/MyDrive/Deloite_Orientation1/thresholded_masks_256/1360.jpg',\n",
              " '/content/drive/MyDrive/Deloite_Orientation1/thresholded_masks_256/1361.jpg',\n",
              " '/content/drive/MyDrive/Deloite_Orientation1/thresholded_masks_256/1362.jpg',\n",
              " '/content/drive/MyDrive/Deloite_Orientation1/thresholded_masks_256/1363.jpg',\n",
              " '/content/drive/MyDrive/Deloite_Orientation1/thresholded_masks_256/1364.jpg',\n",
              " '/content/drive/MyDrive/Deloite_Orientation1/thresholded_masks_256/1365.jpg',\n",
              " '/content/drive/MyDrive/Deloite_Orientation1/thresholded_masks_256/1366.jpg',\n",
              " '/content/drive/MyDrive/Deloite_Orientation1/thresholded_masks_256/1369.jpg',\n",
              " '/content/drive/MyDrive/Deloite_Orientation1/thresholded_masks_256/137.jpg',\n",
              " '/content/drive/MyDrive/Deloite_Orientation1/thresholded_masks_256/1370.jpg',\n",
              " '/content/drive/MyDrive/Deloite_Orientation1/thresholded_masks_256/1371.jpg',\n",
              " '/content/drive/MyDrive/Deloite_Orientation1/thresholded_masks_256/1372.jpg',\n",
              " '/content/drive/MyDrive/Deloite_Orientation1/thresholded_masks_256/1373.jpg',\n",
              " '/content/drive/MyDrive/Deloite_Orientation1/thresholded_masks_256/1374.jpg',\n",
              " '/content/drive/MyDrive/Deloite_Orientation1/thresholded_masks_256/1375.jpg',\n",
              " '/content/drive/MyDrive/Deloite_Orientation1/thresholded_masks_256/1376.jpg',\n",
              " '/content/drive/MyDrive/Deloite_Orientation1/thresholded_masks_256/1378.jpg',\n",
              " '/content/drive/MyDrive/Deloite_Orientation1/thresholded_masks_256/137_a-aug_0.jpg',\n",
              " '/content/drive/MyDrive/Deloite_Orientation1/thresholded_masks_256/137_a-aug_2.jpg',\n",
              " '/content/drive/MyDrive/Deloite_Orientation1/thresholded_masks_256/137_a-aug_3.jpg',\n",
              " '/content/drive/MyDrive/Deloite_Orientation1/thresholded_masks_256/137_a-aug_4.jpg',\n",
              " '/content/drive/MyDrive/Deloite_Orientation1/thresholded_masks_256/137_a-aug_5.jpg',\n",
              " '/content/drive/MyDrive/Deloite_Orientation1/thresholded_masks_256/137_a-aug_6.jpg',\n",
              " '/content/drive/MyDrive/Deloite_Orientation1/thresholded_masks_256/137_a-aug_7.jpg',\n",
              " '/content/drive/MyDrive/Deloite_Orientation1/thresholded_masks_256/137_a-aug_8.jpg',\n",
              " '/content/drive/MyDrive/Deloite_Orientation1/thresholded_masks_256/137_a-aug_9.jpg',\n",
              " '/content/drive/MyDrive/Deloite_Orientation1/thresholded_masks_256/137_a.jpg',\n",
              " '/content/drive/MyDrive/Deloite_Orientation1/thresholded_masks_256/138.jpg',\n",
              " '/content/drive/MyDrive/Deloite_Orientation1/thresholded_masks_256/1383.jpg',\n",
              " '/content/drive/MyDrive/Deloite_Orientation1/thresholded_masks_256/1384.jpg',\n",
              " '/content/drive/MyDrive/Deloite_Orientation1/thresholded_masks_256/1385.jpg',\n",
              " '/content/drive/MyDrive/Deloite_Orientation1/thresholded_masks_256/1386.jpg',\n",
              " '/content/drive/MyDrive/Deloite_Orientation1/thresholded_masks_256/1387.jpg',\n",
              " '/content/drive/MyDrive/Deloite_Orientation1/thresholded_masks_256/1388.jpg',\n",
              " '/content/drive/MyDrive/Deloite_Orientation1/thresholded_masks_256/1389.jpg',\n",
              " '/content/drive/MyDrive/Deloite_Orientation1/thresholded_masks_256/139.jpg',\n",
              " '/content/drive/MyDrive/Deloite_Orientation1/thresholded_masks_256/1390.jpg',\n",
              " '/content/drive/MyDrive/Deloite_Orientation1/thresholded_masks_256/1391.jpg',\n",
              " '/content/drive/MyDrive/Deloite_Orientation1/thresholded_masks_256/1392.jpg',\n",
              " '/content/drive/MyDrive/Deloite_Orientation1/thresholded_masks_256/1393.jpg',\n",
              " '/content/drive/MyDrive/Deloite_Orientation1/thresholded_masks_256/1394.jpg',\n",
              " '/content/drive/MyDrive/Deloite_Orientation1/thresholded_masks_256/1395.jpg',\n",
              " '/content/drive/MyDrive/Deloite_Orientation1/thresholded_masks_256/1396.jpg',\n",
              " '/content/drive/MyDrive/Deloite_Orientation1/thresholded_masks_256/1397.jpg',\n",
              " '/content/drive/MyDrive/Deloite_Orientation1/thresholded_masks_256/1398.jpg',\n",
              " '/content/drive/MyDrive/Deloite_Orientation1/thresholded_masks_256/140.jpg',\n",
              " '/content/drive/MyDrive/Deloite_Orientation1/thresholded_masks_256/1402.jpg',\n",
              " '/content/drive/MyDrive/Deloite_Orientation1/thresholded_masks_256/1403.jpg',\n",
              " '/content/drive/MyDrive/Deloite_Orientation1/thresholded_masks_256/1404.jpg',\n",
              " '/content/drive/MyDrive/Deloite_Orientation1/thresholded_masks_256/1405.jpg',\n",
              " '/content/drive/MyDrive/Deloite_Orientation1/thresholded_masks_256/1406.jpg',\n",
              " '/content/drive/MyDrive/Deloite_Orientation1/thresholded_masks_256/1408.jpg',\n",
              " '/content/drive/MyDrive/Deloite_Orientation1/thresholded_masks_256/141.jpg',\n",
              " '/content/drive/MyDrive/Deloite_Orientation1/thresholded_masks_256/1414.jpg',\n",
              " '/content/drive/MyDrive/Deloite_Orientation1/thresholded_masks_256/1416.jpg',\n",
              " '/content/drive/MyDrive/Deloite_Orientation1/thresholded_masks_256/1417.jpg',\n",
              " '/content/drive/MyDrive/Deloite_Orientation1/thresholded_masks_256/1418.jpg',\n",
              " '/content/drive/MyDrive/Deloite_Orientation1/thresholded_masks_256/141_a-aug_0.jpg',\n",
              " '/content/drive/MyDrive/Deloite_Orientation1/thresholded_masks_256/141_a-aug_2.jpg',\n",
              " '/content/drive/MyDrive/Deloite_Orientation1/thresholded_masks_256/141_a-aug_3.jpg',\n",
              " '/content/drive/MyDrive/Deloite_Orientation1/thresholded_masks_256/141_a-aug_4.jpg',\n",
              " '/content/drive/MyDrive/Deloite_Orientation1/thresholded_masks_256/141_a-aug_5.jpg',\n",
              " '/content/drive/MyDrive/Deloite_Orientation1/thresholded_masks_256/142.jpg',\n",
              " '/content/drive/MyDrive/Deloite_Orientation1/thresholded_masks_256/1420.jpg',\n",
              " '/content/drive/MyDrive/Deloite_Orientation1/thresholded_masks_256/1421.jpg',\n",
              " '/content/drive/MyDrive/Deloite_Orientation1/thresholded_masks_256/1423.jpg',\n",
              " '/content/drive/MyDrive/Deloite_Orientation1/thresholded_masks_256/1424.jpg',\n",
              " '/content/drive/MyDrive/Deloite_Orientation1/thresholded_masks_256/1426.jpg',\n",
              " '/content/drive/MyDrive/Deloite_Orientation1/thresholded_masks_256/1428.jpg',\n",
              " '/content/drive/MyDrive/Deloite_Orientation1/thresholded_masks_256/1429.jpg',\n",
              " '/content/drive/MyDrive/Deloite_Orientation1/thresholded_masks_256/143.jpg',\n",
              " '/content/drive/MyDrive/Deloite_Orientation1/thresholded_masks_256/1430.jpg',\n",
              " '/content/drive/MyDrive/Deloite_Orientation1/thresholded_masks_256/1431.jpg',\n",
              " '/content/drive/MyDrive/Deloite_Orientation1/thresholded_masks_256/1432.jpg',\n",
              " '/content/drive/MyDrive/Deloite_Orientation1/thresholded_masks_256/1433.jpg',\n",
              " '/content/drive/MyDrive/Deloite_Orientation1/thresholded_masks_256/1434.jpg',\n",
              " '/content/drive/MyDrive/Deloite_Orientation1/thresholded_masks_256/1435.jpg',\n",
              " '/content/drive/MyDrive/Deloite_Orientation1/thresholded_masks_256/1436.jpg',\n",
              " '/content/drive/MyDrive/Deloite_Orientation1/thresholded_masks_256/1437.jpg',\n",
              " '/content/drive/MyDrive/Deloite_Orientation1/thresholded_masks_256/1438.jpg',\n",
              " '/content/drive/MyDrive/Deloite_Orientation1/thresholded_masks_256/1439.jpg',\n",
              " '/content/drive/MyDrive/Deloite_Orientation1/thresholded_masks_256/144.jpg',\n",
              " '/content/drive/MyDrive/Deloite_Orientation1/thresholded_masks_256/1440.jpg',\n",
              " '/content/drive/MyDrive/Deloite_Orientation1/thresholded_masks_256/1441.jpg',\n",
              " '/content/drive/MyDrive/Deloite_Orientation1/thresholded_masks_256/1445.jpg',\n",
              " '/content/drive/MyDrive/Deloite_Orientation1/thresholded_masks_256/1448.jpg',\n",
              " '/content/drive/MyDrive/Deloite_Orientation1/thresholded_masks_256/145.jpg',\n",
              " '/content/drive/MyDrive/Deloite_Orientation1/thresholded_masks_256/1450.jpg',\n",
              " '/content/drive/MyDrive/Deloite_Orientation1/thresholded_masks_256/1451.jpg',\n",
              " '/content/drive/MyDrive/Deloite_Orientation1/thresholded_masks_256/1452.jpg',\n",
              " '/content/drive/MyDrive/Deloite_Orientation1/thresholded_masks_256/1453.jpg',\n",
              " '/content/drive/MyDrive/Deloite_Orientation1/thresholded_masks_256/1454.jpg',\n",
              " '/content/drive/MyDrive/Deloite_Orientation1/thresholded_masks_256/1455.jpg',\n",
              " '/content/drive/MyDrive/Deloite_Orientation1/thresholded_masks_256/1456.jpg',\n",
              " '/content/drive/MyDrive/Deloite_Orientation1/thresholded_masks_256/1458.jpg',\n",
              " '/content/drive/MyDrive/Deloite_Orientation1/thresholded_masks_256/146.jpg',\n",
              " '/content/drive/MyDrive/Deloite_Orientation1/thresholded_masks_256/1462.jpg',\n",
              " '/content/drive/MyDrive/Deloite_Orientation1/thresholded_masks_256/1465.jpg',\n",
              " '/content/drive/MyDrive/Deloite_Orientation1/thresholded_masks_256/1467.jpg',\n",
              " '/content/drive/MyDrive/Deloite_Orientation1/thresholded_masks_256/1468.jpg',\n",
              " '/content/drive/MyDrive/Deloite_Orientation1/thresholded_masks_256/147-aug_0.jpg',\n",
              " '/content/drive/MyDrive/Deloite_Orientation1/thresholded_masks_256/147-aug_3.jpg',\n",
              " '/content/drive/MyDrive/Deloite_Orientation1/thresholded_masks_256/147-aug_4.jpg',\n",
              " '/content/drive/MyDrive/Deloite_Orientation1/thresholded_masks_256/147-aug_5.jpg',\n",
              " '/content/drive/MyDrive/Deloite_Orientation1/thresholded_masks_256/147-aug_6.jpg',\n",
              " '/content/drive/MyDrive/Deloite_Orientation1/thresholded_masks_256/147-aug_7.jpg',\n",
              " '/content/drive/MyDrive/Deloite_Orientation1/thresholded_masks_256/147-aug_8.jpg',\n",
              " '/content/drive/MyDrive/Deloite_Orientation1/thresholded_masks_256/147-aug_9.jpg',\n",
              " '/content/drive/MyDrive/Deloite_Orientation1/thresholded_masks_256/147.jpg',\n",
              " '/content/drive/MyDrive/Deloite_Orientation1/thresholded_masks_256/1471.jpg',\n",
              " '/content/drive/MyDrive/Deloite_Orientation1/thresholded_masks_256/1474.jpg',\n",
              " '/content/drive/MyDrive/Deloite_Orientation1/thresholded_masks_256/1476.jpg',\n",
              " '/content/drive/MyDrive/Deloite_Orientation1/thresholded_masks_256/148.jpg',\n",
              " '/content/drive/MyDrive/Deloite_Orientation1/thresholded_masks_256/1480.jpg',\n",
              " '/content/drive/MyDrive/Deloite_Orientation1/thresholded_masks_256/1482.jpg',\n",
              " '/content/drive/MyDrive/Deloite_Orientation1/thresholded_masks_256/1484.jpg',\n",
              " '/content/drive/MyDrive/Deloite_Orientation1/thresholded_masks_256/1486.jpg',\n",
              " '/content/drive/MyDrive/Deloite_Orientation1/thresholded_masks_256/1487.jpg',\n",
              " '/content/drive/MyDrive/Deloite_Orientation1/thresholded_masks_256/1488.jpg',\n",
              " '/content/drive/MyDrive/Deloite_Orientation1/thresholded_masks_256/1489.jpg',\n",
              " '/content/drive/MyDrive/Deloite_Orientation1/thresholded_masks_256/1490.jpg',\n",
              " '/content/drive/MyDrive/Deloite_Orientation1/thresholded_masks_256/1491.jpg',\n",
              " '/content/drive/MyDrive/Deloite_Orientation1/thresholded_masks_256/1493.jpg',\n",
              " '/content/drive/MyDrive/Deloite_Orientation1/thresholded_masks_256/1494.jpg',\n",
              " '/content/drive/MyDrive/Deloite_Orientation1/thresholded_masks_256/1495.jpg',\n",
              " '/content/drive/MyDrive/Deloite_Orientation1/thresholded_masks_256/1497.jpg',\n",
              " '/content/drive/MyDrive/Deloite_Orientation1/thresholded_masks_256/1498.jpg',\n",
              " '/content/drive/MyDrive/Deloite_Orientation1/thresholded_masks_256/15-aug_2.jpg',\n",
              " '/content/drive/MyDrive/Deloite_Orientation1/thresholded_masks_256/15-aug_4.jpg',\n",
              " '/content/drive/MyDrive/Deloite_Orientation1/thresholded_masks_256/15-aug_5.jpg',\n",
              " '/content/drive/MyDrive/Deloite_Orientation1/thresholded_masks_256/15-aug_7.jpg',\n",
              " '/content/drive/MyDrive/Deloite_Orientation1/thresholded_masks_256/15.jpg',\n",
              " '/content/drive/MyDrive/Deloite_Orientation1/thresholded_masks_256/151.jpg',\n",
              " '/content/drive/MyDrive/Deloite_Orientation1/thresholded_masks_256/152.jpg',\n",
              " '/content/drive/MyDrive/Deloite_Orientation1/thresholded_masks_256/153_a-aug_0.jpg',\n",
              " '/content/drive/MyDrive/Deloite_Orientation1/thresholded_masks_256/153_a-aug_2.jpg',\n",
              " '/content/drive/MyDrive/Deloite_Orientation1/thresholded_masks_256/153_a-aug_3.jpg',\n",
              " '/content/drive/MyDrive/Deloite_Orientation1/thresholded_masks_256/153_a-aug_4.jpg',\n",
              " '/content/drive/MyDrive/Deloite_Orientation1/thresholded_masks_256/153_a-aug_5.jpg',\n",
              " '/content/drive/MyDrive/Deloite_Orientation1/thresholded_masks_256/153_a-aug_6.jpg',\n",
              " '/content/drive/MyDrive/Deloite_Orientation1/thresholded_masks_256/153_a-aug_7.jpg',\n",
              " '/content/drive/MyDrive/Deloite_Orientation1/thresholded_masks_256/153_a-aug_8.jpg',\n",
              " '/content/drive/MyDrive/Deloite_Orientation1/thresholded_masks_256/153_a-aug_9.jpg',\n",
              " '/content/drive/MyDrive/Deloite_Orientation1/thresholded_masks_256/153_a.jpg',\n",
              " '/content/drive/MyDrive/Deloite_Orientation1/thresholded_masks_256/156_a-aug_0.jpg',\n",
              " '/content/drive/MyDrive/Deloite_Orientation1/thresholded_masks_256/156_a-aug_2.jpg',\n",
              " '/content/drive/MyDrive/Deloite_Orientation1/thresholded_masks_256/156_a-aug_3.jpg',\n",
              " '/content/drive/MyDrive/Deloite_Orientation1/thresholded_masks_256/156_a-aug_4.jpg',\n",
              " '/content/drive/MyDrive/Deloite_Orientation1/thresholded_masks_256/156_a-aug_5.jpg',\n",
              " '/content/drive/MyDrive/Deloite_Orientation1/thresholded_masks_256/156_a-aug_6.jpg',\n",
              " '/content/drive/MyDrive/Deloite_Orientation1/thresholded_masks_256/156_a-aug_7.jpg',\n",
              " '/content/drive/MyDrive/Deloite_Orientation1/thresholded_masks_256/156_a-aug_8.jpg',\n",
              " '/content/drive/MyDrive/Deloite_Orientation1/thresholded_masks_256/16-aug_6.jpg',\n",
              " '/content/drive/MyDrive/Deloite_Orientation1/thresholded_masks_256/16-aug_7.jpg',\n",
              " '/content/drive/MyDrive/Deloite_Orientation1/thresholded_masks_256/16-aug_8.jpg',\n",
              " '/content/drive/MyDrive/Deloite_Orientation1/thresholded_masks_256/16-aug_9.jpg',\n",
              " '/content/drive/MyDrive/Deloite_Orientation1/thresholded_masks_256/16.jpg',\n",
              " '/content/drive/MyDrive/Deloite_Orientation1/thresholded_masks_256/17.jpg',\n",
              " '/content/drive/MyDrive/Deloite_Orientation1/thresholded_masks_256/18.jpg',\n",
              " '/content/drive/MyDrive/Deloite_Orientation1/thresholded_masks_256/19.jpg',\n",
              " '/content/drive/MyDrive/Deloite_Orientation1/thresholded_masks_256/193-aug_2.jpg',\n",
              " '/content/drive/MyDrive/Deloite_Orientation1/thresholded_masks_256/193-aug_3.jpg',\n",
              " '/content/drive/MyDrive/Deloite_Orientation1/thresholded_masks_256/193-aug_4.jpg',\n",
              " '/content/drive/MyDrive/Deloite_Orientation1/thresholded_masks_256/193-aug_5.jpg',\n",
              " '/content/drive/MyDrive/Deloite_Orientation1/thresholded_masks_256/193-aug_6.jpg',\n",
              " '/content/drive/MyDrive/Deloite_Orientation1/thresholded_masks_256/193-aug_7.jpg',\n",
              " '/content/drive/MyDrive/Deloite_Orientation1/thresholded_masks_256/193-aug_8.jpg',\n",
              " '/content/drive/MyDrive/Deloite_Orientation1/thresholded_masks_256/193-aug_9.jpg',\n",
              " '/content/drive/MyDrive/Deloite_Orientation1/thresholded_masks_256/193.jpg',\n",
              " '/content/drive/MyDrive/Deloite_Orientation1/thresholded_masks_256/194.jpg',\n",
              " '/content/drive/MyDrive/Deloite_Orientation1/thresholded_masks_256/197.jpg',\n",
              " '/content/drive/MyDrive/Deloite_Orientation1/thresholded_masks_256/198.jpg',\n",
              " '/content/drive/MyDrive/Deloite_Orientation1/thresholded_masks_256/199_a-aug_0.jpg',\n",
              " '/content/drive/MyDrive/Deloite_Orientation1/thresholded_masks_256/199_a-aug_2.jpg',\n",
              " '/content/drive/MyDrive/Deloite_Orientation1/thresholded_masks_256/199_a-aug_3.jpg',\n",
              " '/content/drive/MyDrive/Deloite_Orientation1/thresholded_masks_256/199_a-aug_4.jpg',\n",
              " '/content/drive/MyDrive/Deloite_Orientation1/thresholded_masks_256/199_a-aug_5.jpg',\n",
              " '/content/drive/MyDrive/Deloite_Orientation1/thresholded_masks_256/199_a-aug_6.jpg',\n",
              " '/content/drive/MyDrive/Deloite_Orientation1/thresholded_masks_256/199_a-aug_7.jpg',\n",
              " '/content/drive/MyDrive/Deloite_Orientation1/thresholded_masks_256/199_a-aug_8.jpg',\n",
              " '/content/drive/MyDrive/Deloite_Orientation1/thresholded_masks_256/199_a-aug_9.jpg',\n",
              " '/content/drive/MyDrive/Deloite_Orientation1/thresholded_masks_256/199_a.jpg',\n",
              " '/content/drive/MyDrive/Deloite_Orientation1/thresholded_masks_256/19_a-aug_7.jpg',\n",
              " '/content/drive/MyDrive/Deloite_Orientation1/thresholded_masks_256/19_a-aug_9.jpg',\n",
              " '/content/drive/MyDrive/Deloite_Orientation1/thresholded_masks_256/19_a.jpg',\n",
              " '/content/drive/MyDrive/Deloite_Orientation1/thresholded_masks_256/1_a-aug_5.jpg',\n",
              " '/content/drive/MyDrive/Deloite_Orientation1/thresholded_masks_256/1_a-aug_8.jpg',\n",
              " '/content/drive/MyDrive/Deloite_Orientation1/thresholded_masks_256/1_a-aug_9.jpg',\n",
              " '/content/drive/MyDrive/Deloite_Orientation1/thresholded_masks_256/1_a.jpg',\n",
              " '/content/drive/MyDrive/Deloite_Orientation1/thresholded_masks_256/2.jpg',\n",
              " '/content/drive/MyDrive/Deloite_Orientation1/thresholded_masks_256/20.jpg',\n",
              " '/content/drive/MyDrive/Deloite_Orientation1/thresholded_masks_256/201-aug_0.jpg',\n",
              " '/content/drive/MyDrive/Deloite_Orientation1/thresholded_masks_256/201-aug_2.jpg',\n",
              " '/content/drive/MyDrive/Deloite_Orientation1/thresholded_masks_256/201-aug_3.jpg',\n",
              " '/content/drive/MyDrive/Deloite_Orientation1/thresholded_masks_256/201-aug_4.jpg',\n",
              " '/content/drive/MyDrive/Deloite_Orientation1/thresholded_masks_256/201-aug_5.jpg',\n",
              " '/content/drive/MyDrive/Deloite_Orientation1/thresholded_masks_256/201-aug_6.jpg',\n",
              " '/content/drive/MyDrive/Deloite_Orientation1/thresholded_masks_256/201-aug_7.jpg',\n",
              " '/content/drive/MyDrive/Deloite_Orientation1/thresholded_masks_256/201-aug_8.jpg',\n",
              " '/content/drive/MyDrive/Deloite_Orientation1/thresholded_masks_256/201-aug_9.jpg',\n",
              " '/content/drive/MyDrive/Deloite_Orientation1/thresholded_masks_256/201.jpg',\n",
              " '/content/drive/MyDrive/Deloite_Orientation1/thresholded_masks_256/202.jpg',\n",
              " '/content/drive/MyDrive/Deloite_Orientation1/thresholded_masks_256/203.jpg',\n",
              " '/content/drive/MyDrive/Deloite_Orientation1/thresholded_masks_256/205.jpg',\n",
              " '/content/drive/MyDrive/Deloite_Orientation1/thresholded_masks_256/206.jpg',\n",
              " '/content/drive/MyDrive/Deloite_Orientation1/thresholded_masks_256/207.jpg',\n",
              " '/content/drive/MyDrive/Deloite_Orientation1/thresholded_masks_256/208.jpg',\n",
              " '/content/drive/MyDrive/Deloite_Orientation1/thresholded_masks_256/209-aug_2.jpg',\n",
              " '/content/drive/MyDrive/Deloite_Orientation1/thresholded_masks_256/209-aug_3.jpg',\n",
              " '/content/drive/MyDrive/Deloite_Orientation1/thresholded_masks_256/209-aug_4.jpg',\n",
              " '/content/drive/MyDrive/Deloite_Orientation1/thresholded_masks_256/209-aug_5.jpg',\n",
              " '/content/drive/MyDrive/Deloite_Orientation1/thresholded_masks_256/209-aug_6.jpg',\n",
              " '/content/drive/MyDrive/Deloite_Orientation1/thresholded_masks_256/209-aug_7.jpg',\n",
              " '/content/drive/MyDrive/Deloite_Orientation1/thresholded_masks_256/209-aug_8.jpg',\n",
              " '/content/drive/MyDrive/Deloite_Orientation1/thresholded_masks_256/209-aug_9.jpg',\n",
              " '/content/drive/MyDrive/Deloite_Orientation1/thresholded_masks_256/209.jpg',\n",
              " '/content/drive/MyDrive/Deloite_Orientation1/thresholded_masks_256/20_a-aug_0.jpg',\n",
              " '/content/drive/MyDrive/Deloite_Orientation1/thresholded_masks_256/20_a-aug_3.jpg',\n",
              " '/content/drive/MyDrive/Deloite_Orientation1/thresholded_masks_256/20_a-aug_5.jpg',\n",
              " '/content/drive/MyDrive/Deloite_Orientation1/thresholded_masks_256/20_a-aug_8.jpg',\n",
              " '/content/drive/MyDrive/Deloite_Orientation1/thresholded_masks_256/20_a.jpg',\n",
              " '/content/drive/MyDrive/Deloite_Orientation1/thresholded_masks_256/21.jpg',\n",
              " '/content/drive/MyDrive/Deloite_Orientation1/thresholded_masks_256/210.jpg',\n",
              " '/content/drive/MyDrive/Deloite_Orientation1/thresholded_masks_256/211-aug_0.jpg',\n",
              " '/content/drive/MyDrive/Deloite_Orientation1/thresholded_masks_256/211-aug_2.jpg',\n",
              " '/content/drive/MyDrive/Deloite_Orientation1/thresholded_masks_256/211-aug_3.jpg',\n",
              " '/content/drive/MyDrive/Deloite_Orientation1/thresholded_masks_256/211-aug_4.jpg',\n",
              " '/content/drive/MyDrive/Deloite_Orientation1/thresholded_masks_256/211-aug_5.jpg',\n",
              " '/content/drive/MyDrive/Deloite_Orientation1/thresholded_masks_256/211-aug_6.jpg',\n",
              " '/content/drive/MyDrive/Deloite_Orientation1/thresholded_masks_256/211-aug_7.jpg',\n",
              " '/content/drive/MyDrive/Deloite_Orientation1/thresholded_masks_256/211-aug_8.jpg',\n",
              " '/content/drive/MyDrive/Deloite_Orientation1/thresholded_masks_256/211-aug_9.jpg',\n",
              " '/content/drive/MyDrive/Deloite_Orientation1/thresholded_masks_256/211.jpg',\n",
              " '/content/drive/MyDrive/Deloite_Orientation1/thresholded_masks_256/212.jpg',\n",
              " '/content/drive/MyDrive/Deloite_Orientation1/thresholded_masks_256/213.jpg',\n",
              " '/content/drive/MyDrive/Deloite_Orientation1/thresholded_masks_256/214.jpg',\n",
              " '/content/drive/MyDrive/Deloite_Orientation1/thresholded_masks_256/215.jpg',\n",
              " '/content/drive/MyDrive/Deloite_Orientation1/thresholded_masks_256/217.jpg',\n",
              " '/content/drive/MyDrive/Deloite_Orientation1/thresholded_masks_256/218.jpg',\n",
              " '/content/drive/MyDrive/Deloite_Orientation1/thresholded_masks_256/219.jpg',\n",
              " '/content/drive/MyDrive/Deloite_Orientation1/thresholded_masks_256/21_a-aug_6.jpg',\n",
              " '/content/drive/MyDrive/Deloite_Orientation1/thresholded_masks_256/21_a-aug_7.jpg',\n",
              " '/content/drive/MyDrive/Deloite_Orientation1/thresholded_masks_256/21_a-aug_8.jpg',\n",
              " '/content/drive/MyDrive/Deloite_Orientation1/thresholded_masks_256/21_a-aug_9.jpg',\n",
              " '/content/drive/MyDrive/Deloite_Orientation1/thresholded_masks_256/21_a.jpg',\n",
              " '/content/drive/MyDrive/Deloite_Orientation1/thresholded_masks_256/22.jpg',\n",
              " '/content/drive/MyDrive/Deloite_Orientation1/thresholded_masks_256/220.jpg',\n",
              " '/content/drive/MyDrive/Deloite_Orientation1/thresholded_masks_256/221.jpg',\n",
              " '/content/drive/MyDrive/Deloite_Orientation1/thresholded_masks_256/223.jpg',\n",
              " '/content/drive/MyDrive/Deloite_Orientation1/thresholded_masks_256/224-aug_0.jpg',\n",
              " '/content/drive/MyDrive/Deloite_Orientation1/thresholded_masks_256/224-aug_2.jpg',\n",
              " '/content/drive/MyDrive/Deloite_Orientation1/thresholded_masks_256/224-aug_3.jpg',\n",
              " '/content/drive/MyDrive/Deloite_Orientation1/thresholded_masks_256/224-aug_4.jpg',\n",
              " '/content/drive/MyDrive/Deloite_Orientation1/thresholded_masks_256/224-aug_5.jpg',\n",
              " '/content/drive/MyDrive/Deloite_Orientation1/thresholded_masks_256/224-aug_6.jpg',\n",
              " '/content/drive/MyDrive/Deloite_Orientation1/thresholded_masks_256/224-aug_7.jpg',\n",
              " '/content/drive/MyDrive/Deloite_Orientation1/thresholded_masks_256/224-aug_8.jpg',\n",
              " '/content/drive/MyDrive/Deloite_Orientation1/thresholded_masks_256/224-aug_9.jpg',\n",
              " '/content/drive/MyDrive/Deloite_Orientation1/thresholded_masks_256/224.jpg',\n",
              " '/content/drive/MyDrive/Deloite_Orientation1/thresholded_masks_256/224_a-aug_0.jpg',\n",
              " '/content/drive/MyDrive/Deloite_Orientation1/thresholded_masks_256/224_a-aug_2.jpg',\n",
              " '/content/drive/MyDrive/Deloite_Orientation1/thresholded_masks_256/224_a-aug_3.jpg',\n",
              " '/content/drive/MyDrive/Deloite_Orientation1/thresholded_masks_256/224_a-aug_4.jpg',\n",
              " '/content/drive/MyDrive/Deloite_Orientation1/thresholded_masks_256/224_a-aug_5.jpg',\n",
              " '/content/drive/MyDrive/Deloite_Orientation1/thresholded_masks_256/224_a-aug_6.jpg',\n",
              " '/content/drive/MyDrive/Deloite_Orientation1/thresholded_masks_256/224_a-aug_7.jpg',\n",
              " '/content/drive/MyDrive/Deloite_Orientation1/thresholded_masks_256/224_a-aug_8.jpg',\n",
              " '/content/drive/MyDrive/Deloite_Orientation1/thresholded_masks_256/224_a-aug_9.jpg',\n",
              " '/content/drive/MyDrive/Deloite_Orientation1/thresholded_masks_256/224_a.jpg',\n",
              " '/content/drive/MyDrive/Deloite_Orientation1/thresholded_masks_256/225.jpg',\n",
              " '/content/drive/MyDrive/Deloite_Orientation1/thresholded_masks_256/226.jpg',\n",
              " '/content/drive/MyDrive/Deloite_Orientation1/thresholded_masks_256/227.jpg',\n",
              " '/content/drive/MyDrive/Deloite_Orientation1/thresholded_masks_256/228.jpg',\n",
              " '/content/drive/MyDrive/Deloite_Orientation1/thresholded_masks_256/229.jpg',\n",
              " '/content/drive/MyDrive/Deloite_Orientation1/thresholded_masks_256/22_a-aug_5.jpg',\n",
              " '/content/drive/MyDrive/Deloite_Orientation1/thresholded_masks_256/22_a-aug_8.jpg',\n",
              " '/content/drive/MyDrive/Deloite_Orientation1/thresholded_masks_256/22_a.jpg',\n",
              " '/content/drive/MyDrive/Deloite_Orientation1/thresholded_masks_256/23.jpg',\n",
              " '/content/drive/MyDrive/Deloite_Orientation1/thresholded_masks_256/231.jpg',\n",
              " '/content/drive/MyDrive/Deloite_Orientation1/thresholded_masks_256/232.jpg',\n",
              " '/content/drive/MyDrive/Deloite_Orientation1/thresholded_masks_256/233.jpg',\n",
              " '/content/drive/MyDrive/Deloite_Orientation1/thresholded_masks_256/234.jpg',\n",
              " '/content/drive/MyDrive/Deloite_Orientation1/thresholded_masks_256/235.jpg',\n",
              " '/content/drive/MyDrive/Deloite_Orientation1/thresholded_masks_256/236.jpg',\n",
              " '/content/drive/MyDrive/Deloite_Orientation1/thresholded_masks_256/237-aug_0.jpg',\n",
              " '/content/drive/MyDrive/Deloite_Orientation1/thresholded_masks_256/237-aug_2.jpg',\n",
              " '/content/drive/MyDrive/Deloite_Orientation1/thresholded_masks_256/237-aug_3.jpg',\n",
              " '/content/drive/MyDrive/Deloite_Orientation1/thresholded_masks_256/237-aug_4.jpg',\n",
              " '/content/drive/MyDrive/Deloite_Orientation1/thresholded_masks_256/237-aug_5.jpg',\n",
              " '/content/drive/MyDrive/Deloite_Orientation1/thresholded_masks_256/237-aug_6.jpg',\n",
              " '/content/drive/MyDrive/Deloite_Orientation1/thresholded_masks_256/237-aug_7.jpg',\n",
              " '/content/drive/MyDrive/Deloite_Orientation1/thresholded_masks_256/237-aug_8.jpg',\n",
              " '/content/drive/MyDrive/Deloite_Orientation1/thresholded_masks_256/237-aug_9.jpg',\n",
              " '/content/drive/MyDrive/Deloite_Orientation1/thresholded_masks_256/237.jpg',\n",
              " '/content/drive/MyDrive/Deloite_Orientation1/thresholded_masks_256/24.jpg',\n",
              " '/content/drive/MyDrive/Deloite_Orientation1/thresholded_masks_256/240.jpg',\n",
              " '/content/drive/MyDrive/Deloite_Orientation1/thresholded_masks_256/241-aug_0.jpg',\n",
              " '/content/drive/MyDrive/Deloite_Orientation1/thresholded_masks_256/241-aug_2.jpg',\n",
              " '/content/drive/MyDrive/Deloite_Orientation1/thresholded_masks_256/241-aug_3.jpg',\n",
              " '/content/drive/MyDrive/Deloite_Orientation1/thresholded_masks_256/241-aug_4.jpg',\n",
              " '/content/drive/MyDrive/Deloite_Orientation1/thresholded_masks_256/241-aug_5.jpg',\n",
              " '/content/drive/MyDrive/Deloite_Orientation1/thresholded_masks_256/241-aug_6.jpg',\n",
              " '/content/drive/MyDrive/Deloite_Orientation1/thresholded_masks_256/241-aug_7.jpg',\n",
              " '/content/drive/MyDrive/Deloite_Orientation1/thresholded_masks_256/241-aug_8.jpg',\n",
              " '/content/drive/MyDrive/Deloite_Orientation1/thresholded_masks_256/241-aug_9.jpg',\n",
              " '/content/drive/MyDrive/Deloite_Orientation1/thresholded_masks_256/241.jpg',\n",
              " '/content/drive/MyDrive/Deloite_Orientation1/thresholded_masks_256/242.jpg',\n",
              " '/content/drive/MyDrive/Deloite_Orientation1/thresholded_masks_256/244.jpg',\n",
              " '/content/drive/MyDrive/Deloite_Orientation1/thresholded_masks_256/245.jpg',\n",
              " '/content/drive/MyDrive/Deloite_Orientation1/thresholded_masks_256/246.jpg',\n",
              " '/content/drive/MyDrive/Deloite_Orientation1/thresholded_masks_256/247.jpg',\n",
              " '/content/drive/MyDrive/Deloite_Orientation1/thresholded_masks_256/248.jpg',\n",
              " '/content/drive/MyDrive/Deloite_Orientation1/thresholded_masks_256/249.jpg',\n",
              " '/content/drive/MyDrive/Deloite_Orientation1/thresholded_masks_256/249_a-aug_0.jpg',\n",
              " '/content/drive/MyDrive/Deloite_Orientation1/thresholded_masks_256/249_a-aug_2.jpg',\n",
              " '/content/drive/MyDrive/Deloite_Orientation1/thresholded_masks_256/249_a-aug_3.jpg',\n",
              " '/content/drive/MyDrive/Deloite_Orientation1/thresholded_masks_256/249_a-aug_4.jpg',\n",
              " '/content/drive/MyDrive/Deloite_Orientation1/thresholded_masks_256/249_a-aug_5.jpg',\n",
              " '/content/drive/MyDrive/Deloite_Orientation1/thresholded_masks_256/249_a-aug_6.jpg',\n",
              " '/content/drive/MyDrive/Deloite_Orientation1/thresholded_masks_256/249_a-aug_7.jpg',\n",
              " '/content/drive/MyDrive/Deloite_Orientation1/thresholded_masks_256/249_a-aug_8.jpg',\n",
              " '/content/drive/MyDrive/Deloite_Orientation1/thresholded_masks_256/249_a-aug_9.jpg',\n",
              " '/content/drive/MyDrive/Deloite_Orientation1/thresholded_masks_256/249_a.jpg',\n",
              " '/content/drive/MyDrive/Deloite_Orientation1/thresholded_masks_256/24_a-aug_6.jpg',\n",
              " '/content/drive/MyDrive/Deloite_Orientation1/thresholded_masks_256/24_a-aug_7.jpg',\n",
              " '/content/drive/MyDrive/Deloite_Orientation1/thresholded_masks_256/24_a-aug_8.jpg',\n",
              " '/content/drive/MyDrive/Deloite_Orientation1/thresholded_masks_256/24_a-aug_9.jpg',\n",
              " '/content/drive/MyDrive/Deloite_Orientation1/thresholded_masks_256/24_a.jpg',\n",
              " '/content/drive/MyDrive/Deloite_Orientation1/thresholded_masks_256/25.jpg',\n",
              " '/content/drive/MyDrive/Deloite_Orientation1/thresholded_masks_256/250.jpg',\n",
              " '/content/drive/MyDrive/Deloite_Orientation1/thresholded_masks_256/251.jpg',\n",
              " '/content/drive/MyDrive/Deloite_Orientation1/thresholded_masks_256/252.jpg',\n",
              " '/content/drive/MyDrive/Deloite_Orientation1/thresholded_masks_256/254.jpg',\n",
              " '/content/drive/MyDrive/Deloite_Orientation1/thresholded_masks_256/259-aug_0.jpg',\n",
              " '/content/drive/MyDrive/Deloite_Orientation1/thresholded_masks_256/259-aug_2.jpg',\n",
              " '/content/drive/MyDrive/Deloite_Orientation1/thresholded_masks_256/259-aug_3.jpg',\n",
              " '/content/drive/MyDrive/Deloite_Orientation1/thresholded_masks_256/259-aug_4.jpg',\n",
              " '/content/drive/MyDrive/Deloite_Orientation1/thresholded_masks_256/259-aug_5.jpg',\n",
              " '/content/drive/MyDrive/Deloite_Orientation1/thresholded_masks_256/259-aug_6.jpg',\n",
              " '/content/drive/MyDrive/Deloite_Orientation1/thresholded_masks_256/259-aug_7.jpg',\n",
              " '/content/drive/MyDrive/Deloite_Orientation1/thresholded_masks_256/259-aug_8.jpg',\n",
              " '/content/drive/MyDrive/Deloite_Orientation1/thresholded_masks_256/259-aug_9.jpg',\n",
              " '/content/drive/MyDrive/Deloite_Orientation1/thresholded_masks_256/259.jpg',\n",
              " '/content/drive/MyDrive/Deloite_Orientation1/thresholded_masks_256/26-aug_6.jpg',\n",
              " '/content/drive/MyDrive/Deloite_Orientation1/thresholded_masks_256/26-aug_7.jpg',\n",
              " '/content/drive/MyDrive/Deloite_Orientation1/thresholded_masks_256/26-aug_8.jpg',\n",
              " '/content/drive/MyDrive/Deloite_Orientation1/thresholded_masks_256/26-aug_9.jpg',\n",
              " '/content/drive/MyDrive/Deloite_Orientation1/thresholded_masks_256/26.jpg',\n",
              " '/content/drive/MyDrive/Deloite_Orientation1/thresholded_masks_256/260.jpg',\n",
              " '/content/drive/MyDrive/Deloite_Orientation1/thresholded_masks_256/261.jpg',\n",
              " '/content/drive/MyDrive/Deloite_Orientation1/thresholded_masks_256/263.jpg',\n",
              " '/content/drive/MyDrive/Deloite_Orientation1/thresholded_masks_256/265.jpg',\n",
              " '/content/drive/MyDrive/Deloite_Orientation1/thresholded_masks_256/267.jpg',\n",
              " '/content/drive/MyDrive/Deloite_Orientation1/thresholded_masks_256/268.jpg',\n",
              " '/content/drive/MyDrive/Deloite_Orientation1/thresholded_masks_256/269.jpg',\n",
              " '/content/drive/MyDrive/Deloite_Orientation1/thresholded_masks_256/26_a.jpg',\n",
              " '/content/drive/MyDrive/Deloite_Orientation1/thresholded_masks_256/27.jpg',\n",
              " '/content/drive/MyDrive/Deloite_Orientation1/thresholded_masks_256/270.jpg',\n",
              " '/content/drive/MyDrive/Deloite_Orientation1/thresholded_masks_256/271.jpg',\n",
              " '/content/drive/MyDrive/Deloite_Orientation1/thresholded_masks_256/272-aug_0.jpg',\n",
              " '/content/drive/MyDrive/Deloite_Orientation1/thresholded_masks_256/272-aug_2.jpg',\n",
              " '/content/drive/MyDrive/Deloite_Orientation1/thresholded_masks_256/272-aug_3.jpg',\n",
              " '/content/drive/MyDrive/Deloite_Orientation1/thresholded_masks_256/272-aug_4.jpg',\n",
              " '/content/drive/MyDrive/Deloite_Orientation1/thresholded_masks_256/272-aug_5.jpg',\n",
              " '/content/drive/MyDrive/Deloite_Orientation1/thresholded_masks_256/272-aug_6.jpg',\n",
              " '/content/drive/MyDrive/Deloite_Orientation1/thresholded_masks_256/272-aug_7.jpg',\n",
              " '/content/drive/MyDrive/Deloite_Orientation1/thresholded_masks_256/272-aug_8.jpg',\n",
              " '/content/drive/MyDrive/Deloite_Orientation1/thresholded_masks_256/272-aug_9.jpg',\n",
              " '/content/drive/MyDrive/Deloite_Orientation1/thresholded_masks_256/272.jpg',\n",
              " '/content/drive/MyDrive/Deloite_Orientation1/thresholded_masks_256/273.jpg',\n",
              " '/content/drive/MyDrive/Deloite_Orientation1/thresholded_masks_256/275.jpg',\n",
              " '/content/drive/MyDrive/Deloite_Orientation1/thresholded_masks_256/276.jpg',\n",
              " '/content/drive/MyDrive/Deloite_Orientation1/thresholded_masks_256/277.jpg',\n",
              " '/content/drive/MyDrive/Deloite_Orientation1/thresholded_masks_256/278.jpg',\n",
              " '/content/drive/MyDrive/Deloite_Orientation1/thresholded_masks_256/279.jpg',\n",
              " '/content/drive/MyDrive/Deloite_Orientation1/thresholded_masks_256/28.jpg',\n",
              " '/content/drive/MyDrive/Deloite_Orientation1/thresholded_masks_256/280.jpg',\n",
              " '/content/drive/MyDrive/Deloite_Orientation1/thresholded_masks_256/281.jpg',\n",
              " '/content/drive/MyDrive/Deloite_Orientation1/thresholded_masks_256/281_a-aug_0.jpg',\n",
              " '/content/drive/MyDrive/Deloite_Orientation1/thresholded_masks_256/281_a-aug_2.jpg',\n",
              " '/content/drive/MyDrive/Deloite_Orientation1/thresholded_masks_256/281_a-aug_3.jpg',\n",
              " '/content/drive/MyDrive/Deloite_Orientation1/thresholded_masks_256/281_a-aug_4.jpg',\n",
              " '/content/drive/MyDrive/Deloite_Orientation1/thresholded_masks_256/281_a-aug_5.jpg',\n",
              " '/content/drive/MyDrive/Deloite_Orientation1/thresholded_masks_256/281_a-aug_6.jpg',\n",
              " '/content/drive/MyDrive/Deloite_Orientation1/thresholded_masks_256/281_a-aug_7.jpg',\n",
              " '/content/drive/MyDrive/Deloite_Orientation1/thresholded_masks_256/281_a-aug_8.jpg',\n",
              " '/content/drive/MyDrive/Deloite_Orientation1/thresholded_masks_256/281_a-aug_9.jpg',\n",
              " '/content/drive/MyDrive/Deloite_Orientation1/thresholded_masks_256/281_a.jpg',\n",
              " '/content/drive/MyDrive/Deloite_Orientation1/thresholded_masks_256/282.jpg',\n",
              " '/content/drive/MyDrive/Deloite_Orientation1/thresholded_masks_256/283.jpg',\n",
              " '/content/drive/MyDrive/Deloite_Orientation1/thresholded_masks_256/283_a-aug_0.jpg',\n",
              " '/content/drive/MyDrive/Deloite_Orientation1/thresholded_masks_256/283_a-aug_2.jpg',\n",
              " '/content/drive/MyDrive/Deloite_Orientation1/thresholded_masks_256/283_a-aug_3.jpg',\n",
              " '/content/drive/MyDrive/Deloite_Orientation1/thresholded_masks_256/283_a-aug_4.jpg',\n",
              " '/content/drive/MyDrive/Deloite_Orientation1/thresholded_masks_256/283_a-aug_5.jpg',\n",
              " '/content/drive/MyDrive/Deloite_Orientation1/thresholded_masks_256/283_a-aug_6.jpg',\n",
              " '/content/drive/MyDrive/Deloite_Orientation1/thresholded_masks_256/283_a-aug_7.jpg',\n",
              " '/content/drive/MyDrive/Deloite_Orientation1/thresholded_masks_256/283_a-aug_8.jpg',\n",
              " '/content/drive/MyDrive/Deloite_Orientation1/thresholded_masks_256/283_a-aug_9.jpg',\n",
              " '/content/drive/MyDrive/Deloite_Orientation1/thresholded_masks_256/283_a.jpg',\n",
              " '/content/drive/MyDrive/Deloite_Orientation1/thresholded_masks_256/284.jpg',\n",
              " '/content/drive/MyDrive/Deloite_Orientation1/thresholded_masks_256/285.jpg',\n",
              " '/content/drive/MyDrive/Deloite_Orientation1/thresholded_masks_256/285_a-aug_0.jpg',\n",
              " '/content/drive/MyDrive/Deloite_Orientation1/thresholded_masks_256/285_a-aug_2.jpg',\n",
              " '/content/drive/MyDrive/Deloite_Orientation1/thresholded_masks_256/285_a-aug_3.jpg',\n",
              " '/content/drive/MyDrive/Deloite_Orientation1/thresholded_masks_256/285_a-aug_4.jpg',\n",
              " '/content/drive/MyDrive/Deloite_Orientation1/thresholded_masks_256/285_a-aug_5.jpg',\n",
              " '/content/drive/MyDrive/Deloite_Orientation1/thresholded_masks_256/285_a-aug_6.jpg',\n",
              " '/content/drive/MyDrive/Deloite_Orientation1/thresholded_masks_256/285_a-aug_7.jpg',\n",
              " '/content/drive/MyDrive/Deloite_Orientation1/thresholded_masks_256/285_a-aug_8.jpg',\n",
              " '/content/drive/MyDrive/Deloite_Orientation1/thresholded_masks_256/285_a-aug_9.jpg',\n",
              " '/content/drive/MyDrive/Deloite_Orientation1/thresholded_masks_256/285_a.jpg',\n",
              " '/content/drive/MyDrive/Deloite_Orientation1/thresholded_masks_256/286.jpg',\n",
              " '/content/drive/MyDrive/Deloite_Orientation1/thresholded_masks_256/287.jpg',\n",
              " '/content/drive/MyDrive/Deloite_Orientation1/thresholded_masks_256/288.jpg',\n",
              " '/content/drive/MyDrive/Deloite_Orientation1/thresholded_masks_256/289.jpg',\n",
              " '/content/drive/MyDrive/Deloite_Orientation1/thresholded_masks_256/28_a-aug_4.jpg',\n",
              " '/content/drive/MyDrive/Deloite_Orientation1/thresholded_masks_256/28_a-aug_6.jpg',\n",
              " '/content/drive/MyDrive/Deloite_Orientation1/thresholded_masks_256/28_a-aug_7.jpg',\n",
              " '/content/drive/MyDrive/Deloite_Orientation1/thresholded_masks_256/28_a-aug_8.jpg',\n",
              " '/content/drive/MyDrive/Deloite_Orientation1/thresholded_masks_256/28_a.jpg',\n",
              " '/content/drive/MyDrive/Deloite_Orientation1/thresholded_masks_256/29-aug_6.jpg',\n",
              " '/content/drive/MyDrive/Deloite_Orientation1/thresholded_masks_256/29-aug_7.jpg',\n",
              " '/content/drive/MyDrive/Deloite_Orientation1/thresholded_masks_256/29-aug_8.jpg',\n",
              " '/content/drive/MyDrive/Deloite_Orientation1/thresholded_masks_256/29-aug_9.jpg',\n",
              " '/content/drive/MyDrive/Deloite_Orientation1/thresholded_masks_256/29.jpg',\n",
              " '/content/drive/MyDrive/Deloite_Orientation1/thresholded_masks_256/290-aug_0.jpg',\n",
              " '/content/drive/MyDrive/Deloite_Orientation1/thresholded_masks_256/290-aug_2.jpg',\n",
              " '/content/drive/MyDrive/Deloite_Orientation1/thresholded_masks_256/290-aug_3.jpg',\n",
              " '/content/drive/MyDrive/Deloite_Orientation1/thresholded_masks_256/290-aug_4.jpg',\n",
              " '/content/drive/MyDrive/Deloite_Orientation1/thresholded_masks_256/290-aug_5.jpg',\n",
              " '/content/drive/MyDrive/Deloite_Orientation1/thresholded_masks_256/290-aug_6.jpg',\n",
              " '/content/drive/MyDrive/Deloite_Orientation1/thresholded_masks_256/290-aug_7.jpg',\n",
              " '/content/drive/MyDrive/Deloite_Orientation1/thresholded_masks_256/290-aug_8.jpg',\n",
              " '/content/drive/MyDrive/Deloite_Orientation1/thresholded_masks_256/290-aug_9.jpg',\n",
              " '/content/drive/MyDrive/Deloite_Orientation1/thresholded_masks_256/290.jpg',\n",
              " '/content/drive/MyDrive/Deloite_Orientation1/thresholded_masks_256/291.jpg',\n",
              " '/content/drive/MyDrive/Deloite_Orientation1/thresholded_masks_256/294.jpg',\n",
              " '/content/drive/MyDrive/Deloite_Orientation1/thresholded_masks_256/295.jpg',\n",
              " '/content/drive/MyDrive/Deloite_Orientation1/thresholded_masks_256/297.jpg',\n",
              " '/content/drive/MyDrive/Deloite_Orientation1/thresholded_masks_256/298.jpg',\n",
              " '/content/drive/MyDrive/Deloite_Orientation1/thresholded_masks_256/299.jpg',\n",
              " '/content/drive/MyDrive/Deloite_Orientation1/thresholded_masks_256/29_a-aug_6.jpg',\n",
              " '/content/drive/MyDrive/Deloite_Orientation1/thresholded_masks_256/29_a-aug_7.jpg',\n",
              " '/content/drive/MyDrive/Deloite_Orientation1/thresholded_masks_256/29_a-aug_8.jpg',\n",
              " '/content/drive/MyDrive/Deloite_Orientation1/thresholded_masks_256/29_a-aug_9.jpg',\n",
              " '/content/drive/MyDrive/Deloite_Orientation1/thresholded_masks_256/29_a.jpg',\n",
              " '/content/drive/MyDrive/Deloite_Orientation1/thresholded_masks_256/2_a-aug_0.jpg',\n",
              " '/content/drive/MyDrive/Deloite_Orientation1/thresholded_masks_256/2_a-aug_2.jpg',\n",
              " '/content/drive/MyDrive/Deloite_Orientation1/thresholded_masks_256/3.jpg',\n",
              " '/content/drive/MyDrive/Deloite_Orientation1/thresholded_masks_256/30.jpg',\n",
              " '/content/drive/MyDrive/Deloite_Orientation1/thresholded_masks_256/300.jpg',\n",
              " '/content/drive/MyDrive/Deloite_Orientation1/thresholded_masks_256/301-aug_0.jpg',\n",
              " '/content/drive/MyDrive/Deloite_Orientation1/thresholded_masks_256/301-aug_2.jpg',\n",
              " '/content/drive/MyDrive/Deloite_Orientation1/thresholded_masks_256/301-aug_3.jpg',\n",
              " '/content/drive/MyDrive/Deloite_Orientation1/thresholded_masks_256/301-aug_4.jpg',\n",
              " '/content/drive/MyDrive/Deloite_Orientation1/thresholded_masks_256/301-aug_5.jpg',\n",
              " '/content/drive/MyDrive/Deloite_Orientation1/thresholded_masks_256/301-aug_6.jpg',\n",
              " '/content/drive/MyDrive/Deloite_Orientation1/thresholded_masks_256/301-aug_7.jpg',\n",
              " '/content/drive/MyDrive/Deloite_Orientation1/thresholded_masks_256/301-aug_8.jpg',\n",
              " '/content/drive/MyDrive/Deloite_Orientation1/thresholded_masks_256/301-aug_9.jpg',\n",
              " '/content/drive/MyDrive/Deloite_Orientation1/thresholded_masks_256/301.jpg',\n",
              " '/content/drive/MyDrive/Deloite_Orientation1/thresholded_masks_256/302.jpg',\n",
              " '/content/drive/MyDrive/Deloite_Orientation1/thresholded_masks_256/304.jpg',\n",
              " '/content/drive/MyDrive/Deloite_Orientation1/thresholded_masks_256/305.jpg',\n",
              " '/content/drive/MyDrive/Deloite_Orientation1/thresholded_masks_256/306.jpg',\n",
              " '/content/drive/MyDrive/Deloite_Orientation1/thresholded_masks_256/307.jpg',\n",
              " '/content/drive/MyDrive/Deloite_Orientation1/thresholded_masks_256/308-aug_0.jpg',\n",
              " '/content/drive/MyDrive/Deloite_Orientation1/thresholded_masks_256/308-aug_2.jpg',\n",
              " '/content/drive/MyDrive/Deloite_Orientation1/thresholded_masks_256/308-aug_3.jpg',\n",
              " '/content/drive/MyDrive/Deloite_Orientation1/thresholded_masks_256/308-aug_4.jpg',\n",
              " '/content/drive/MyDrive/Deloite_Orientation1/thresholded_masks_256/308-aug_5.jpg',\n",
              " '/content/drive/MyDrive/Deloite_Orientation1/thresholded_masks_256/308-aug_6.jpg',\n",
              " '/content/drive/MyDrive/Deloite_Orientation1/thresholded_masks_256/308-aug_7.jpg',\n",
              " '/content/drive/MyDrive/Deloite_Orientation1/thresholded_masks_256/308-aug_8.jpg',\n",
              " '/content/drive/MyDrive/Deloite_Orientation1/thresholded_masks_256/308-aug_9.jpg',\n",
              " '/content/drive/MyDrive/Deloite_Orientation1/thresholded_masks_256/308.jpg',\n",
              " '/content/drive/MyDrive/Deloite_Orientation1/thresholded_masks_256/309.jpg',\n",
              " '/content/drive/MyDrive/Deloite_Orientation1/thresholded_masks_256/31-aug_2.jpg',\n",
              " '/content/drive/MyDrive/Deloite_Orientation1/thresholded_masks_256/31-aug_4.jpg',\n",
              " '/content/drive/MyDrive/Deloite_Orientation1/thresholded_masks_256/31-aug_6.jpg',\n",
              " '/content/drive/MyDrive/Deloite_Orientation1/thresholded_masks_256/31-aug_7.jpg',\n",
              " '/content/drive/MyDrive/Deloite_Orientation1/thresholded_masks_256/31.jpg',\n",
              " '/content/drive/MyDrive/Deloite_Orientation1/thresholded_masks_256/311.jpg',\n",
              " '/content/drive/MyDrive/Deloite_Orientation1/thresholded_masks_256/312_a-aug_0.jpg',\n",
              " '/content/drive/MyDrive/Deloite_Orientation1/thresholded_masks_256/312_a-aug_2.jpg',\n",
              " '/content/drive/MyDrive/Deloite_Orientation1/thresholded_masks_256/312_a-aug_3.jpg',\n",
              " '/content/drive/MyDrive/Deloite_Orientation1/thresholded_masks_256/312_a-aug_4.jpg',\n",
              " '/content/drive/MyDrive/Deloite_Orientation1/thresholded_masks_256/312_a-aug_5.jpg',\n",
              " '/content/drive/MyDrive/Deloite_Orientation1/thresholded_masks_256/312_a-aug_6.jpg',\n",
              " '/content/drive/MyDrive/Deloite_Orientation1/thresholded_masks_256/312_a-aug_7.jpg',\n",
              " '/content/drive/MyDrive/Deloite_Orientation1/thresholded_masks_256/312_a-aug_8.jpg',\n",
              " '/content/drive/MyDrive/Deloite_Orientation1/thresholded_masks_256/312_a-aug_9.jpg',\n",
              " '/content/drive/MyDrive/Deloite_Orientation1/thresholded_masks_256/312_a.jpg',\n",
              " '/content/drive/MyDrive/Deloite_Orientation1/thresholded_masks_256/313-aug_0.jpg',\n",
              " '/content/drive/MyDrive/Deloite_Orientation1/thresholded_masks_256/313-aug_2.jpg',\n",
              " '/content/drive/MyDrive/Deloite_Orientation1/thresholded_masks_256/313-aug_3.jpg',\n",
              " '/content/drive/MyDrive/Deloite_Orientation1/thresholded_masks_256/313-aug_4.jpg',\n",
              " '/content/drive/MyDrive/Deloite_Orientation1/thresholded_masks_256/313-aug_5.jpg',\n",
              " '/content/drive/MyDrive/Deloite_Orientation1/thresholded_masks_256/313-aug_6.jpg',\n",
              " '/content/drive/MyDrive/Deloite_Orientation1/thresholded_masks_256/313-aug_7.jpg',\n",
              " '/content/drive/MyDrive/Deloite_Orientation1/thresholded_masks_256/313-aug_8.jpg',\n",
              " '/content/drive/MyDrive/Deloite_Orientation1/thresholded_masks_256/313-aug_9.jpg',\n",
              " '/content/drive/MyDrive/Deloite_Orientation1/thresholded_masks_256/313.jpg',\n",
              " '/content/drive/MyDrive/Deloite_Orientation1/thresholded_masks_256/314.jpg',\n",
              " '/content/drive/MyDrive/Deloite_Orientation1/thresholded_masks_256/315.jpg',\n",
              " '/content/drive/MyDrive/Deloite_Orientation1/thresholded_masks_256/316.jpg',\n",
              " '/content/drive/MyDrive/Deloite_Orientation1/thresholded_masks_256/32-aug_4.jpg',\n",
              " '/content/drive/MyDrive/Deloite_Orientation1/thresholded_masks_256/32-aug_5.jpg',\n",
              " '/content/drive/MyDrive/Deloite_Orientation1/thresholded_masks_256/32-aug_8.jpg',\n",
              " '/content/drive/MyDrive/Deloite_Orientation1/thresholded_masks_256/32-aug_9.jpg',\n",
              " '/content/drive/MyDrive/Deloite_Orientation1/thresholded_masks_256/32.jpg',\n",
              " '/content/drive/MyDrive/Deloite_Orientation1/thresholded_masks_256/321.jpg',\n",
              " '/content/drive/MyDrive/Deloite_Orientation1/thresholded_masks_256/323.jpg',\n",
              " '/content/drive/MyDrive/Deloite_Orientation1/thresholded_masks_256/324.jpg',\n",
              " '/content/drive/MyDrive/Deloite_Orientation1/thresholded_masks_256/326.jpg',\n",
              " '/content/drive/MyDrive/Deloite_Orientation1/thresholded_masks_256/327.jpg',\n",
              " '/content/drive/MyDrive/Deloite_Orientation1/thresholded_masks_256/328.jpg',\n",
              " '/content/drive/MyDrive/Deloite_Orientation1/thresholded_masks_256/329.jpg',\n",
              " '/content/drive/MyDrive/Deloite_Orientation1/thresholded_masks_256/32_a-aug_6.jpg',\n",
              " '/content/drive/MyDrive/Deloite_Orientation1/thresholded_masks_256/32_a-aug_7.jpg',\n",
              " '/content/drive/MyDrive/Deloite_Orientation1/thresholded_masks_256/32_a-aug_8.jpg',\n",
              " '/content/drive/MyDrive/Deloite_Orientation1/thresholded_masks_256/32_a-aug_9.jpg',\n",
              " '/content/drive/MyDrive/Deloite_Orientation1/thresholded_masks_256/32_a.jpg',\n",
              " '/content/drive/MyDrive/Deloite_Orientation1/thresholded_masks_256/33-aug_6.jpg',\n",
              " '/content/drive/MyDrive/Deloite_Orientation1/thresholded_masks_256/33-aug_8.jpg',\n",
              " '/content/drive/MyDrive/Deloite_Orientation1/thresholded_masks_256/33.jpg',\n",
              " '/content/drive/MyDrive/Deloite_Orientation1/thresholded_masks_256/330.jpg',\n",
              " '/content/drive/MyDrive/Deloite_Orientation1/thresholded_masks_256/331-aug_0.jpg',\n",
              " '/content/drive/MyDrive/Deloite_Orientation1/thresholded_masks_256/331-aug_2.jpg',\n",
              " '/content/drive/MyDrive/Deloite_Orientation1/thresholded_masks_256/331-aug_3.jpg',\n",
              " '/content/drive/MyDrive/Deloite_Orientation1/thresholded_masks_256/331-aug_4.jpg',\n",
              " '/content/drive/MyDrive/Deloite_Orientation1/thresholded_masks_256/331-aug_5.jpg',\n",
              " '/content/drive/MyDrive/Deloite_Orientation1/thresholded_masks_256/331-aug_6.jpg',\n",
              " '/content/drive/MyDrive/Deloite_Orientation1/thresholded_masks_256/331-aug_7.jpg',\n",
              " '/content/drive/MyDrive/Deloite_Orientation1/thresholded_masks_256/331-aug_8.jpg',\n",
              " '/content/drive/MyDrive/Deloite_Orientation1/thresholded_masks_256/331-aug_9.jpg',\n",
              " '/content/drive/MyDrive/Deloite_Orientation1/thresholded_masks_256/331.jpg',\n",
              " '/content/drive/MyDrive/Deloite_Orientation1/thresholded_masks_256/332.jpg',\n",
              " '/content/drive/MyDrive/Deloite_Orientation1/thresholded_masks_256/333.jpg',\n",
              " '/content/drive/MyDrive/Deloite_Orientation1/thresholded_masks_256/334.jpg',\n",
              " '/content/drive/MyDrive/Deloite_Orientation1/thresholded_masks_256/334_a-aug_0.jpg',\n",
              " '/content/drive/MyDrive/Deloite_Orientation1/thresholded_masks_256/334_a-aug_2.jpg',\n",
              " '/content/drive/MyDrive/Deloite_Orientation1/thresholded_masks_256/334_a-aug_3.jpg',\n",
              " '/content/drive/MyDrive/Deloite_Orientation1/thresholded_masks_256/334_a-aug_4.jpg',\n",
              " '/content/drive/MyDrive/Deloite_Orientation1/thresholded_masks_256/334_a-aug_5.jpg',\n",
              " '/content/drive/MyDrive/Deloite_Orientation1/thresholded_masks_256/334_a-aug_6.jpg',\n",
              " '/content/drive/MyDrive/Deloite_Orientation1/thresholded_masks_256/334_a-aug_7.jpg',\n",
              " '/content/drive/MyDrive/Deloite_Orientation1/thresholded_masks_256/334_a-aug_8.jpg',\n",
              " '/content/drive/MyDrive/Deloite_Orientation1/thresholded_masks_256/334_a-aug_9.jpg',\n",
              " '/content/drive/MyDrive/Deloite_Orientation1/thresholded_masks_256/334_a.jpg',\n",
              " '/content/drive/MyDrive/Deloite_Orientation1/thresholded_masks_256/335.jpg',\n",
              " '/content/drive/MyDrive/Deloite_Orientation1/thresholded_masks_256/336.jpg',\n",
              " '/content/drive/MyDrive/Deloite_Orientation1/thresholded_masks_256/337.jpg',\n",
              " '/content/drive/MyDrive/Deloite_Orientation1/thresholded_masks_256/33_a-aug_6.jpg',\n",
              " '/content/drive/MyDrive/Deloite_Orientation1/thresholded_masks_256/33_a-aug_7.jpg',\n",
              " ...]"
            ]
          },
          "metadata": {
            "tags": []
          },
          "execution_count": 116
        }
      ]
    },
    {
      "cell_type": "code",
      "metadata": {
        "id": "URNR7s68Jihi"
      },
      "source": [
        "#Appending all file names\n",
        "\n",
        "file_names = []\n",
        "for file in glob.glob(existing_masks_256 + \"/*.jpg\"):\n",
        "  file_names.append(os.path.basename(file))\n",
        "  file_names.sort() \n",
        "\n",
        "#Appedning the whole car mask image\n",
        "all_car_names = [img for img in glob.glob(whole_cars_new_256 + \"/*.jpg\")]\n",
        "all_car_names.sort() # ADD THIS LINE\n",
        "all_cars = []\n",
        "for img in all_car_names:\n",
        "    n= cv2.imread(img)\n",
        "    all_cars.append(n) \n",
        "\n",
        "\n",
        "#Appending the whole masks images \n",
        "all_mask_names = [img for img in glob.glob(only_masks_new_256 + \"/*.jpg\")]\n",
        "all_mask_names.sort() # ADD THIS LINE\n",
        "all_masks = []\n",
        "for img in all_mask_names:\n",
        "    n= cv2.imread(img)\n",
        "    all_masks.append(n)   \n",
        "\n",
        "#Overlaying masks and car parts to remove background noise\n",
        "for i in range(len(all_masks)):\n",
        "    all_cars[i][all_cars[i]>150]=255\n",
        "    all_cars[i][all_cars[i]<=150]=0\n",
        "    \n",
        "    #Preprocessing both of the images at th same time generate new images and save them at clean mask folder\n",
        "    flat_a = all_cars[i].flatten()\n",
        "    flat_res = all_masks[i].flatten()\n",
        "\n",
        "    #Wherever I see 0 in a image, I want to put 0 in the corresponinf position in the res image\n",
        "\n",
        "    mask = (flat_a == 0)\n",
        "    new_array = np.copy(flat_a)\n",
        "    flat_res[mask] = new_array[mask] \n",
        "    res = flat_res.reshape(256,256,3)\n",
        "    cv2.imwrite(os.path.join(clean_mask_new_256, os.path.basename(file_names[i])), res)\n"
      ],
      "execution_count": null,
      "outputs": []
    },
    {
      "cell_type": "markdown",
      "metadata": {
        "id": "P3QNWXw8OXrx"
      },
      "source": [
        "### Overlay of pictures"
      ]
    },
    {
      "cell_type": "code",
      "metadata": {
        "id": "r8Otw0OfOVA_"
      },
      "source": [
        "import glob\n",
        "import os\n",
        "import cv2\n",
        "#we need to imprt the whole car mask and the clean mask\n",
        "file_names = []\n",
        "for file in glob.glob(whole_cars_new_256+ \"/*.jpg\"):\n",
        "  file_names.append(os.path.basename(file))\n",
        "  file_names.sort() \n",
        "\n",
        "#Appedning the whole car mask image\n",
        "all_car_names = [img for img in glob.glob(whole_cars_new_256 + \"/*.jpg\")]\n",
        "all_car_names.sort() # ADD THIS LINE\n",
        "all_cars = []\n",
        "for img in all_car_names:\n",
        "    n= cv2.imread(img)\n",
        "    all_cars.append(n) \n",
        "\n",
        "#Appending the clean masks images \n",
        "clean_mask_names = [img for img in glob.glob(clean_mask_new_256 + \"/*.jpg\")]\n",
        "clean_mask_names.sort() # ADD THIS LINE\n",
        "clean_masks2 = []\n",
        "for img in clean_mask_names:\n",
        "    n= cv2.imread(img)\n",
        "    clean_masks2.append(n)  \n",
        "\n",
        "for i in range(len(clean_masks2)):    \n",
        "    #converting clean image to gray scale to isolat the non black pixels\n",
        "    gray = cv2.cvtColor(clean_masks2[i], cv2.COLOR_BGR2GRAY)\n",
        "    (thresh, blackAndWhiteImage) = cv2.threshold(gray, 20, 255, cv2.THRESH_BINARY)\n",
        "    #Converting back to 3 channels which keeps values on 0,255\n",
        "    blackAndWhiteImage = cv2.cvtColor(blackAndWhiteImage, cv2.COLOR_GRAY2BGR)\n",
        "    #non_black_pixels_mask = np.any(blackAndWhiteImage!= [0, 0, 0], axis=-1) \n",
        "    bw_flat = blackAndWhiteImage.flatten()\n",
        "    cl_flat = clean_masks2[i].flatten()\n",
        "    wc = all_cars[i].flatten()   \n",
        "    for j in range(len(bw_flat)):\n",
        "        if bw_flat[j] >0:\n",
        "           wc[j]=cl_flat[j]   \n",
        "    wc = wc.reshape(256,256,3)       \n",
        "    cv2.imwrite(os.path.join(final_set_new, os.path.basename(file_names[i])), wc)"
      ],
      "execution_count": null,
      "outputs": []
    },
    {
      "cell_type": "code",
      "metadata": {
        "id": "m1RsRXbmOU6u"
      },
      "source": [
        "#Now we want to save every photo has an exact number of colors"
      ],
      "execution_count": null,
      "outputs": []
    },
    {
      "cell_type": "code",
      "metadata": {
        "id": "RPAbhVjiCUPT"
      },
      "source": [
        "def isolate_colors(picture):\n",
        "    width, height = picture.size\n",
        "    for x in range(width):\n",
        "        for y in range(height):\n",
        "            current_color = picture.getpixel((x,y))\n",
        "            if (current_color[0]>=0 and current_color[0]<10) and (current_color[1]>=0 and current_color[1]<10) and (current_color[2]>=0 and current_color[2]<10):\n",
        "                picture.putpixel((x, y), (0, 0, 0)) #white\n",
        "\n",
        "            elif current_color[0]>240  and current_color[1]>=240 and current_color[2]>=240:    \n",
        "                picture.putpixel((x, y), (255, 255, 255)) #black\n",
        "\n",
        "            elif current_color[0]<180  and current_color[1]>=120 and current_color[2]>=120:    \n",
        "                picture.putpixel((x, y), (0, 255, 255))#light blue\n",
        "\n",
        "            elif  (current_color[0]>=0 and current_color[0]<90)  and (current_color[0]>=0 and current_color[1]<100) and current_color[2]>=140:   \n",
        "                picture.putpixel((x, y), (0, 0, 255))  #ldark blue\n",
        "\n",
        "            elif current_color[0]>150  and (current_color[1]>100 and current_color[1]<180)  and current_color[2]<100:    \n",
        "                picture.putpixel((x, y), (255, 144, 0))  #orange\n",
        "\n",
        "            elif current_color[0]>110  and (current_color[1]<120)  and current_color[2]>120:    \n",
        "                picture.putpixel((x, y), (255, 0, 255))  #pink  \n",
        "\n",
        "            elif current_color[0]<40  and (current_color[1]>70 and current_color[1]<200)  and current_color[2]<50:    \n",
        "                picture.putpixel((x, y), (0, 100, 0))  #green  \n",
        "\n",
        "            elif (current_color[0]>20 and current_color[0]<150)  and (current_color[1]>20 and current_color[1]<90)  and (current_color[2]>5 and current_color[2]<50):        \n",
        "                picture.putpixel((x, y), (125, 30, 0))  #brown\n",
        "\n",
        "            elif current_color[0]>210   and current_color[1]>210  and current_color[2]<120:    \n",
        "                picture.putpixel((x, y), (255, 255, 0))  #yellow   \n",
        "            else:\n",
        "                picture.putpixel((x, y), (0, 0, 0))  # \n",
        "    return picture  "
      ],
      "execution_count": null,
      "outputs": []
    },
    {
      "cell_type": "code",
      "metadata": {
        "id": "pvFcEdy9Dz_P"
      },
      "source": [
        "from PIL import Image\n",
        "import cv2\n",
        "import numpy as np\n",
        "import os"
      ],
      "execution_count": null,
      "outputs": []
    },
    {
      "cell_type": "code",
      "metadata": {
        "id": "rh-FokU0I52I",
        "colab": {
          "base_uri": "https://localhost:8080/"
        },
        "outputId": "92d1f8f9-4310-416b-b906-d7e9a2471cba"
      },
      "source": [
        "cd drive/MyDrive/Deloite_Orientation1/path_to_final_set/final_set/final/"
      ],
      "execution_count": null,
      "outputs": [
        {
          "output_type": "stream",
          "text": [
            "/content/drive/MyDrive/Deloite_Orientation1/path_to_final_set/final_set/final\n"
          ],
          "name": "stdout"
        }
      ]
    },
    {
      "cell_type": "code",
      "metadata": {
        "id": "ncCtHQnuEi08"
      },
      "source": [
        "for file in glob.glob(final_set + \"/*.jpg\"):\n",
        "  im = cv2.imread(file)\n",
        "  im = cv2.cvtColor(im, cv2.COLOR_RGB2BGR)\n",
        "  img = Image.fromarray(im, 'RGB')\n",
        "  img = isolate_colors(img)\n",
        "  cv_image = np.array(img) \n",
        "  cv2.imwrite(os.path.join(signle_colors , os.path.basename(file)), cv2.cvtColor(cv_image, cv2.COLOR_RGB2BGR))"
      ],
      "execution_count": null,
      "outputs": []
    },
    {
      "cell_type": "code",
      "metadata": {
        "id": "YkuUKg5TWDFG",
        "colab": {
          "base_uri": "https://localhost:8080/"
        },
        "outputId": "ba94b044-a0e3-4ebe-fd2d-21c2c49dbb6e"
      },
      "source": [
        "cd ../clean_mask"
      ],
      "execution_count": null,
      "outputs": [
        {
          "output_type": "stream",
          "text": [
            "/content/drive/My Drive/Deloite_Orientation1/clean_mask\n"
          ],
          "name": "stdout"
        }
      ]
    },
    {
      "cell_type": "code",
      "metadata": {
        "id": "6Q-CBPEcWNDS",
        "colab": {
          "base_uri": "https://localhost:8080/",
          "height": 286
        },
        "outputId": "d7f657a3-1fe7-4f60-c492-2f5fff6d725c"
      },
      "source": [
        "clean1 = cv2.imread('970.jpg')\n",
        "clean1 = cv2.cvtColor(clean1, cv2.COLOR_BGR2RGB)\n",
        "plt.imshow(clean1)"
      ],
      "execution_count": null,
      "outputs": [
        {
          "output_type": "execute_result",
          "data": {
            "text/plain": [
              "<matplotlib.image.AxesImage at 0x7f05bdcf6da0>"
            ]
          },
          "metadata": {
            "tags": []
          },
          "execution_count": 303
        },
        {
          "output_type": "display_data",
          "data": {
            "image/png": "[encoded data removed]",
            "text/plain": [
              "<Figure size 432x288 with 1 Axes>"
            ]
          },
          "metadata": {
            "tags": [],
            "needs_background": "light"
          }
        }
      ]
    },
    {
      "cell_type": "code",
      "metadata": {
        "id": "CTiFNZmaA2tO"
      },
      "source": [
        "#converting an image to gray scale\n",
        "gray = cv2.cvtColor(clean1, cv2.COLOR_BGR2GRAY)\n",
        "(thresh, blackAndWhiteImage) = cv2.threshold(gray, 40, 255, cv2.THRESH_BINARY)\n",
        "#Converting back to 3 channels which keeps values on 0,255\n",
        "blackAndWhiteImage = cv2.cvtColor(blackAndWhiteImage, cv2.COLOR_GRAY2BGR)\n",
        "non_black_pixels_mask = np.any(blackAndWhiteImage!= [0, 0, 0], axis=-1) "
      ],
      "execution_count": null,
      "outputs": []
    },
    {
      "cell_type": "code",
      "metadata": {
        "id": "qWcrOMjJZ_-h",
        "colab": {
          "base_uri": "https://localhost:8080/",
          "height": 286
        },
        "outputId": "e960836d-0efa-4dd5-9aa6-81f9d29a8afe"
      },
      "source": [
        "plt.imshow(blackAndWhiteImage)"
      ],
      "execution_count": null,
      "outputs": [
        {
          "output_type": "execute_result",
          "data": {
            "text/plain": [
              "<matplotlib.image.AxesImage at 0x7f05aef2aa90>"
            ]
          },
          "metadata": {
            "tags": []
          },
          "execution_count": 365
        },
        {
          "output_type": "display_data",
          "data": {
            "image/png": "[encoded data removed]",
            "text/plain": [
              "<Figure size 432x288 with 1 Axes>"
            ]
          },
          "metadata": {
            "tags": [],
            "needs_background": "light"
          }
        }
      ]
    },
    {
      "cell_type": "code",
      "metadata": {
        "id": "vuOxkj4BZ_69"
      },
      "source": [
        "bw_flat = blackAndWhiteImage.flatten()\n",
        "cl_flat = clean1.flatten()\n",
        "wc = wh1.flatten()"
      ],
      "execution_count": null,
      "outputs": []
    },
    {
      "cell_type": "code",
      "metadata": {
        "id": "IVlMEGXlZ_uP"
      },
      "source": [
        "m = (bw_flat>0)\n",
        "new_array = np.copy(bw_flat)\n",
        "wc[m] = cl_flat[m] \n",
        "r = cl_flat.reshape(256,256,3)"
      ],
      "execution_count": null,
      "outputs": []
    },
    {
      "cell_type": "code",
      "metadata": {
        "id": "tK4ooPwifjYL"
      },
      "source": [
        "for i in range(len(bw_flat)):\n",
        "  if bw_flat[i] >0:\n",
        "    wc[i]=cl_flat[i]\n",
        "\n"
      ],
      "execution_count": null,
      "outputs": []
    },
    {
      "cell_type": "code",
      "metadata": {
        "id": "v4_CjvnyiFc6"
      },
      "source": [
        "m = (bw_flat>0)"
      ],
      "execution_count": null,
      "outputs": []
    },
    {
      "cell_type": "code",
      "metadata": {
        "id": "6-75demVhsJ0",
        "colab": {
          "base_uri": "https://localhost:8080/",
          "height": 286
        },
        "outputId": "2fb168cd-acad-4a1b-b6b8-943af33b0299"
      },
      "source": [
        "wc = wc.reshape(256,256,3)\n",
        "plt.imshow(wc)"
      ],
      "execution_count": null,
      "outputs": [
        {
          "output_type": "execute_result",
          "data": {
            "text/plain": [
              "<matplotlib.image.AxesImage at 0x7f05aedc0080>"
            ]
          },
          "metadata": {
            "tags": []
          },
          "execution_count": 408
        },
        {
          "output_type": "display_data",
          "data": {
            "image/png": "[encoded data removed]",
            "text/plain": [
              "<Figure size 432x288 with 1 Axes>"
            ]
          },
          "metadata": {
            "tags": [],
            "needs_background": "light"
          }
        }
      ]
    },
    {
      "cell_type": "code",
      "metadata": {
        "id": "X3E8MBmHgrxT",
        "colab": {
          "base_uri": "https://localhost:8080/",
          "height": 286
        },
        "outputId": "a7430364-bc2e-43dc-897f-4e175aaa8e26"
      },
      "source": [
        "plt.imshow(clean1)"
      ],
      "execution_count": null,
      "outputs": [
        {
          "output_type": "execute_result",
          "data": {
            "text/plain": [
              "<matplotlib.image.AxesImage at 0x7f05bab3fac8>"
            ]
          },
          "metadata": {
            "tags": []
          },
          "execution_count": 409
        },
        {
          "output_type": "display_data",
          "data": {
            "image/png": "[encoded data removed]",
            "text/plain": [
              "<Figure size 432x288 with 1 Axes>"
            ]
          },
          "metadata": {
            "tags": [],
            "needs_background": "light"
          }
        }
      ]
    },
    {
      "cell_type": "code",
      "metadata": {
        "id": "o4X8AYYieAPc",
        "colab": {
          "base_uri": "https://localhost:8080/"
        },
        "outputId": "9388250b-e61d-4940-ad32-2f9a9a3f3f26"
      },
      "source": [
        "bw_flat>0"
      ],
      "execution_count": null,
      "outputs": [
        {
          "output_type": "execute_result",
          "data": {
            "text/plain": [
              "array([0, 0, 0, ..., 0, 0, 0], dtype=uint8)"
            ]
          },
          "metadata": {
            "tags": []
          },
          "execution_count": 386
        }
      ]
    },
    {
      "cell_type": "code",
      "metadata": {
        "id": "gtmLvZPvZ_rm",
        "colab": {
          "base_uri": "https://localhost:8080/",
          "height": 286
        },
        "outputId": "ae35b727-aacc-4d85-9ffc-9f10a6478e38"
      },
      "source": [
        "plt.imshow(wh1)"
      ],
      "execution_count": null,
      "outputs": [
        {
          "output_type": "execute_result",
          "data": {
            "text/plain": [
              "<matplotlib.image.AxesImage at 0x7f05aedd1550>"
            ]
          },
          "metadata": {
            "tags": []
          },
          "execution_count": 377
        },
        {
          "output_type": "display_data",
          "data": {
            "image/png": "[encoded data removed]",
            "text/plain": [
              "<Figure size 432x288 with 1 Axes>"
            ]
          },
          "metadata": {
            "tags": [],
            "needs_background": "light"
          }
        }
      ]
    },
    {
      "cell_type": "code",
      "metadata": {
        "id": "5aykyalgNTyz"
      },
      "source": [
        "fmask = (non_black_pixels_mask==True)"
      ],
      "execution_count": null,
      "outputs": []
    },
    {
      "cell_type": "code",
      "metadata": {
        "id": "vr68Nhf6PHAy",
        "colab": {
          "base_uri": "https://localhost:8080/"
        },
        "outputId": "bba47147-1a3d-441e-9377-edacc96b9eff"
      },
      "source": [
        "fmask.shape"
      ],
      "execution_count": null,
      "outputs": [
        {
          "output_type": "execute_result",
          "data": {
            "text/plain": [
              "(256, 256)"
            ]
          },
          "metadata": {
            "tags": []
          },
          "execution_count": 361
        }
      ]
    },
    {
      "cell_type": "code",
      "metadata": {
        "id": "7omPHCVDJQjH",
        "colab": {
          "base_uri": "https://localhost:8080/",
          "height": 269
        },
        "outputId": "3b411e2d-c033-4a93-fc47-c8dadd0db256"
      },
      "source": [
        "image_copy = blackAndWhiteImage.copy()\n",
        "\n",
        "black_pixels_mask = np.all(blackAndWhiteImage == [0, 0, 0], axis=-1)\n",
        "\n",
        "non_black_pixels_mask = np.any(blackAndWhiteImage!= [0, 0, 0], axis=-1)  \n",
        "# or non_black_pixels_mask = ~black_pixels_mask\n",
        "\n",
        "image_copy[black_pixels_mask] = [255, 255, 255]\n",
        "image_copy[non_black_pixels_mask] = [0, 0, 0]\n",
        "\n",
        "plt.imshow(image_copy)\n",
        "plt.show()\n"
      ],
      "execution_count": null,
      "outputs": [
        {
          "output_type": "display_data",
          "data": {
            "image/png": "[encoded data removed]",
            "text/plain": [
              "<Figure size 432x288 with 1 Axes>"
            ]
          },
          "metadata": {
            "tags": [],
            "needs_background": "light"
          }
        }
      ]
    },
    {
      "cell_type": "code",
      "metadata": {
        "id": "fl9wSXbOATGt",
        "colab": {
          "base_uri": "https://localhost:8080/"
        },
        "outputId": "0e46a9d6-8023-41f9-e9cb-26b789f81ee2"
      },
      "source": [
        "non_black_pixels_mask"
      ],
      "execution_count": null,
      "outputs": [
        {
          "output_type": "execute_result",
          "data": {
            "text/plain": [
              "True"
            ]
          },
          "metadata": {
            "tags": []
          },
          "execution_count": 353
        }
      ]
    },
    {
      "cell_type": "code",
      "metadata": {
        "id": "_sqjbNda-MqF",
        "colab": {
          "base_uri": "https://localhost:8080/"
        },
        "outputId": "e1f76578-3e24-4a0d-8c0b-7d99eb8aeac5"
      },
      "source": [
        "cd ../whole_car_mask"
      ],
      "execution_count": null,
      "outputs": [
        {
          "output_type": "stream",
          "text": [
            "/content/drive/My Drive/Deloite_Orientation1/whole_car_mask\n"
          ],
          "name": "stdout"
        }
      ]
    },
    {
      "cell_type": "code",
      "metadata": {
        "id": "EaUvrr31Hc-h",
        "colab": {
          "base_uri": "https://localhost:8080/",
          "height": 286
        },
        "outputId": "afe760f8-4946-4410-83e5-ad9a5bbdcfab"
      },
      "source": [
        "\n",
        "wh1 = cv2.imread('970.jpg')\n",
        "wh1 = cv2.cvtColor(wh1, cv2.COLOR_BGR2RGB)\n",
        "wh1[wh1>150]=255\n",
        "wh1[wh1<=150]=0\n",
        "plt.imshow(wh1)"
      ],
      "execution_count": null,
      "outputs": [
        {
          "output_type": "execute_result",
          "data": {
            "text/plain": [
              "<matplotlib.image.AxesImage at 0x7f05bd6145f8>"
            ]
          },
          "metadata": {
            "tags": []
          },
          "execution_count": 306
        },
        {
          "output_type": "display_data",
          "data": {
            "image/png": "[encoded data removed]",
            "text/plain": [
              "<Figure size 432x288 with 1 Axes>"
            ]
          },
          "metadata": {
            "tags": [],
            "needs_background": "light"
          }
        }
      ]
    },
    {
      "cell_type": "code",
      "metadata": {
        "id": "ynUjuonM4ZGt"
      },
      "source": [
        "non_black_pixels_mask2 = np.any(clean1 != [0, 0, 0], axis=-1)"
      ],
      "execution_count": null,
      "outputs": []
    },
    {
      "cell_type": "code",
      "metadata": {
        "id": "2WsQZHlG25QM",
        "colab": {
          "base_uri": "https://localhost:8080/",
          "height": 286
        },
        "outputId": "6d0d9090-51e6-41cc-bc10-143aba7846ad"
      },
      "source": [
        "plt.imshow(wh1)"
      ],
      "execution_count": null,
      "outputs": [
        {
          "output_type": "execute_result",
          "data": {
            "text/plain": [
              "<matplotlib.image.AxesImage at 0x7f05bb06cb00>"
            ]
          },
          "metadata": {
            "tags": []
          },
          "execution_count": 300
        },
        {
          "output_type": "display_data",
          "data": {
            "image/png": "[encoded data removed]",
            "text/plain": [
              "<Figure size 432x288 with 1 Axes>"
            ]
          },
          "metadata": {
            "tags": [],
            "needs_background": "light"
          }
        }
      ]
    },
    {
      "cell_type": "code",
      "metadata": {
        "id": "iu1IewNl25TK",
        "colab": {
          "base_uri": "https://localhost:8080/",
          "height": 286
        },
        "outputId": "4020fc36-8265-4918-8ad9-cb7fb823b89b"
      },
      "source": [
        "plt.imshow(clean1)"
      ],
      "execution_count": null,
      "outputs": [
        {
          "output_type": "execute_result",
          "data": {
            "text/plain": [
              "<matplotlib.image.AxesImage at 0x7f05bd8f0d68>"
            ]
          },
          "metadata": {
            "tags": []
          },
          "execution_count": 301
        },
        {
          "output_type": "display_data",
          "data": {
            "image/png": "[encoded data removed]",
            "text/plain": [
              "<Figure size 432x288 with 1 Axes>"
            ]
          },
          "metadata": {
            "tags": [],
            "needs_background": "light"
          }
        }
      ]
    },
    {
      "cell_type": "code",
      "metadata": {
        "id": "E-xyUZqyxMz5",
        "colab": {
          "base_uri": "https://localhost:8080/",
          "height": 286
        },
        "outputId": "b79fa38e-4aa3-4ecc-c8be-e02f22ec7d0a"
      },
      "source": [
        "im2 = cv2.imread(only_masks + \"/0.jpg\")\n",
        "im2 = cv2.cvtColor(im2, cv2.COLOR_BGR2RGB)\n",
        "plt.imshow(im2)"
      ],
      "execution_count": null,
      "outputs": [
        {
          "output_type": "execute_result",
          "data": {
            "text/plain": [
              "<matplotlib.image.AxesImage at 0x7f065751b630>"
            ]
          },
          "metadata": {
            "tags": []
          },
          "execution_count": 87
        },
        {
          "output_type": "display_data",
          "data": {
            "image/png": "[encoded data removed]",
            "text/plain": [
              "<Figure size 432x288 with 1 Axes>"
            ]
          },
          "metadata": {
            "tags": [],
            "needs_background": "light"
          }
        }
      ]
    },
    {
      "cell_type": "code",
      "metadata": {
        "id": "E-ho5_yh7QQu",
        "colab": {
          "base_uri": "https://localhost:8080/"
        },
        "outputId": "b05c113e-a06d-4873-b174-695f93e1dd7e"
      },
      "source": [
        "im.shape"
      ],
      "execution_count": null,
      "outputs": [
        {
          "output_type": "execute_result",
          "data": {
            "text/plain": [
              "(256, 256, 3)"
            ]
          },
          "metadata": {
            "tags": []
          },
          "execution_count": 106
        }
      ]
    },
    {
      "cell_type": "code",
      "metadata": {
        "id": "ZqYb0Are9ROh",
        "colab": {
          "base_uri": "https://localhost:8080/",
          "height": 286
        },
        "outputId": "0b130505-abba-491e-a8d4-7e8997c53925"
      },
      "source": [
        "im[im>150]=255\n",
        "im[im<=150]=0\n",
        "plt.imshow(im)"
      ],
      "execution_count": null,
      "outputs": [
        {
          "output_type": "execute_result",
          "data": {
            "text/plain": [
              "<matplotlib.image.AxesImage at 0x7f05bd63f748>"
            ]
          },
          "metadata": {
            "tags": []
          },
          "execution_count": 104
        },
        {
          "output_type": "display_data",
          "data": {
            "image/png": "[encoded data removed]",
            "text/plain": [
              "<Figure size 432x288 with 1 Axes>"
            ]
          },
          "metadata": {
            "tags": [],
            "needs_background": "light"
          }
        }
      ]
    },
    {
      "cell_type": "code",
      "metadata": {
        "id": "6hcjnCrcxM23",
        "colab": {
          "base_uri": "https://localhost:8080/",
          "height": 286
        },
        "outputId": "101cad90-c5ac-410c-e221-a79379974587"
      },
      "source": [
        "im = cv2.imread(whole_cars + \"/0_a.jpg\")\n",
        "#im = cv2.cvtColor(im, cv2.COLOR_BGR2RGB)\n",
        "plt.imshow(im)"
      ],
      "execution_count": null,
      "outputs": [
        {
          "output_type": "execute_result",
          "data": {
            "text/plain": [
              "<matplotlib.image.AxesImage at 0x7f05bd7b4fd0>"
            ]
          },
          "metadata": {
            "tags": []
          },
          "execution_count": 99
        },
        {
          "output_type": "display_data",
          "data": {
            "image/png": "[encoded data removed]",
            "text/plain": [
              "<Figure size 432x288 with 1 Axes>"
            ]
          },
          "metadata": {
            "tags": [],
            "needs_background": "light"
          }
        }
      ]
    },
    {
      "cell_type": "code",
      "metadata": {
        "id": "eZ4j92o7xM5F"
      },
      "source": [
        "flat_a = im.flatten()\n",
        "flat_res = im2.flatten()"
      ],
      "execution_count": null,
      "outputs": []
    },
    {
      "cell_type": "code",
      "metadata": {
        "id": "zlLYTRYbzorC",
        "colab": {
          "base_uri": "https://localhost:8080/",
          "height": 286
        },
        "outputId": "94ce2fbb-47be-49d2-9d75-db03c929d721"
      },
      "source": [
        "mask = (flat_a == 0)\n",
        "new_array = np.copy(flat_a)\n",
        "flat_res[mask] = new_array[mask] \n",
        "res = flat_res.reshape(256,256,3)\n",
        "plt.imshow(res)"
      ],
      "execution_count": null,
      "outputs": [
        {
          "output_type": "execute_result",
          "data": {
            "text/plain": [
              "<matplotlib.image.AxesImage at 0x7f05bdb3f7b8>"
            ]
          },
          "metadata": {
            "tags": []
          },
          "execution_count": 90
        },
        {
          "output_type": "display_data",
          "data": {
            "image/png": "[encoded data removed]",
            "text/plain": [
              "<Figure size 432x288 with 1 Axes>"
            ]
          },
          "metadata": {
            "tags": [],
            "needs_background": "light"
          }
        }
      ]
    },
    {
      "cell_type": "code",
      "metadata": {
        "id": "2vRCvq-62CE-"
      },
      "source": [
        "#Replace the 1 in the numpy array with 3\n",
        "a[a > 0 ] = 255\n",
        "#Transfor the numpy array to uint8 to match the dtype of the res\n",
        "a = a.astype(np.uint8)\n",
        "#add a color channel to the array to match the dimensions of res\n",
        "a = cv2.cvtColor(a, cv2.COLOR_GRAY2BGR)\n",
        "\n",
        "##Flattening th images to engage element wise comparison\n",
        "flat_a = a.flatten()\n",
        "flat_res = res.flatten()\n",
        "\n",
        "#Wherever I see 0 in a image, I want to put 0 in the corresponinf position in the res image\n",
        "\n",
        "mask = (flat_a == 0)\n",
        "new_array = np.copy(flat_a)\n",
        "flat_res[mask] = new_array[mask] \n",
        "res = flat_res.reshape(256,256,3)\n",
        "plt.imshow(res)"
      ],
      "execution_count": null,
      "outputs": []
    },
    {
      "cell_type": "code",
      "metadata": {
        "id": "P30BUENj5ZLT"
      },
      "source": [
        ""
      ],
      "execution_count": null,
      "outputs": []
    },
    {
      "cell_type": "code",
      "metadata": {
        "id": "1nCoYiZG1oYy"
      },
      "source": [
        ""
      ],
      "execution_count": null,
      "outputs": []
    }
  ]
}