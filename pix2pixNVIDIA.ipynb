{
  "nbformat": 4,
  "nbformat_minor": 0,
  "metadata": {
    "colab": {
      "name": "pix2pixNVIDIA.ipynb",
      "provenance": [],
      "authorship_tag": "ABX9TyOgGbIUpKIysVVrrqY9nyUQ",
      "include_colab_link": true
    },
    "kernelspec": {
      "name": "python3",
      "display_name": "Python 3"
    },
    "accelerator": "GPU"
  },
  "cells": [
    {
      "cell_type": "markdown",
      "metadata": {
        "id": "view-in-github",
        "colab_type": "text"
      },
      "source": [
        "<a href=\"https://colab.research.google.com/github/georgezefko/car-part-segmentation/blob/main/pix2pixNVIDIA.ipynb\" target=\"_parent\"><img src=\"https://colab.research.google.com/assets/colab-badge.svg\" alt=\"Open In Colab\"/></a>"
      ]
    },
    {
      "cell_type": "code",
      "metadata": {
        "colab": {
          "base_uri": "https://localhost:8080/"
        },
        "id": "Gs8sdmx5T5Bz",
        "outputId": "fab86a3b-d3bc-4766-ca21-2347d3fbc582"
      },
      "source": [
        "from google.colab import drive\n",
        "drive.mount('/content/drive')"
      ],
      "execution_count": 1,
      "outputs": [
        {
          "output_type": "stream",
          "text": [
            "Mounted at /content/drive\n"
          ],
          "name": "stdout"
        }
      ]
    },
    {
      "cell_type": "code",
      "metadata": {
        "colab": {
          "base_uri": "https://localhost:8080/"
        },
        "id": "y90RxuGeUQEp",
        "outputId": "edee44b3-0218-45af-9995-ecb24e3a02d7"
      },
      "source": [
        "!pip install dominate"
      ],
      "execution_count": 3,
      "outputs": [
        {
          "output_type": "stream",
          "text": [
            "Collecting dominate\n",
            "  Downloading https://files.pythonhosted.org/packages/ef/a8/4354f8122c39e35516a2708746d89db5e339c867abbd8e0179bccee4b7f9/dominate-2.6.0-py2.py3-none-any.whl\n",
            "Installing collected packages: dominate\n",
            "Successfully installed dominate-2.6.0\n"
          ],
          "name": "stdout"
        }
      ]
    },
    {
      "cell_type": "code",
      "metadata": {
        "colab": {
          "base_uri": "https://localhost:8080/"
        },
        "id": "llL8QIqKUa8n",
        "outputId": "959b7fe7-e0b1-477a-9084-665982528a79"
      },
      "source": [
        "%cd /content/drive/My\\ Drive/\n",
        "!mkdir pix2pixHD-colab\n",
        "%cd pix2pixHD-colab/\n",
        "!git clone https://github.com/NVIDIA/pix2pixHD\n",
        "!mkdir datasets\n",
        "%cd datasets\n",
        "!mkdir w"
      ],
      "execution_count": 4,
      "outputs": [
        {
          "output_type": "stream",
          "text": [
            "/content/drive/My Drive\n",
            "mkdir: cannot create directory ‘pix2pixHD-colab’: File exists\n",
            "/content/drive/My Drive/pix2pixHD-colab\n",
            "fatal: destination path 'pix2pixHD' already exists and is not an empty directory.\n",
            "mkdir: cannot create directory ‘datasets’: File exists\n",
            "/content/drive/My Drive/pix2pixHD-colab/datasets\n",
            "mkdir: cannot create directory ‘w’: File exists\n"
          ],
          "name": "stdout"
        }
      ]
    },
    {
      "cell_type": "code",
      "metadata": {
        "colab": {
          "base_uri": "https://localhost:8080/"
        },
        "id": "Xke0A3PwUtno",
        "outputId": "753be216-eea1-4f57-8d78-7ff770414667"
      },
      "source": [
        "%cd /content/drive/My\\ Drive/pix2pixHD-colab/pix2pixHD/"
      ],
      "execution_count": 5,
      "outputs": [
        {
          "output_type": "stream",
          "text": [
            "/content/drive/My Drive/pix2pixHD-colab/pix2pixHD\n"
          ],
          "name": "stdout"
        }
      ]
    },
    {
      "cell_type": "markdown",
      "metadata": {
        "id": "LzfApn8JZjvQ"
      },
      "source": [
        "It gives an error but most likely because the w file is empty"
      ]
    },
    {
      "cell_type": "code",
      "metadata": {
        "colab": {
          "base_uri": "https://localhost:8080/"
        },
        "id": "PUQAZ-k0Ux2W",
        "outputId": "eec20b09-5cdb-4f5c-cf36-ae28406864ee"
      },
      "source": [
        "!python train.py --label_nc 0 --no_instance --name w --dataroot /content/drive/My\\ Drive/pix2pixHD-colab/pix2pixHD/datasets/w --continue_train --display_freq 100 --checkpoints_dir /content/drive/My\\ Drive/pix2pixHD-colab/pix2pixHD/checkpoints --which_epoch latest --save_epoch_freq 10 "
      ],
      "execution_count": 6,
      "outputs": [
        {
          "output_type": "stream",
          "text": [
            "------------ Options -------------\n",
            "batchSize: 1\n",
            "beta1: 0.5\n",
            "checkpoints_dir: /content/drive/My Drive/pix2pixHD-colab/pix2pixHD/checkpoints\n",
            "continue_train: True\n",
            "data_type: 32\n",
            "dataroot: /content/drive/My Drive/pix2pixHD-colab/pix2pixHD/datasets/w\n",
            "debug: False\n",
            "display_freq: 100\n",
            "display_winsize: 512\n",
            "feat_num: 3\n",
            "fineSize: 512\n",
            "fp16: False\n",
            "gpu_ids: [0]\n",
            "input_nc: 3\n",
            "instance_feat: False\n",
            "isTrain: True\n",
            "label_feat: False\n",
            "label_nc: 0\n",
            "lambda_feat: 10.0\n",
            "loadSize: 1024\n",
            "load_features: False\n",
            "load_pretrain: \n",
            "local_rank: 0\n",
            "lr: 0.0002\n",
            "max_dataset_size: inf\n",
            "model: pix2pixHD\n",
            "nThreads: 2\n",
            "n_blocks_global: 9\n",
            "n_blocks_local: 3\n",
            "n_clusters: 10\n",
            "n_downsample_E: 4\n",
            "n_downsample_global: 4\n",
            "n_layers_D: 3\n",
            "n_local_enhancers: 1\n",
            "name: w\n",
            "ndf: 64\n",
            "nef: 16\n",
            "netG: global\n",
            "ngf: 64\n",
            "niter: 100\n",
            "niter_decay: 100\n",
            "niter_fix_global: 0\n",
            "no_flip: False\n",
            "no_ganFeat_loss: False\n",
            "no_html: False\n",
            "no_instance: True\n",
            "no_lsgan: False\n",
            "no_vgg_loss: False\n",
            "norm: instance\n",
            "num_D: 2\n",
            "output_nc: 3\n",
            "phase: train\n",
            "pool_size: 0\n",
            "print_freq: 100\n",
            "resize_or_crop: scale_width\n",
            "save_epoch_freq: 10\n",
            "save_latest_freq: 1000\n",
            "serial_batches: False\n",
            "tf_log: False\n",
            "use_dropout: False\n",
            "verbose: False\n",
            "which_epoch: latest\n",
            "-------------- End ----------------\n",
            "Resuming from epoch 1 at iteration 0\n",
            "CustomDatasetDataLoader\n",
            "dataset [AlignedDataset] was created\n",
            "Traceback (most recent call last):\n",
            "  File \"train.py\", line 36, in <module>\n",
            "    data_loader = CreateDataLoader(opt)\n",
            "  File \"/content/drive/My Drive/pix2pixHD-colab/pix2pixHD/data/data_loader.py\", line 6, in CreateDataLoader\n",
            "    data_loader.initialize(opt)\n",
            "  File \"/content/drive/My Drive/pix2pixHD-colab/pix2pixHD/data/custom_dataset_data_loader.py\", line 20, in initialize\n",
            "    self.dataset = CreateDataset(opt)\n",
            "  File \"/content/drive/My Drive/pix2pixHD-colab/pix2pixHD/data/custom_dataset_data_loader.py\", line 11, in CreateDataset\n",
            "    dataset.initialize(opt)\n",
            "  File \"/content/drive/My Drive/pix2pixHD-colab/pix2pixHD/data/aligned_dataset.py\", line 14, in initialize\n",
            "    self.A_paths = sorted(make_dataset(self.dir_A))\n",
            "  File \"/content/drive/My Drive/pix2pixHD-colab/pix2pixHD/data/image_folder.py\", line 23, in make_dataset\n",
            "    assert os.path.isdir(dir), '%s is not a valid directory' % dir\n",
            "AssertionError: /content/drive/My Drive/pix2pixHD-colab/pix2pixHD/datasets/w/train_A is not a valid directory\n"
          ],
          "name": "stdout"
        }
      ]
    }
  ]
}