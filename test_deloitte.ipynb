{
  "nbformat": 4,
  "nbformat_minor": 0,
  "metadata": {
    "colab": {
      "name": "test_deloitte.ipynb",
      "provenance": [],
      "authorship_tag": "ABX9TyOSywZQ011fhN1NlSfWXiD9",
      "include_colab_link": true
    },
    "kernelspec": {
      "name": "python3",
      "display_name": "Python 3"
    }
  },
  "cells": [
    {
      "cell_type": "markdown",
      "metadata": {
        "id": "view-in-github",
        "colab_type": "text"
      },
      "source": [
        "<a href=\"https://colab.research.google.com/github/georgezefko/car-part-segmentation/blob/main/test_deloitte.ipynb\" target=\"_parent\"><img src=\"https://colab.research.google.com/assets/colab-badge.svg\" alt=\"Open In Colab\"/></a>"
      ]
    },
    {
      "cell_type": "code",
      "metadata": {
        "id": "V7_rUqyMaa51",
        "outputId": "56ec7da1-15b8-4bdd-e80c-de443b4c5fa9",
        "colab": {
          "base_uri": "https://localhost:8080/"
        }
      },
      "source": [
        "from google.colab import drive\n",
        "drive.mount('/content/drive', force_remount=True)"
      ],
      "execution_count": null,
      "outputs": [
        {
          "output_type": "stream",
          "text": [
            "Mounted at /content/drive\n"
          ],
          "name": "stdout"
        }
      ]
    },
    {
      "cell_type": "code",
      "metadata": {
        "id": "rUyu2nxvaqeX",
        "outputId": "550bc8c0-f6b0-4060-d45a-f28d48904f65",
        "colab": {
          "base_uri": "https://localhost:8080/",
          "height": 52
        }
      },
      "source": [
        "\n",
        "%cd './drive/My Drive/Deloitte/car-part-segmentation'\n",
        "%pwd"
      ],
      "execution_count": null,
      "outputs": [
        {
          "output_type": "stream",
          "text": [
            "/content/drive/My Drive/Deloitte/car-part-segmentation\n"
          ],
          "name": "stdout"
        },
        {
          "output_type": "execute_result",
          "data": {
            "application/vnd.google.colaboratory.intrinsic+json": {
              "type": "string"
            },
            "text/plain": [
              "'/content/drive/My Drive/Deloitte/car-part-segmentation'"
            ]
          },
          "metadata": {
            "tags": []
          },
          "execution_count": 2
        }
      ]
    },
    {
      "cell_type": "code",
      "metadata": {
        "id": "0_HN9n8TbCoX"
      },
      "source": [
        "path = '/content/drive/My Drive/final_data/'\n"
      ],
      "execution_count": 7,
      "outputs": []
    },
    {
      "cell_type": "code",
      "metadata": {
        "id": "oC689WrhhIhH"
      },
      "source": [
        "import pandas as pd\n",
        "import matplotlib.pyplot as plt\n",
        "import matplotlib.colors as mcolors"
      ],
      "execution_count": 9,
      "outputs": []
    },
    {
      "cell_type": "code",
      "metadata": {
        "id": "NZdkMOURhKIi"
      },
      "source": [
        "h1n1 = pd.read_csv(path + \"H1N12009.csv\", encoding='latin1') # 7288, (Country, Cases, Deaths, Update time)\n",
        "cov19 = pd.read_csv(path + \"covid_19_clean_complete.csv\") # 144840 (State, Country, Lat, Long, Date, Confirmed, Deaths, Recovered)\n",
        "ebola = pd.read_csv(path + \"ebola_2014_2016_clean.csv\") # 24850 (Country, Date, Cnfirmed cases, Death cases)\n",
        "sars = pd.read_csv(path + \"sars_2003_clean.csv\") # 12690 ('Date','Country','Cumulative number of case(s)','Number of deaths','Number recovered')"
      ],
      "execution_count": 10,
      "outputs": []
    },
    {
      "cell_type": "code",
      "metadata": {
        "id": "k9_0QjbwhRML",
        "outputId": "df4d805f-612f-47da-a865-cae9a0ce2ee3",
        "colab": {
          "base_uri": "https://localhost:8080/"
        }
      },
      "source": [
        "cov19 = cov19[['Date', 'Country/Region', 'Confirmed', 'Deaths', 'Recovered']]\n",
        "cov19['Country/Region'] = cov19['Country/Region'].replace('Mainland China', 'China')\n",
        "cov19.columns = ['Date', 'Country', 'Cases', 'Deaths', 'Recovered']\n",
        "cov19 = cov19.groupby(['Date', 'Country'])['Cases', 'Deaths', 'Recovered']\n",
        "cov19 = cov19.sum().reset_index()"
      ],
      "execution_count": 11,
      "outputs": [
        {
          "output_type": "stream",
          "text": [
            "/usr/local/lib/python3.6/dist-packages/ipykernel_launcher.py:4: FutureWarning: Indexing with multiple keys (implicitly converted to a tuple of keys) will be deprecated, use a list instead.\n",
            "  after removing the cwd from sys.path.\n"
          ],
          "name": "stderr"
        }
      ]
    },
    {
      "cell_type": "code",
      "metadata": {
        "id": "oTwQxMAGhWjI",
        "outputId": "560ec0bb-bec5-4def-cc1b-7e5b542aca69",
        "colab": {
          "base_uri": "https://localhost:8080/"
        }
      },
      "source": [
        "ebola = ebola[['Date', 'Country', 'No. of confirmed, probable and suspected cases',\n",
        "                     'No. of confirmed, probable and suspected deaths']]\n",
        "ebola.columns = ['Date', 'Country', 'Cases', 'Deaths']\n",
        "ebola = ebola.groupby(['Date', 'Country'])['Cases', 'Deaths']\n",
        "ebola = ebola.sum().reset_index()\n",
        "ebola['Cases'] = ebola['Cases'].fillna(0)\n",
        "ebola['Deaths'] = ebola['Deaths'].fillna(0)\n",
        "ebola['Cases'] = ebola['Cases'].astype('int')\n",
        "ebola['Deaths'] = ebola['Deaths'].astype('int')"
      ],
      "execution_count": 12,
      "outputs": [
        {
          "output_type": "stream",
          "text": [
            "/usr/local/lib/python3.6/dist-packages/ipykernel_launcher.py:4: FutureWarning: Indexing with multiple keys (implicitly converted to a tuple of keys) will be deprecated, use a list instead.\n",
            "  after removing the cwd from sys.path.\n"
          ],
          "name": "stderr"
        }
      ]
    },
    {
      "cell_type": "code",
      "metadata": {
        "id": "f-UU0QnnhaI4",
        "outputId": "6f30d2cc-e569-49c1-e435-2f1645d4a754",
        "colab": {
          "base_uri": "https://localhost:8080/"
        }
      },
      "source": [
        "sars = sars[['Date', 'Country', 'Cumulative number of case(s)', \n",
        "                   'Number of deaths', 'Number recovered']]\n",
        "sars.columns = ['Date', 'Country', 'Cases', 'Deaths', 'Recovered']\n",
        "sars = sars.groupby(['Date', 'Country'])['Cases', 'Deaths', 'Recovered']\n",
        "sars = sars.sum().reset_index()"
      ],
      "execution_count": 13,
      "outputs": [
        {
          "output_type": "stream",
          "text": [
            "/usr/local/lib/python3.6/dist-packages/ipykernel_launcher.py:4: FutureWarning: Indexing with multiple keys (implicitly converted to a tuple of keys) will be deprecated, use a list instead.\n",
            "  after removing the cwd from sys.path.\n"
          ],
          "name": "stderr"
        }
      ]
    },
    {
      "cell_type": "code",
      "metadata": {
        "id": "Thm57s0Ehf0L",
        "outputId": "df996a17-3b5e-46f9-ddae-3f09ff98c826",
        "colab": {
          "base_uri": "https://localhost:8080/"
        }
      },
      "source": [
        "h1n1 = h1n1[['Update Time', 'Country', 'Cases', 'Deaths']]\n",
        "h1n1.columns = ['Date', 'Country', 'Cases', 'Deaths']\n",
        "h1n1 = h1n1.groupby(['Date', 'Country'])['Cases', 'Deaths']\n",
        "h1n1 = h1n1.sum().reset_index()"
      ],
      "execution_count": 14,
      "outputs": [
        {
          "output_type": "stream",
          "text": [
            "/usr/local/lib/python3.6/dist-packages/ipykernel_launcher.py:3: FutureWarning: Indexing with multiple keys (implicitly converted to a tuple of keys) will be deprecated, use a list instead.\n",
            "  This is separate from the ipykernel package so we can avoid doing imports until\n"
          ],
          "name": "stderr"
        }
      ]
    },
    {
      "cell_type": "code",
      "metadata": {
        "id": "sjgqh3Yihikk"
      },
      "source": [
        "diseases = {\n",
        "    'H1N1': h1n1,\n",
        "    'EBOLA': ebola, \n",
        "    'SARS': sars, \n",
        "    'nCovid 19': cov19\n",
        "}"
      ],
      "execution_count": 15,
      "outputs": []
    },
    {
      "cell_type": "code",
      "metadata": {
        "id": "NBOgDC1PhkOK",
        "outputId": "11c1dc16-832c-451a-e178-9337c0302461",
        "colab": {
          "base_uri": "https://localhost:8080/"
        }
      },
      "source": [
        "for dis in diseases.values():\n",
        "    print(dis.head())"
      ],
      "execution_count": 16,
      "outputs": [
        {
          "output_type": "stream",
          "text": [
            "             Date    Country  Cases  Deaths\n",
            "0  5/23/2009 8:00  Argentina      1     0.0\n",
            "1  5/23/2009 8:00  Australia     12     0.0\n",
            "2  5/23/2009 8:00    Austria      1     0.0\n",
            "3  5/23/2009 8:00    Belgium      7     0.0\n",
            "4  5/23/2009 8:00     Brazil      8     0.0\n",
            "         Date       Country  Cases  Deaths\n",
            "0  2014-08-29        Guinea    648     430\n",
            "1  2014-08-29       Liberia   1378     694\n",
            "2  2014-08-29       Nigeria     19       7\n",
            "3  2014-08-29  Sierra Leone   1026     422\n",
            "4  2014-09-05        Guinea    812     517\n",
            "         Date               Country  Cases  Deaths  Recovered\n",
            "0  2003-03-17                Canada      8       2          0\n",
            "1  2003-03-17               Germany      1       0          0\n",
            "2  2003-03-17  Hong Kong SAR, China     95       1          0\n",
            "3  2003-03-17             Singapore     20       0          0\n",
            "4  2003-03-17           Switzerland      2       0          0\n",
            "      Date      Country  Cases  Deaths  Recovered\n",
            "0  1/22/20  Afghanistan      0       0          0\n",
            "1  1/22/20      Albania      0       0          0\n",
            "2  1/22/20      Algeria      0       0          0\n",
            "3  1/22/20      Andorra      0       0          0\n",
            "4  1/22/20       Angola      0       0          0\n"
          ],
          "name": "stdout"
        }
      ]
    },
    {
      "cell_type": "code",
      "metadata": {
        "id": "534YFA4AhrNz"
      },
      "source": [
        "!git add . "
      ],
      "execution_count": 17,
      "outputs": []
    }
  ]
}